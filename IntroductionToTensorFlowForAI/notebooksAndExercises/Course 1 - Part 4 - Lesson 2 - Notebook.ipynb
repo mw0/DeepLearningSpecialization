{
 "cells": [
  {
   "cell_type": "markdown",
   "metadata": {
    "colab_type": "text",
    "id": "qnyTxjK_GbOD"
   },
   "source": [
    "# Beyond Hello World, A Computer Vision Example\n",
    "In the previous exercise you saw how to create a neural network that figured out the problem you were trying to solve. This gave an explicit example of learned behavior. Of course, in that instance, it was a bit of overkill because it would have been easier to write the function Y=2x-1 directly, instead of bothering with using Machine Learning to learn the relationship between X and Y for a fixed set of values, and extending that for all values.\n",
    "\n",
    "But what about a scenario where writing rules like that is much more difficult -- for example a computer vision problem? Let's take a look at a scenario where we can recognize different items of clothing, trained from a dataset containing 10 different types."
   ]
  },
  {
   "cell_type": "code",
   "execution_count": 1,
   "metadata": {
    "colab": {
     "base_uri": "https://localhost:8080/",
     "height": 34
    },
    "colab_type": "code",
    "executionInfo": {
     "elapsed": 1577,
     "status": "ok",
     "timestamp": 1550587660097,
     "user": {
      "displayName": "Laurence Moroney",
      "photoUrl": "https://lh3.googleusercontent.com/-RcxktLY-TBk/AAAAAAAAAAI/AAAAAAAAABY/b4V4dTIqmPI/s64/photo.jpg",
      "userId": "06401446828348966425"
     },
     "user_tz": 480
    },
    "id": "q3KzJyjv3rnA",
    "outputId": "7a1ceed7-66f6-4a43-b3f4-26d54bd95817"
   },
   "outputs": [
    {
     "name": "stdout",
     "output_type": "stream",
     "text": [
      "1.14.0\n"
     ]
    }
   ],
   "source": [
    "import tensorflow as tf\n",
    "print(tf.__version__)\n",
    "\n",
    "from time import time\n",
    "from timeit import default_timer"
   ]
  },
  {
   "cell_type": "markdown",
   "metadata": {},
   "source": [
    "#### To ensure reproducibility, set a bunch of random seed values\n",
    "\n",
    "***Note: TensorFlow will not produce reproducible results if using a GPU!***"
   ]
  },
  {
   "cell_type": "code",
   "execution_count": 2,
   "metadata": {},
   "outputs": [],
   "source": [
    "# Seed value\n",
    "# Apparently you may use different seed values at each stage\n",
    "seed_value= 0\n",
    "\n",
    "# 1. Set `PYTHONHASHSEED` environment variable at a fixed value\n",
    "import os\n",
    "os.environ['PYTHONHASHSEED']=str(seed_value)\n",
    "\n",
    "# 2. Set `python` built-in pseudo-random generator at a fixed value\n",
    "import random\n",
    "random.seed(seed_value)\n",
    "\n",
    "# 3. Set `numpy` pseudo-random generator at a fixed value\n",
    "import numpy as np\n",
    "np.random.seed(seed_value)\n",
    "\n",
    "# 4. Set `tensorflow` pseudo-random generator at a fixed value\n",
    "tf.set_random_seed(seed_value)"
   ]
  },
  {
   "cell_type": "markdown",
   "metadata": {
    "colab_type": "text",
    "id": "H41FYgtlHPjW"
   },
   "source": [
    "## Start Coding\n",
    "\n",
    "Let's start with our import of TensorFlow"
   ]
  },
  {
   "cell_type": "markdown",
   "metadata": {
    "colab_type": "text",
    "id": "n_n1U5do3u_F"
   },
   "source": [
    "The Fashion MNIST data is available directly in the tf.keras datasets API. You load it like this:"
   ]
  },
  {
   "cell_type": "code",
   "execution_count": 3,
   "metadata": {
    "colab": {},
    "colab_type": "code",
    "id": "PmxkHFpt31bM"
   },
   "outputs": [],
   "source": [
    "mnist = tf.keras.datasets.fashion_mnist"
   ]
  },
  {
   "cell_type": "markdown",
   "metadata": {
    "colab_type": "text",
    "id": "GuoLQQBT4E-_"
   },
   "source": [
    "Calling load_data on this object will give you two sets of two lists, these will be the training and testing values for the graphics that contain the clothing items and their labels.\n"
   ]
  },
  {
   "cell_type": "code",
   "execution_count": 4,
   "metadata": {
    "colab": {
     "base_uri": "https://localhost:8080/",
     "height": 204
    },
    "colab_type": "code",
    "executionInfo": {
     "elapsed": 1381,
     "status": "ok",
     "timestamp": 1550587667916,
     "user": {
      "displayName": "Laurence Moroney",
      "photoUrl": "https://lh3.googleusercontent.com/-RcxktLY-TBk/AAAAAAAAAAI/AAAAAAAAABY/b4V4dTIqmPI/s64/photo.jpg",
      "userId": "06401446828348966425"
     },
     "user_tz": 480
    },
    "id": "BTdRgExe4TRB",
    "outputId": "104aab14-aa09-4ed2-806c-38807fbac030"
   },
   "outputs": [],
   "source": [
    "(training_images, training_labels), (test_images, test_labels) = mnist.load_data()"
   ]
  },
  {
   "cell_type": "markdown",
   "metadata": {
    "colab_type": "text",
    "id": "rw395ROx4f5Q"
   },
   "source": [
    "What does these values look like? Let's print a training image, and a training label to see...Experiment with different indices in the array. For example, also take a look at index 42...that's a a different boot than the one at index 0\n"
   ]
  },
  {
   "cell_type": "code",
   "execution_count": 5,
   "metadata": {
    "colab": {
     "base_uri": "https://localhost:8080/",
     "height": 1238
    },
    "colab_type": "code",
    "executionInfo": {
     "elapsed": 357,
     "status": "ok",
     "timestamp": 1550587722332,
     "user": {
      "displayName": "Laurence Moroney",
      "photoUrl": "https://lh3.googleusercontent.com/-RcxktLY-TBk/AAAAAAAAAAI/AAAAAAAAABY/b4V4dTIqmPI/s64/photo.jpg",
      "userId": "06401446828348966425"
     },
     "user_tz": 480
    },
    "id": "FPc9d3gJ3jWF",
    "outputId": "5efae963-162d-4418-c001-2e8d6af83f40"
   },
   "outputs": [
    {
     "name": "stdout",
     "output_type": "stream",
     "text": [
      "9\n",
      "[[  0   0   0   0   0   0   0   0   0   0   0   0   0   0   0   0   0   0\n",
      "    0   0   0   0   0   0   0   0   0   0]\n",
      " [  0   0   0   0   0   0   0   0   0   0   0   0   0   0   0   0   0   0\n",
      "    0   0   0   0   0   0   0   0   0   0]\n",
      " [  0   0   0   0   0   0   0   0   0   0   0   0   0   0   0   0   0   0\n",
      "    0   0   0   0   0   0   0   0   0   0]\n",
      " [  0   0   0   0   0   0   0   0   0   0   0   0   1   0   0  13  73   0\n",
      "    0   1   4   0   0   0   0   1   1   0]\n",
      " [  0   0   0   0   0   0   0   0   0   0   0   0   3   0  36 136 127  62\n",
      "   54   0   0   0   1   3   4   0   0   3]\n",
      " [  0   0   0   0   0   0   0   0   0   0   0   0   6   0 102 204 176 134\n",
      "  144 123  23   0   0   0   0  12  10   0]\n",
      " [  0   0   0   0   0   0   0   0   0   0   0   0   0   0 155 236 207 178\n",
      "  107 156 161 109  64  23  77 130  72  15]\n",
      " [  0   0   0   0   0   0   0   0   0   0   0   1   0  69 207 223 218 216\n",
      "  216 163 127 121 122 146 141  88 172  66]\n",
      " [  0   0   0   0   0   0   0   0   0   1   1   1   0 200 232 232 233 229\n",
      "  223 223 215 213 164 127 123 196 229   0]\n",
      " [  0   0   0   0   0   0   0   0   0   0   0   0   0 183 225 216 223 228\n",
      "  235 227 224 222 224 221 223 245 173   0]\n",
      " [  0   0   0   0   0   0   0   0   0   0   0   0   0 193 228 218 213 198\n",
      "  180 212 210 211 213 223 220 243 202   0]\n",
      " [  0   0   0   0   0   0   0   0   0   1   3   0  12 219 220 212 218 192\n",
      "  169 227 208 218 224 212 226 197 209  52]\n",
      " [  0   0   0   0   0   0   0   0   0   0   6   0  99 244 222 220 218 203\n",
      "  198 221 215 213 222 220 245 119 167  56]\n",
      " [  0   0   0   0   0   0   0   0   0   4   0   0  55 236 228 230 228 240\n",
      "  232 213 218 223 234 217 217 209  92   0]\n",
      " [  0   0   1   4   6   7   2   0   0   0   0   0 237 226 217 223 222 219\n",
      "  222 221 216 223 229 215 218 255  77   0]\n",
      " [  0   3   0   0   0   0   0   0   0  62 145 204 228 207 213 221 218 208\n",
      "  211 218 224 223 219 215 224 244 159   0]\n",
      " [  0   0   0   0  18  44  82 107 189 228 220 222 217 226 200 205 211 230\n",
      "  224 234 176 188 250 248 233 238 215   0]\n",
      " [  0  57 187 208 224 221 224 208 204 214 208 209 200 159 245 193 206 223\n",
      "  255 255 221 234 221 211 220 232 246   0]\n",
      " [  3 202 228 224 221 211 211 214 205 205 205 220 240  80 150 255 229 221\n",
      "  188 154 191 210 204 209 222 228 225   0]\n",
      " [ 98 233 198 210 222 229 229 234 249 220 194 215 217 241  65  73 106 117\n",
      "  168 219 221 215 217 223 223 224 229  29]\n",
      " [ 75 204 212 204 193 205 211 225 216 185 197 206 198 213 240 195 227 245\n",
      "  239 223 218 212 209 222 220 221 230  67]\n",
      " [ 48 203 183 194 213 197 185 190 194 192 202 214 219 221 220 236 225 216\n",
      "  199 206 186 181 177 172 181 205 206 115]\n",
      " [  0 122 219 193 179 171 183 196 204 210 213 207 211 210 200 196 194 191\n",
      "  195 191 198 192 176 156 167 177 210  92]\n",
      " [  0   0  74 189 212 191 175 172 175 181 185 188 189 188 193 198 204 209\n",
      "  210 210 211 188 188 194 192 216 170   0]\n",
      " [  2   0   0   0  66 200 222 237 239 242 246 243 244 221 220 193 191 179\n",
      "  182 182 181 176 166 168  99  58   0   0]\n",
      " [  0   0   0   0   0   0   0  40  61  44  72  41  35   0   0   0   0   0\n",
      "    0   0   0   0   0   0   0   0   0   0]\n",
      " [  0   0   0   0   0   0   0   0   0   0   0   0   0   0   0   0   0   0\n",
      "    0   0   0   0   0   0   0   0   0   0]\n",
      " [  0   0   0   0   0   0   0   0   0   0   0   0   0   0   0   0   0   0\n",
      "    0   0   0   0   0   0   0   0   0   0]]\n"
     ]
    }
   ],
   "source": [
    "import matplotlib.pyplot as plt\n",
    "plt.imshow(training_images[0])\n",
    "print(training_labels[0])\n",
    "print(training_images[0])"
   ]
  },
  {
   "cell_type": "markdown",
   "metadata": {
    "colab_type": "text",
    "id": "3cbrdH225_nH"
   },
   "source": [
    "You'll notice that all of the values in the number are between 0 and 255. If we are training a neural network, for various reasons it's easier if we treat all values as between 0 and 1, a process called '**normalizing**'...and fortunately in Python it's easy to normalize a list like this without looping. You do it like this:"
   ]
  },
  {
   "cell_type": "code",
   "execution_count": 6,
   "metadata": {
    "colab": {},
    "colab_type": "code",
    "id": "kRH19pWs6ZDn"
   },
   "outputs": [],
   "source": [
    "training_images  = training_images / 255.0\n",
    "test_images = test_images / 255.0"
   ]
  },
  {
   "cell_type": "markdown",
   "metadata": {
    "colab_type": "text",
    "id": "3DkO0As46lRn"
   },
   "source": [
    "Now you might be wondering why there are 2 sets...training and testing -- remember we spoke about this in the intro? The idea is to have 1 set of data for training, and then another set of data...that the model hasn't yet seen...to see how good it would be at classifying values. After all, when you're done, you're going to want to try it out with data that it hadn't previously seen!"
   ]
  },
  {
   "cell_type": "markdown",
   "metadata": {
    "colab_type": "text",
    "id": "dIn7S9gf62ie"
   },
   "source": [
    "Let's now design the model. There's quite a few new concepts here, but don't worry, you'll get the hang of them. "
   ]
  },
  {
   "cell_type": "code",
   "execution_count": 7,
   "metadata": {
    "colab": {},
    "colab_type": "code",
    "id": "7mAyndG3kVlK"
   },
   "outputs": [
    {
     "name": "stderr",
     "output_type": "stream",
     "text": [
      "WARNING: Logging before flag parsing goes to stderr.\n",
      "W0722 19:22:16.357183 140673396463424 deprecation.py:506] From /usr/local/lib/python3.7/site-packages/tensorflow/python/ops/init_ops.py:1251: calling VarianceScaling.__init__ (from tensorflow.python.ops.init_ops) with dtype is deprecated and will be removed in a future version.\n",
      "Instructions for updating:\n",
      "Call initializer instance with the dtype argument instead of passing it to the constructor\n"
     ]
    }
   ],
   "source": [
    "model = tf.keras.models.Sequential([tf.keras.layers.Flatten(), \n",
    "                                    tf.keras.layers.Dense(128, activation=tf.nn.relu), \n",
    "                                    tf.keras.layers.Dense(10, activation=tf.nn.softmax)])"
   ]
  },
  {
   "cell_type": "markdown",
   "metadata": {
    "colab_type": "text",
    "id": "-lUcWaiX7MFj"
   },
   "source": [
    "**Sequential**: That defines a SEQUENCE of layers in the neural network\n",
    "\n",
    "**Flatten**: Remember earlier where our images were a square, when you printed them out? Flatten just takes that square and turns it into a 1 dimensional set.\n",
    "\n",
    "**Dense**: Adds a layer of neurons\n",
    "\n",
    "Each layer of neurons need an **activation function** to tell them what to do. There's lots of options, but just use these for now. \n",
    "\n",
    "**Relu** effectively means \"If X>0 return X, else return 0\" -- so what it does it it only passes values 0 or greater to the next layer in the network.\n",
    "\n",
    "**Softmax** takes a set of values, and effectively picks the biggest one, so, for example, if the output of the last layer looks like [0.1, 0.1, 0.05, 0.1, 9.5, 0.1, 0.05, 0.05, 0.05], it saves you from fishing through it looking for the biggest value, and turns it into [0,0,0,0,1,0,0,0,0] -- The goal is to save a lot of coding!\n"
   ]
  },
  {
   "cell_type": "markdown",
   "metadata": {
    "colab_type": "text",
    "id": "c8vbMCqb9Mh6"
   },
   "source": [
    "The next thing to do, now the model is defined, is to actually build it. You do this by compiling it with an optimizer and loss function as before -- and then you train it by calling **model.fit ** asking it to fit your training data to your training labels -- i.e. have it figure out the relationship between the training data and its actual labels, so in future if you have data that looks like the training data, then it can make a prediction for what that data would look like. "
   ]
  },
  {
   "cell_type": "code",
   "execution_count": 8,
   "metadata": {
    "colab": {
     "base_uri": "https://localhost:8080/",
     "height": 204
    },
    "colab_type": "code",
    "executionInfo": {
     "elapsed": 29548,
     "status": "ok",
     "timestamp": 1550587849991,
     "user": {
      "displayName": "Laurence Moroney",
      "photoUrl": "https://lh3.googleusercontent.com/-RcxktLY-TBk/AAAAAAAAAAI/AAAAAAAAABY/b4V4dTIqmPI/s64/photo.jpg",
      "userId": "06401446828348966425"
     },
     "user_tz": 480
    },
    "id": "BLMdl9aP8nQ0",
    "outputId": "91a80606-f0a5-41f0-9d03-91d1ecdc8e17"
   },
   "outputs": [
    {
     "name": "stdout",
     "output_type": "stream",
     "text": [
      "Epoch 1/25\n",
      "60000/60000 [==============================] - 4s 59us/sample - loss: 0.5005 - acc: 0.8220\n",
      "Epoch 2/25\n",
      "60000/60000 [==============================] - 4s 63us/sample - loss: 0.3766 - acc: 0.8647\n",
      "Epoch 3/25\n",
      "60000/60000 [==============================] - 4s 60us/sample - loss: 0.3353 - acc: 0.8776\n",
      "Epoch 4/25\n",
      "60000/60000 [==============================] - 3s 58us/sample - loss: 0.3127 - acc: 0.8848\n",
      "Epoch 5/25\n",
      "60000/60000 [==============================] - 4s 60us/sample - loss: 0.2927 - acc: 0.8917\n",
      "Epoch 6/25\n",
      "60000/60000 [==============================] - 4s 59us/sample - loss: 0.2788 - acc: 0.8970\n",
      "Epoch 7/25\n",
      "60000/60000 [==============================] - 4s 60us/sample - loss: 0.2654 - acc: 0.9015\n",
      "Epoch 8/25\n",
      "60000/60000 [==============================] - 3s 58us/sample - loss: 0.2564 - acc: 0.9039\n",
      "Epoch 9/25\n",
      "60000/60000 [==============================] - 4s 59us/sample - loss: 0.2454 - acc: 0.9074\n",
      "Epoch 10/25\n",
      "60000/60000 [==============================] - 4s 60us/sample - loss: 0.2396 - acc: 0.9110\n",
      "Epoch 11/25\n",
      "60000/60000 [==============================] - 4s 62us/sample - loss: 0.2301 - acc: 0.9131\n",
      "Epoch 12/25\n",
      "60000/60000 [==============================] - 4s 60us/sample - loss: 0.2237 - acc: 0.9148\n",
      "Epoch 13/25\n",
      "60000/60000 [==============================] - 4s 61us/sample - loss: 0.2154 - acc: 0.9195\n",
      "Epoch 14/25\n",
      "60000/60000 [==============================] - 4s 61us/sample - loss: 0.2096 - acc: 0.9213\n",
      "Epoch 15/25\n",
      "60000/60000 [==============================] - 4s 61us/sample - loss: 0.2039 - acc: 0.9233\n",
      "Epoch 16/25\n",
      "60000/60000 [==============================] - 4s 59us/sample - loss: 0.1971 - acc: 0.9251\n",
      "Epoch 17/25\n",
      "60000/60000 [==============================] - 4s 60us/sample - loss: 0.1929 - acc: 0.9278\n",
      "Epoch 18/25\n",
      "60000/60000 [==============================] - 3s 58us/sample - loss: 0.1880 - acc: 0.9285\n",
      "Epoch 19/25\n",
      "60000/60000 [==============================] - 4s 63us/sample - loss: 0.1833 - acc: 0.9298\n",
      "Epoch 20/25\n",
      "60000/60000 [==============================] - 4s 60us/sample - loss: 0.1791 - acc: 0.9314\n",
      "Epoch 21/25\n",
      "60000/60000 [==============================] - 4s 62us/sample - loss: 0.1738 - acc: 0.9348\n",
      "Epoch 22/25\n",
      "60000/60000 [==============================] - 4s 62us/sample - loss: 0.1700 - acc: 0.9361\n",
      "Epoch 23/25\n",
      "60000/60000 [==============================] - 4s 61us/sample - loss: 0.1678 - acc: 0.9371\n",
      "Epoch 24/25\n",
      "60000/60000 [==============================] - 4s 61us/sample - loss: 0.1621 - acc: 0.9390\n",
      "Epoch 25/25\n",
      "60000/60000 [==============================] - 4s 59us/sample - loss: 0.1608 - acc: 0.9396\n",
      "model fit Δt: 1m, 30.66973352432251s.\n"
     ]
    }
   ],
   "source": [
    "model.compile(optimizer = tf.train.AdamOptimizer(),\n",
    "              loss = 'sparse_categorical_crossentropy',\n",
    "              metrics=['accuracy'])\n",
    "\n",
    "t0 = time()\n",
    "model.fit(training_images, training_labels, epochs=25)\n",
    "Δt = time() - t0\n",
    "print(f\"\\nmodel fit Δt: {int(Δt//60)}m, {Δt % 60.0:4.1f}s.\")"
   ]
  },
  {
   "cell_type": "markdown",
   "metadata": {
    "colab_type": "text",
    "id": "-JJMsvSB-1UY"
   },
   "source": [
    "Once it's done training -- you should see an accuracy value at the end of the final epoch. It might look something like 0.9098. This tells you that your neural network is about 91% accurate in classifying the training data. I.E., it figured out a pattern match between the image and the labels that worked 91% of the time. Not great, but not bad considering it was only trained for 5 epochs and done quite quickly.\n",
    "\n",
    "But how would it work with unseen data? That's why we have the test images. We can call model.evaluate, and pass in the two sets, and it will report back the loss for each. Let's give it a try:"
   ]
  },
  {
   "cell_type": "code",
   "execution_count": 9,
   "metadata": {
    "colab": {
     "base_uri": "https://localhost:8080/",
     "height": 51
    },
    "colab_type": "code",
    "executionInfo": {
     "elapsed": 832,
     "status": "ok",
     "timestamp": 1550587895553,
     "user": {
      "displayName": "Laurence Moroney",
      "photoUrl": "https://lh3.googleusercontent.com/-RcxktLY-TBk/AAAAAAAAAAI/AAAAAAAAABY/b4V4dTIqmPI/s64/photo.jpg",
      "userId": "06401446828348966425"
     },
     "user_tz": 480
    },
    "id": "WzlqsEzX9s5P",
    "outputId": "4dd8018a-f3ba-4e5b-e163-3d4f5dd12f19"
   },
   "outputs": [
    {
     "name": "stdout",
     "output_type": "stream",
     "text": [
      "10000/10000 [==============================] - 0s 33us/sample - loss: 0.3956 - acc: 0.8832\n"
     ]
    },
    {
     "data": {
      "text/plain": [
       "[0.3956207452893257, 0.8832]"
      ]
     },
     "execution_count": 9,
     "metadata": {},
     "output_type": "execute_result"
    }
   ],
   "source": [
    "model.evaluate(test_images, test_labels)"
   ]
  },
  {
   "cell_type": "markdown",
   "metadata": {
    "colab_type": "text",
    "id": "6tki-Aro_Uax"
   },
   "source": [
    "For me, that returned a accuracy of about .8838, which means it was about 88% accurate. As expected it probably would not do as well with *unseen* data as it did with data it was trained on!  As you go through this course, you'll look at ways to improve this. \n",
    "\n",
    "To explore further, try the below exercises:\n"
   ]
  },
  {
   "cell_type": "markdown",
   "metadata": {
    "colab_type": "text",
    "id": "htldZNWcIPSN"
   },
   "source": [
    "# Exploration Exercises"
   ]
  },
  {
   "cell_type": "markdown",
   "metadata": {
    "colab_type": "text",
    "id": "rquQqIx4AaGR"
   },
   "source": [
    "### Exercise 1:\n",
    "For this first exercise run the below code: It creates a set of classifications for each of the test images, and then prints the first entry in the classifications. The output, after you run it is a list of numbers. Why do you think this is, and what do those numbers represent? "
   ]
  },
  {
   "cell_type": "code",
   "execution_count": 10,
   "metadata": {
    "colab": {},
    "colab_type": "code",
    "id": "RyEIki0z_hAD"
   },
   "outputs": [
    {
     "name": "stdout",
     "output_type": "stream",
     "text": [
      "[1.5770331e-11 4.1191679e-11 3.8599857e-12 1.6767428e-15 1.0556020e-15\n",
      " 2.2329674e-07 2.2510032e-12 8.7730652e-05 3.8850845e-12 9.9991202e-01]\n"
     ]
    }
   ],
   "source": [
    "classifications = model.predict(test_images)\n",
    "\n",
    "print(classifications[0])"
   ]
  },
  {
   "cell_type": "markdown",
   "metadata": {
    "colab_type": "text",
    "id": "MdzqbQhRArzm"
   },
   "source": [
    "Hint: try running print(test_labels[0]) -- and you'll get a 9. Does that help you understand why this list looks the way it does? "
   ]
  },
  {
   "cell_type": "code",
   "execution_count": 11,
   "metadata": {
    "colab": {},
    "colab_type": "code",
    "id": "WnBGOrMiA1n5"
   },
   "outputs": [
    {
     "name": "stdout",
     "output_type": "stream",
     "text": [
      "9\n"
     ]
    }
   ],
   "source": [
    "print(test_labels[0])"
   ]
  },
  {
   "cell_type": "markdown",
   "metadata": {
    "colab_type": "text",
    "id": "uUs7eqr7uSvs"
   },
   "source": [
    "#### Question 1. What does this list represent?\n",
    "\n",
    "\n",
    "1.   It's 10 random meaningless values\n",
    "2.   It's the first 10 classifications that the computer made\n",
    "3.   It's the probability that this item is each of the 10 classes\n",
    "\n"
   ]
  },
  {
   "cell_type": "markdown",
   "metadata": {
    "colab_type": "text",
    "id": "wAbr92RTA67u"
   },
   "source": [
    "#### Answer: \n",
    "The correct answer is (3)\n",
    "\n",
    "The output of the model is a list of 10 numbers. These numbers are a probability that the value being classified is the corresponding value, i.e. the first value in the list is the probability that the clothing item is of class '0', the next is a '1' etc. Notice that they are all VERY LOW probabilities.\n",
    "\n",
    "For the 9, the probability was .996, i.e. the neural network is telling us that it's almost certainly belongs to class 9."
   ]
  },
  {
   "cell_type": "markdown",
   "metadata": {
    "colab_type": "text",
    "id": "CD4kC6TBu-69"
   },
   "source": [
    "#### Question 2. How do you know that this list tells you that the item is an ankle boot?\n",
    "\n",
    "\n",
    "1.   There's not enough information to answer that question\n",
    "2.   The 10th element on the list is the biggest, and the ankle boot is labelled 9\n",
    "2.   The ankle boot is label 9, and there are 0->9 elements in the list\n",
    "\n",
    "\n"
   ]
  },
  {
   "cell_type": "markdown",
   "metadata": {
    "colab_type": "text",
    "id": "I-haLncrva5L"
   },
   "source": [
    "#### Answer\n",
    "The correct answer is (2). Both the list and the labels are 0 based, so the ankle boot having label 9 means that it is the 10th of the 10 classes. The list having the 10th element being the highest value means that the Neural Network has predicted that the item it is classifying is most likely an ankle boot.\n",
    "\n",
    "### Run the following neural net classifier for MNIST digits, using a hidden layer with 512 activation units."
   ]
  },
  {
   "cell_type": "code",
   "execution_count": 12,
   "metadata": {
    "colab": {},
    "colab_type": "code",
    "id": "GSZSwV5UObQP"
   },
   "outputs": [
    {
     "name": "stdout",
     "output_type": "stream",
     "text": [
      "1.14.0\n",
      "Epoch 1/25\n",
      "60000/60000 [==============================] - 7s 109us/sample - loss: 0.2039\n",
      "Epoch 2/25\n",
      "60000/60000 [==============================] - 6s 108us/sample - loss: 0.0814\n",
      "Epoch 3/25\n",
      "60000/60000 [==============================] - 6s 107us/sample - loss: 0.0521\n",
      "Epoch 4/25\n",
      "60000/60000 [==============================] - 7s 108us/sample - loss: 0.0387\n",
      "Epoch 5/25\n",
      "60000/60000 [==============================] - 7s 109us/sample - loss: 0.0283\n",
      "Epoch 6/25\n",
      "60000/60000 [==============================] - 7s 109us/sample - loss: 0.0209\n",
      "Epoch 7/25\n",
      "60000/60000 [==============================] - 7s 110us/sample - loss: 0.0179\n",
      "Epoch 8/25\n",
      "60000/60000 [==============================] - 7s 111us/sample - loss: 0.0138\n",
      "Epoch 9/25\n",
      "60000/60000 [==============================] - 7s 109us/sample - loss: 0.0123\n",
      "Epoch 10/25\n",
      "60000/60000 [==============================] - 7s 109us/sample - loss: 0.0102\n",
      "Epoch 11/25\n",
      "60000/60000 [==============================] - 7s 109us/sample - loss: 0.0109\n",
      "Epoch 12/25\n",
      "60000/60000 [==============================] - 7s 115us/sample - loss: 0.0086\n",
      "Epoch 13/25\n",
      "60000/60000 [==============================] - 7s 110us/sample - loss: 0.0087\n",
      "Epoch 14/25\n",
      "60000/60000 [==============================] - 7s 117us/sample - loss: 0.0073\n",
      "Epoch 15/25\n",
      "60000/60000 [==============================] - 7s 113us/sample - loss: 0.0083\n",
      "Epoch 16/25\n",
      "60000/60000 [==============================] - 7s 110us/sample - loss: 0.0074\n",
      "Epoch 17/25\n",
      "60000/60000 [==============================] - 14s 231us/sample - loss: 0.0046\n",
      "Epoch 18/25\n",
      "60000/60000 [==============================] - 17s 278us/sample - loss: 0.0074\n",
      "Epoch 19/25\n",
      "60000/60000 [==============================] - 17s 276us/sample - loss: 0.0060\n",
      "Epoch 20/25\n",
      "60000/60000 [==============================] - 17s 281us/sample - loss: 0.0058\n",
      "Epoch 21/25\n",
      "60000/60000 [==============================] - 17s 277us/sample - loss: 0.0047\n",
      "Epoch 22/25\n",
      "60000/60000 [==============================] - 16s 274us/sample - loss: 0.0068\n",
      "Epoch 23/25\n",
      "60000/60000 [==============================] - 17s 289us/sample - loss: 0.0065\n",
      "Epoch 24/25\n",
      "60000/60000 [==============================] - 16s 265us/sample - loss: 0.0057\n",
      "Epoch 25/25\n",
      "60000/60000 [==============================] - 16s 274us/sample - loss: 0.0049\n",
      "\n",
      "model fit Δt: 4m, 13.0s.\n",
      "10000/10000 [==============================] - 1s 149us/sample - loss: 0.1107\n",
      "[2.1543211e-14 5.9611705e-15 3.7935165e-16 4.6346971e-12 1.8381835e-19\n",
      " 2.8302316e-17 1.2376345e-18 1.0000000e+00 2.7817478e-14 6.7772732e-10]\n",
      "7\n"
     ]
    }
   ],
   "source": [
    "import tensorflow as tf\n",
    "print(tf.__version__)\n",
    "\n",
    "mnist = tf.keras.datasets.mnist\n",
    "\n",
    "(training_images, training_labels) ,  (test_images, test_labels) = mnist.load_data()\n",
    "\n",
    "training_images = training_images/255.0\n",
    "test_images = test_images/255.0\n",
    "\n",
    "model = tf.keras.models.Sequential([tf.keras.layers.Flatten(),\n",
    "                                    tf.keras.layers.Dense(512, activation=tf.nn.relu),\n",
    "                                    tf.keras.layers.Dense(10, activation=tf.nn.softmax)])\n",
    "\n",
    "model.compile(optimizer = 'adam',\n",
    "              loss = 'sparse_categorical_crossentropy')\n",
    "\n",
    "t0 = time()\n",
    "model.fit(training_images, training_labels, epochs=25)\n",
    "Δt = time() - t0\n",
    "print(f\"\\nmodel fit Δt: {int(Δt//60)}m, {Δt % 60.0:4.1f}s.\")\n",
    "\n",
    "print(\"\")\n",
    "model.evaluate(test_images, test_labels)\n",
    "print(\"\")\n",
    "\n",
    "classifications = model.predict(test_images)\n",
    "\n",
    "print(classifications[0])\n",
    "print(test_labels[0])"
   ]
  },
  {
   "cell_type": "markdown",
   "metadata": {
    "colab_type": "text",
    "id": "OgQSIfDSOWv6"
   },
   "source": [
    "### Exercise 2: \n",
    "Let's now look at the layers in your model. Experiment with different values for the dense layer with 512 neurons. What different results do you get for loss, training time etc? Why do you think that's the case?\n",
    "\n",
    "#### 128 neurons in hidden layer"
   ]
  },
  {
   "cell_type": "code",
   "execution_count": 13,
   "metadata": {
    "colab": {},
    "colab_type": "code",
    "id": "GSZSwV5UObQP",
    "scrolled": false
   },
   "outputs": [
    {
     "name": "stdout",
     "output_type": "stream",
     "text": [
      "1.14.0\n",
      "Epoch 1/25\n",
      "60000/60000 [==============================] - 4s 61us/sample - loss: 0.2586\n",
      "Epoch 2/25\n",
      "60000/60000 [==============================] - 3s 58us/sample - loss: 0.1153\n",
      "Epoch 3/25\n",
      "60000/60000 [==============================] - 3s 57us/sample - loss: 0.0778\n",
      "Epoch 4/25\n",
      "60000/60000 [==============================] - 3s 57us/sample - loss: 0.0572\n",
      "Epoch 5/25\n",
      "60000/60000 [==============================] - 3s 57us/sample - loss: 0.0454\n",
      "Epoch 6/25\n",
      "60000/60000 [==============================] - 3s 56us/sample - loss: 0.0343\n",
      "Epoch 7/25\n",
      "60000/60000 [==============================] - 4s 58us/sample - loss: 0.0283\n",
      "Epoch 8/25\n",
      "60000/60000 [==============================] - 3s 57us/sample - loss: 0.0228\n",
      "Epoch 9/25\n",
      "60000/60000 [==============================] - 3s 56us/sample - loss: 0.0186\n",
      "Epoch 10/25\n",
      "60000/60000 [==============================] - 3s 58us/sample - loss: 0.0157\n",
      "Epoch 11/25\n",
      "60000/60000 [==============================] - 3s 57us/sample - loss: 0.0127\n",
      "Epoch 12/25\n",
      "60000/60000 [==============================] - 3s 56us/sample - loss: 0.0107\n",
      "Epoch 13/25\n",
      "60000/60000 [==============================] - 3s 58us/sample - loss: 0.0106\n",
      "Epoch 14/25\n",
      "60000/60000 [==============================] - 3s 57us/sample - loss: 0.0091\n",
      "Epoch 15/25\n",
      "60000/60000 [==============================] - 3s 57us/sample - loss: 0.0076\n",
      "Epoch 16/25\n",
      "60000/60000 [==============================] - 3s 57us/sample - loss: 0.0062\n",
      "Epoch 17/25\n",
      "60000/60000 [==============================] - 3s 58us/sample - loss: 0.0074\n",
      "Epoch 18/25\n",
      "60000/60000 [==============================] - 4s 59us/sample - loss: 0.0059\n",
      "Epoch 19/25\n",
      "60000/60000 [==============================] - 4s 58us/sample - loss: 0.0058\n",
      "Epoch 20/25\n",
      "60000/60000 [==============================] - 4s 61us/sample - loss: 0.0040\n",
      "Epoch 21/25\n",
      "60000/60000 [==============================] - 4s 60us/sample - loss: 0.0063\n",
      "Epoch 22/25\n",
      "60000/60000 [==============================] - 3s 58us/sample - loss: 0.0050\n",
      "Epoch 23/25\n",
      "60000/60000 [==============================] - 3s 57us/sample - loss: 0.0043\n",
      "Epoch 24/25\n",
      "60000/60000 [==============================] - 3s 58us/sample - loss: 0.0058\n",
      "Epoch 25/25\n",
      "60000/60000 [==============================] - 4s 59us/sample - loss: 0.0037\n",
      "\n",
      "model fit Δt: 1m, 27.1s.\n",
      "\n",
      "10000/10000 [==============================] - 0s 35us/sample - loss: 0.1346\n",
      "\n",
      "[9.77617237e-17 3.20564980e-19 7.00232767e-16 1.30059433e-07\n",
      " 2.42142039e-21 1.26390061e-16 2.04532189e-26 9.99999881e-01\n",
      " 3.70891450e-19 1.32784015e-08]\n",
      "7\n"
     ]
    }
   ],
   "source": [
    "import tensorflow as tf\n",
    "print(tf.__version__)\n",
    "\n",
    "mnist = tf.keras.datasets.mnist\n",
    "\n",
    "(training_images, training_labels) ,  (test_images, test_labels) = mnist.load_data()\n",
    "\n",
    "training_images = training_images/255.0\n",
    "test_images = test_images/255.0\n",
    "\n",
    "model = tf.keras.models.Sequential([tf.keras.layers.Flatten(),\n",
    "                                    tf.keras.layers.Dense(128, activation=tf.nn.relu),\n",
    "                                    tf.keras.layers.Dense(10, activation=tf.nn.softmax)])\n",
    "\n",
    "model.compile(optimizer = 'adam',\n",
    "              loss = 'sparse_categorical_crossentropy')\n",
    "\n",
    "t0 = time()\n",
    "model.fit(training_images, training_labels, epochs=25)\n",
    "Δt = time() - t0\n",
    "print(f\"\\nmodel fit Δt: {int(Δt//60)}m, {Δt % 60.0:4.1f}s.\")\n",
    "\n",
    "print(\"\")\n",
    "model.evaluate(test_images, test_labels)\n",
    "print(\"\")\n",
    "\n",
    "classifications = model.predict(test_images)\n",
    "\n",
    "print(classifications[0])\n",
    "print(test_labels[0])"
   ]
  },
  {
   "cell_type": "markdown",
   "metadata": {},
   "source": [
    "#### 1024 neurons in hidden layer\n",
    "\n",
    "40 epochs instead of 25, since more neurons to train."
   ]
  },
  {
   "cell_type": "code",
   "execution_count": 14,
   "metadata": {
    "colab": {},
    "colab_type": "code",
    "id": "GSZSwV5UObQP"
   },
   "outputs": [
    {
     "name": "stdout",
     "output_type": "stream",
     "text": [
      "1.14.0\n",
      "Epoch 1/40\n",
      "60000/60000 [==============================] - 11s 182us/sample - loss: 0.1841\n",
      "Epoch 2/40\n",
      "60000/60000 [==============================] - 11s 177us/sample - loss: 0.0736\n",
      "Epoch 3/40\n",
      "60000/60000 [==============================] - 11s 177us/sample - loss: 0.0504\n",
      "Epoch 4/40\n",
      "60000/60000 [==============================] - 11s 177us/sample - loss: 0.0346\n",
      "Epoch 5/40\n",
      "60000/60000 [==============================] - 11s 177us/sample - loss: 0.0239\n",
      "Epoch 6/40\n",
      "60000/60000 [==============================] - 11s 177us/sample - loss: 0.0214\n",
      "Epoch 7/40\n",
      "60000/60000 [==============================] - 11s 179us/sample - loss: 0.0173\n",
      "Epoch 8/40\n",
      "60000/60000 [==============================] - 11s 179us/sample - loss: 0.0151\n",
      "Epoch 9/40\n",
      "60000/60000 [==============================] - 11s 179us/sample - loss: 0.0121\n",
      "Epoch 10/40\n",
      "60000/60000 [==============================] - 11s 181us/sample - loss: 0.0133\n",
      "Epoch 11/40\n",
      "60000/60000 [==============================] - 20s 329us/sample - loss: 0.0121\n",
      "Epoch 12/40\n",
      "60000/60000 [==============================] - 22s 363us/sample - loss: 0.0091\n",
      "Epoch 13/40\n",
      "60000/60000 [==============================] - 22s 371us/sample - loss: 0.0099\n",
      "Epoch 14/40\n",
      "60000/60000 [==============================] - 22s 362us/sample - loss: 0.0092\n",
      "Epoch 15/40\n",
      "60000/60000 [==============================] - 22s 367us/sample - loss: 0.0094\n",
      "Epoch 16/40\n",
      "60000/60000 [==============================] - 20s 340us/sample - loss: 0.0077\n",
      "Epoch 17/40\n",
      "60000/60000 [==============================] - 11s 177us/sample - loss: 0.0094\n",
      "Epoch 18/40\n",
      "60000/60000 [==============================] - 11s 179us/sample - loss: 0.0073\n",
      "Epoch 19/40\n",
      "60000/60000 [==============================] - 11s 182us/sample - loss: 0.0085\n",
      "Epoch 20/40\n",
      "60000/60000 [==============================] - 22s 360us/sample - loss: 0.0068\n",
      "Epoch 21/40\n",
      "60000/60000 [==============================] - 22s 367us/sample - loss: 0.0083\n",
      "Epoch 22/40\n",
      "60000/60000 [==============================] - 22s 374us/sample - loss: 0.0066\n",
      "Epoch 23/40\n",
      "60000/60000 [==============================] - 22s 368us/sample - loss: 0.0068\n",
      "Epoch 24/40\n",
      "60000/60000 [==============================] - 22s 367us/sample - loss: 0.0062\n",
      "Epoch 25/40\n",
      "60000/60000 [==============================] - 14s 225us/sample - loss: 0.0078\n",
      "Epoch 26/40\n",
      "60000/60000 [==============================] - 11s 180us/sample - loss: 0.0060\n",
      "Epoch 27/40\n",
      "60000/60000 [==============================] - 11s 181us/sample - loss: 0.0076\n",
      "Epoch 28/40\n",
      "60000/60000 [==============================] - 13s 216us/sample - loss: 0.0044\n",
      "Epoch 29/40\n",
      "60000/60000 [==============================] - 23s 376us/sample - loss: 0.0068\n",
      "Epoch 30/40\n",
      "60000/60000 [==============================] - 27s 447us/sample - loss: 0.0061\n",
      "Epoch 31/40\n",
      "60000/60000 [==============================] - 23s 387us/sample - loss: 0.0077\n",
      "Epoch 32/40\n",
      "60000/60000 [==============================] - 23s 388us/sample - loss: 0.0057\n",
      "Epoch 33/40\n",
      "60000/60000 [==============================] - 24s 392us/sample - loss: 0.0052\n",
      "Epoch 34/40\n",
      "60000/60000 [==============================] - 23s 390us/sample - loss: 0.0059\n",
      "Epoch 35/40\n",
      "60000/60000 [==============================] - 23s 387us/sample - loss: 0.0046\n",
      "Epoch 36/40\n",
      "60000/60000 [==============================] - 23s 389us/sample - loss: 0.0071\n",
      "Epoch 37/40\n",
      "60000/60000 [==============================] - 24s 392us/sample - loss: 0.0048\n",
      "Epoch 38/40\n",
      "60000/60000 [==============================] - 15s 248us/sample - loss: 0.0047\n",
      "Epoch 39/40\n",
      "60000/60000 [==============================] - 11s 183us/sample - loss: 0.0069\n",
      "Epoch 40/40\n",
      "60000/60000 [==============================] - 16s 273us/sample - loss: 0.0046\n",
      "\n",
      "model fit Δt: 11m, 21.0s.\n",
      "10000/10000 [==============================] - 2s 194us/sample - loss: 0.1578\n",
      "[2.2742567e-34 2.2946005e-30 3.9171320e-31 2.2987498e-18 0.0000000e+00\n",
      " 1.9337432e-31 0.0000000e+00 1.0000000e+00 3.9242731e-35 8.4587124e-22]\n",
      "7\n"
     ]
    }
   ],
   "source": [
    "import tensorflow as tf\n",
    "print(tf.__version__)\n",
    "\n",
    "mnist = tf.keras.datasets.mnist\n",
    "\n",
    "(training_images, training_labels) ,  (test_images, test_labels) = mnist.load_data()\n",
    "\n",
    "training_images = training_images/255.0\n",
    "test_images = test_images/255.0\n",
    "\n",
    "model = tf.keras.models.Sequential([tf.keras.layers.Flatten(),\n",
    "                                    tf.keras.layers.Dense(1024, activation=tf.nn.relu),\n",
    "                                    tf.keras.layers.Dense(10, activation=tf.nn.softmax)])\n",
    "\n",
    "model.compile(optimizer = 'adam',\n",
    "              loss = 'sparse_categorical_crossentropy')\n",
    "\n",
    "t0 = time()\n",
    "model.fit(training_images, training_labels, epochs=40)\n",
    "Δt = time() - t0\n",
    "print(f\"\\nmodel fit Δt: {int(Δt//60)}m, {Δt % 60.0:4.1f}s.\")\n",
    "\n",
    "model.evaluate(test_images, test_labels)\n",
    "\n",
    "classifications = model.predict(test_images)\n",
    "\n",
    "print(classifications[0])\n",
    "print(test_labels[0])"
   ]
  },
  {
   "cell_type": "markdown",
   "metadata": {
    "colab_type": "text",
    "id": "bOOEnHZFv5cS"
   },
   "source": [
    "#### Question 1. Increase to 1024 Neurons -- What's the impact?\n",
    "\n",
    "1. Training takes longer, but is more accurate\n",
    "2. Training takes longer, but no impact on accuracy\n",
    "3. Training takes the same time, but is more accurate\n"
   ]
  },
  {
   "cell_type": "markdown",
   "metadata": {
    "colab_type": "text",
    "id": "U73MUP2lwrI2"
   },
   "source": [
    "#### Answer\n",
    "The correct answer is (1) by adding more Neurons we have to do more calculations, slowing down the process, but in this case they have a good impact -- we do get more accurate. That doesn't mean it's always a case of 'more is better', you can hit the law of diminishing returns very quickly!"
   ]
  },
  {
   "cell_type": "markdown",
   "metadata": {
    "colab_type": "text",
    "id": "WtWxK16hQxLN"
   },
   "source": [
    "### Exercise 3: \n",
    "\n",
    "#### Question 1. What would happen if you remove the Flatten() layer. Why do you think that's the case? \n",
    "\n",
    "\n",
    "#### Answer\n",
    "\n",
    "You get an error about the shape of the data. It may seem vague right now, but it reinforces the rule of thumb that the first layer in your network should be the same shape as your data. Right now our data is 28x28 images, and 28 layers of 28 neurons would be infeasible, so it makes more sense to 'flatten' that 28,28 into a 784x1. Instead of wriitng all the code to handle that ourselves, we add the Flatten() layer at the begining, and when the arrays are loaded into the model later, they'll automatically be flattened for us."
   ]
  },
  {
   "cell_type": "code",
   "execution_count": 15,
   "metadata": {
    "colab": {},
    "colab_type": "code",
    "id": "ExNxCwhcQ18S"
   },
   "outputs": [
    {
     "name": "stdout",
     "output_type": "stream",
     "text": [
      "1.14.0\n",
      "Epoch 1/5\n"
     ]
    },
    {
     "ename": "InvalidArgumentError",
     "evalue": "logits and labels must have the same first dimension, got logits shape [896,10] and labels shape [32]\n\t [[{{node loss_4/output_1_loss/SparseSoftmaxCrossEntropyWithLogits/SparseSoftmaxCrossEntropyWithLogits}}]]",
     "output_type": "error",
     "traceback": [
      "\u001b[0;31m---------------------------------------------------------------------------\u001b[0m",
      "\u001b[0;31mInvalidArgumentError\u001b[0m                      Traceback (most recent call last)",
      "\u001b[0;32m<ipython-input-15-24c6b9ea95f7>\u001b[0m in \u001b[0;36m<module>\u001b[0;34m\u001b[0m\n\u001b[1;32m     17\u001b[0m \u001b[0;34m\u001b[0m\u001b[0m\n\u001b[1;32m     18\u001b[0m \u001b[0mt0\u001b[0m \u001b[0;34m=\u001b[0m \u001b[0mtime\u001b[0m\u001b[0;34m(\u001b[0m\u001b[0;34m)\u001b[0m\u001b[0;34m\u001b[0m\u001b[0;34m\u001b[0m\u001b[0m\n\u001b[0;32m---> 19\u001b[0;31m \u001b[0mmodel\u001b[0m\u001b[0;34m.\u001b[0m\u001b[0mfit\u001b[0m\u001b[0;34m(\u001b[0m\u001b[0mtraining_images\u001b[0m\u001b[0;34m,\u001b[0m \u001b[0mtraining_labels\u001b[0m\u001b[0;34m,\u001b[0m \u001b[0mepochs\u001b[0m\u001b[0;34m=\u001b[0m\u001b[0;36m5\u001b[0m\u001b[0;34m)\u001b[0m\u001b[0;34m\u001b[0m\u001b[0;34m\u001b[0m\u001b[0m\n\u001b[0m\u001b[1;32m     20\u001b[0m \u001b[0mΔt\u001b[0m \u001b[0;34m=\u001b[0m \u001b[0mtime\u001b[0m\u001b[0;34m(\u001b[0m\u001b[0;34m)\u001b[0m \u001b[0;34m-\u001b[0m \u001b[0mt0\u001b[0m\u001b[0;34m\u001b[0m\u001b[0;34m\u001b[0m\u001b[0m\n\u001b[1;32m     21\u001b[0m \u001b[0mprint\u001b[0m\u001b[0;34m(\u001b[0m\u001b[0;34mf\"\\nmodel fit Δt: {int(Δt//60)}m, {Δt % 60.0:4.1f}s.\"\u001b[0m\u001b[0;34m)\u001b[0m\u001b[0;34m\u001b[0m\u001b[0;34m\u001b[0m\u001b[0m\n",
      "\u001b[0;32m/usr/local/lib/python3.7/site-packages/tensorflow/python/keras/engine/training.py\u001b[0m in \u001b[0;36mfit\u001b[0;34m(self, x, y, batch_size, epochs, verbose, callbacks, validation_split, validation_data, shuffle, class_weight, sample_weight, initial_epoch, steps_per_epoch, validation_steps, validation_freq, max_queue_size, workers, use_multiprocessing, **kwargs)\u001b[0m\n\u001b[1;32m    778\u001b[0m           \u001b[0mvalidation_steps\u001b[0m\u001b[0;34m=\u001b[0m\u001b[0mvalidation_steps\u001b[0m\u001b[0;34m,\u001b[0m\u001b[0;34m\u001b[0m\u001b[0;34m\u001b[0m\u001b[0m\n\u001b[1;32m    779\u001b[0m           \u001b[0mvalidation_freq\u001b[0m\u001b[0;34m=\u001b[0m\u001b[0mvalidation_freq\u001b[0m\u001b[0;34m,\u001b[0m\u001b[0;34m\u001b[0m\u001b[0;34m\u001b[0m\u001b[0m\n\u001b[0;32m--> 780\u001b[0;31m           steps_name='steps_per_epoch')\n\u001b[0m\u001b[1;32m    781\u001b[0m \u001b[0;34m\u001b[0m\u001b[0m\n\u001b[1;32m    782\u001b[0m   def evaluate(self,\n",
      "\u001b[0;32m/usr/local/lib/python3.7/site-packages/tensorflow/python/keras/engine/training_arrays.py\u001b[0m in \u001b[0;36mmodel_iteration\u001b[0;34m(model, inputs, targets, sample_weights, batch_size, epochs, verbose, callbacks, val_inputs, val_targets, val_sample_weights, shuffle, initial_epoch, steps_per_epoch, validation_steps, validation_freq, mode, validation_in_fit, prepared_feed_values_from_dataset, steps_name, **kwargs)\u001b[0m\n\u001b[1;32m    361\u001b[0m \u001b[0;34m\u001b[0m\u001b[0m\n\u001b[1;32m    362\u001b[0m         \u001b[0;31m# Get outputs.\u001b[0m\u001b[0;34m\u001b[0m\u001b[0;34m\u001b[0m\u001b[0;34m\u001b[0m\u001b[0m\n\u001b[0;32m--> 363\u001b[0;31m         \u001b[0mbatch_outs\u001b[0m \u001b[0;34m=\u001b[0m \u001b[0mf\u001b[0m\u001b[0;34m(\u001b[0m\u001b[0mins_batch\u001b[0m\u001b[0;34m)\u001b[0m\u001b[0;34m\u001b[0m\u001b[0;34m\u001b[0m\u001b[0m\n\u001b[0m\u001b[1;32m    364\u001b[0m         \u001b[0;32mif\u001b[0m \u001b[0;32mnot\u001b[0m \u001b[0misinstance\u001b[0m\u001b[0;34m(\u001b[0m\u001b[0mbatch_outs\u001b[0m\u001b[0;34m,\u001b[0m \u001b[0mlist\u001b[0m\u001b[0;34m)\u001b[0m\u001b[0;34m:\u001b[0m\u001b[0;34m\u001b[0m\u001b[0;34m\u001b[0m\u001b[0m\n\u001b[1;32m    365\u001b[0m           \u001b[0mbatch_outs\u001b[0m \u001b[0;34m=\u001b[0m \u001b[0;34m[\u001b[0m\u001b[0mbatch_outs\u001b[0m\u001b[0;34m]\u001b[0m\u001b[0;34m\u001b[0m\u001b[0;34m\u001b[0m\u001b[0m\n",
      "\u001b[0;32m/usr/local/lib/python3.7/site-packages/tensorflow/python/keras/backend.py\u001b[0m in \u001b[0;36m__call__\u001b[0;34m(self, inputs)\u001b[0m\n\u001b[1;32m   3290\u001b[0m \u001b[0;34m\u001b[0m\u001b[0m\n\u001b[1;32m   3291\u001b[0m     fetched = self._callable_fn(*array_vals,\n\u001b[0;32m-> 3292\u001b[0;31m                                 run_metadata=self.run_metadata)\n\u001b[0m\u001b[1;32m   3293\u001b[0m     \u001b[0mself\u001b[0m\u001b[0;34m.\u001b[0m\u001b[0m_call_fetch_callbacks\u001b[0m\u001b[0;34m(\u001b[0m\u001b[0mfetched\u001b[0m\u001b[0;34m[\u001b[0m\u001b[0;34m-\u001b[0m\u001b[0mlen\u001b[0m\u001b[0;34m(\u001b[0m\u001b[0mself\u001b[0m\u001b[0;34m.\u001b[0m\u001b[0m_fetches\u001b[0m\u001b[0;34m)\u001b[0m\u001b[0;34m:\u001b[0m\u001b[0;34m]\u001b[0m\u001b[0;34m)\u001b[0m\u001b[0;34m\u001b[0m\u001b[0;34m\u001b[0m\u001b[0m\n\u001b[1;32m   3294\u001b[0m     output_structure = nest.pack_sequence_as(\n",
      "\u001b[0;32m/usr/local/lib/python3.7/site-packages/tensorflow/python/client/session.py\u001b[0m in \u001b[0;36m__call__\u001b[0;34m(self, *args, **kwargs)\u001b[0m\n\u001b[1;32m   1456\u001b[0m         ret = tf_session.TF_SessionRunCallable(self._session._session,\n\u001b[1;32m   1457\u001b[0m                                                \u001b[0mself\u001b[0m\u001b[0;34m.\u001b[0m\u001b[0m_handle\u001b[0m\u001b[0;34m,\u001b[0m \u001b[0margs\u001b[0m\u001b[0;34m,\u001b[0m\u001b[0;34m\u001b[0m\u001b[0;34m\u001b[0m\u001b[0m\n\u001b[0;32m-> 1458\u001b[0;31m                                                run_metadata_ptr)\n\u001b[0m\u001b[1;32m   1459\u001b[0m         \u001b[0;32mif\u001b[0m \u001b[0mrun_metadata\u001b[0m\u001b[0;34m:\u001b[0m\u001b[0;34m\u001b[0m\u001b[0;34m\u001b[0m\u001b[0m\n\u001b[1;32m   1460\u001b[0m           \u001b[0mproto_data\u001b[0m \u001b[0;34m=\u001b[0m \u001b[0mtf_session\u001b[0m\u001b[0;34m.\u001b[0m\u001b[0mTF_GetBuffer\u001b[0m\u001b[0;34m(\u001b[0m\u001b[0mrun_metadata_ptr\u001b[0m\u001b[0;34m)\u001b[0m\u001b[0;34m\u001b[0m\u001b[0;34m\u001b[0m\u001b[0m\n",
      "\u001b[0;31mInvalidArgumentError\u001b[0m: logits and labels must have the same first dimension, got logits shape [896,10] and labels shape [32]\n\t [[{{node loss_4/output_1_loss/SparseSoftmaxCrossEntropyWithLogits/SparseSoftmaxCrossEntropyWithLogits}}]]"
     ]
    }
   ],
   "source": [
    "import tensorflow as tf\n",
    "print(tf.__version__)\n",
    "\n",
    "mnist = tf.keras.datasets.mnist\n",
    "\n",
    "(training_images, training_labels) ,  (test_images, test_labels) = mnist.load_data()\n",
    "\n",
    "training_images = training_images/255.0\n",
    "test_images = test_images/255.0\n",
    "\n",
    "model = tf.keras.models.Sequential([#tf.keras.layers.Flatten(),\n",
    "                                    tf.keras.layers.Dense(64, activation=tf.nn.relu),\n",
    "                                    tf.keras.layers.Dense(10, activation=tf.nn.softmax)])\n",
    "\n",
    "model.compile(optimizer = 'adam',\n",
    "              loss = 'sparse_categorical_crossentropy')\n",
    "\n",
    "t0 = time()\n",
    "model.fit(training_images, training_labels, epochs=5)\n",
    "Δt = time() - t0\n",
    "print(f\"\\nmodel fit Δt: {int(Δt//60)}m, {Δt % 60.0:4.1f}s.\")\n",
    "\n",
    "model.evaluate(test_images, test_labels)\n",
    "\n",
    "classifications = model.predict(test_images)\n",
    "\n",
    "print(classifications[0])\n",
    "print(test_labels[0])"
   ]
  },
  {
   "cell_type": "markdown",
   "metadata": {
    "colab_type": "text",
    "id": "VqoCR-ieSGDg"
   },
   "source": [
    "### Exercise 4: \n",
    "\n",
    "#### Questions. Consider the final (output) layers. Why are there 10 of them? What would happen if you had a different amount than 10? For example, try training the network with 5\n",
    "\n",
    "#### Answer\n",
    "\n",
    "You get an error as soon as it finds an unexpected value. Another rule of thumb -- the number of neurons in the last layer should match the number of classes you are classifying for. In this case it's the digits 0-9, so there are 10 of them, hence you should have 10 neurons in your final layer."
   ]
  },
  {
   "cell_type": "code",
   "execution_count": 16,
   "metadata": {
    "colab": {},
    "colab_type": "code",
    "id": "MMckVntcSPvo"
   },
   "outputs": [
    {
     "name": "stdout",
     "output_type": "stream",
     "text": [
      "1.14.0\n",
      "Epoch 1/5\n"
     ]
    },
    {
     "ename": "InvalidArgumentError",
     "evalue": "Received a label value of 9 which is outside the valid range of [0, 5).  Label values: 0 9 2 6 2 0 6 4 3 6 8 2 3 2 8 0 0 4 1 3 6 0 9 5 4 1 1 9 7 2 1 0\n\t [[{{node loss_5/output_1_loss/SparseSoftmaxCrossEntropyWithLogits/SparseSoftmaxCrossEntropyWithLogits}}]]",
     "output_type": "error",
     "traceback": [
      "\u001b[0;31m---------------------------------------------------------------------------\u001b[0m",
      "\u001b[0;31mInvalidArgumentError\u001b[0m                      Traceback (most recent call last)",
      "\u001b[0;32m<ipython-input-16-6948743b47e7>\u001b[0m in \u001b[0;36m<module>\u001b[0;34m\u001b[0m\n\u001b[1;32m     17\u001b[0m \u001b[0;34m\u001b[0m\u001b[0m\n\u001b[1;32m     18\u001b[0m \u001b[0mt0\u001b[0m \u001b[0;34m=\u001b[0m \u001b[0mtime\u001b[0m\u001b[0;34m(\u001b[0m\u001b[0;34m)\u001b[0m\u001b[0;34m\u001b[0m\u001b[0;34m\u001b[0m\u001b[0m\n\u001b[0;32m---> 19\u001b[0;31m \u001b[0mmodel\u001b[0m\u001b[0;34m.\u001b[0m\u001b[0mfit\u001b[0m\u001b[0;34m(\u001b[0m\u001b[0mtraining_images\u001b[0m\u001b[0;34m,\u001b[0m \u001b[0mtraining_labels\u001b[0m\u001b[0;34m,\u001b[0m \u001b[0mepochs\u001b[0m\u001b[0;34m=\u001b[0m\u001b[0;36m5\u001b[0m\u001b[0;34m)\u001b[0m\u001b[0;34m\u001b[0m\u001b[0;34m\u001b[0m\u001b[0m\n\u001b[0m\u001b[1;32m     20\u001b[0m \u001b[0mΔt\u001b[0m \u001b[0;34m=\u001b[0m \u001b[0mtime\u001b[0m\u001b[0;34m(\u001b[0m\u001b[0;34m)\u001b[0m \u001b[0;34m-\u001b[0m \u001b[0mt0\u001b[0m\u001b[0;34m\u001b[0m\u001b[0;34m\u001b[0m\u001b[0m\n\u001b[1;32m     21\u001b[0m \u001b[0mprint\u001b[0m\u001b[0;34m(\u001b[0m\u001b[0;34mf\"\\nmodel fit Δt: {int(Δt//60)}m, {Δt % 60.0:4.1f}s.\"\u001b[0m\u001b[0;34m)\u001b[0m\u001b[0;34m\u001b[0m\u001b[0;34m\u001b[0m\u001b[0m\n",
      "\u001b[0;32m/usr/local/lib/python3.7/site-packages/tensorflow/python/keras/engine/training.py\u001b[0m in \u001b[0;36mfit\u001b[0;34m(self, x, y, batch_size, epochs, verbose, callbacks, validation_split, validation_data, shuffle, class_weight, sample_weight, initial_epoch, steps_per_epoch, validation_steps, validation_freq, max_queue_size, workers, use_multiprocessing, **kwargs)\u001b[0m\n\u001b[1;32m    778\u001b[0m           \u001b[0mvalidation_steps\u001b[0m\u001b[0;34m=\u001b[0m\u001b[0mvalidation_steps\u001b[0m\u001b[0;34m,\u001b[0m\u001b[0;34m\u001b[0m\u001b[0;34m\u001b[0m\u001b[0m\n\u001b[1;32m    779\u001b[0m           \u001b[0mvalidation_freq\u001b[0m\u001b[0;34m=\u001b[0m\u001b[0mvalidation_freq\u001b[0m\u001b[0;34m,\u001b[0m\u001b[0;34m\u001b[0m\u001b[0;34m\u001b[0m\u001b[0m\n\u001b[0;32m--> 780\u001b[0;31m           steps_name='steps_per_epoch')\n\u001b[0m\u001b[1;32m    781\u001b[0m \u001b[0;34m\u001b[0m\u001b[0m\n\u001b[1;32m    782\u001b[0m   def evaluate(self,\n",
      "\u001b[0;32m/usr/local/lib/python3.7/site-packages/tensorflow/python/keras/engine/training_arrays.py\u001b[0m in \u001b[0;36mmodel_iteration\u001b[0;34m(model, inputs, targets, sample_weights, batch_size, epochs, verbose, callbacks, val_inputs, val_targets, val_sample_weights, shuffle, initial_epoch, steps_per_epoch, validation_steps, validation_freq, mode, validation_in_fit, prepared_feed_values_from_dataset, steps_name, **kwargs)\u001b[0m\n\u001b[1;32m    361\u001b[0m \u001b[0;34m\u001b[0m\u001b[0m\n\u001b[1;32m    362\u001b[0m         \u001b[0;31m# Get outputs.\u001b[0m\u001b[0;34m\u001b[0m\u001b[0;34m\u001b[0m\u001b[0;34m\u001b[0m\u001b[0m\n\u001b[0;32m--> 363\u001b[0;31m         \u001b[0mbatch_outs\u001b[0m \u001b[0;34m=\u001b[0m \u001b[0mf\u001b[0m\u001b[0;34m(\u001b[0m\u001b[0mins_batch\u001b[0m\u001b[0;34m)\u001b[0m\u001b[0;34m\u001b[0m\u001b[0;34m\u001b[0m\u001b[0m\n\u001b[0m\u001b[1;32m    364\u001b[0m         \u001b[0;32mif\u001b[0m \u001b[0;32mnot\u001b[0m \u001b[0misinstance\u001b[0m\u001b[0;34m(\u001b[0m\u001b[0mbatch_outs\u001b[0m\u001b[0;34m,\u001b[0m \u001b[0mlist\u001b[0m\u001b[0;34m)\u001b[0m\u001b[0;34m:\u001b[0m\u001b[0;34m\u001b[0m\u001b[0;34m\u001b[0m\u001b[0m\n\u001b[1;32m    365\u001b[0m           \u001b[0mbatch_outs\u001b[0m \u001b[0;34m=\u001b[0m \u001b[0;34m[\u001b[0m\u001b[0mbatch_outs\u001b[0m\u001b[0;34m]\u001b[0m\u001b[0;34m\u001b[0m\u001b[0;34m\u001b[0m\u001b[0m\n",
      "\u001b[0;32m/usr/local/lib/python3.7/site-packages/tensorflow/python/keras/backend.py\u001b[0m in \u001b[0;36m__call__\u001b[0;34m(self, inputs)\u001b[0m\n\u001b[1;32m   3290\u001b[0m \u001b[0;34m\u001b[0m\u001b[0m\n\u001b[1;32m   3291\u001b[0m     fetched = self._callable_fn(*array_vals,\n\u001b[0;32m-> 3292\u001b[0;31m                                 run_metadata=self.run_metadata)\n\u001b[0m\u001b[1;32m   3293\u001b[0m     \u001b[0mself\u001b[0m\u001b[0;34m.\u001b[0m\u001b[0m_call_fetch_callbacks\u001b[0m\u001b[0;34m(\u001b[0m\u001b[0mfetched\u001b[0m\u001b[0;34m[\u001b[0m\u001b[0;34m-\u001b[0m\u001b[0mlen\u001b[0m\u001b[0;34m(\u001b[0m\u001b[0mself\u001b[0m\u001b[0;34m.\u001b[0m\u001b[0m_fetches\u001b[0m\u001b[0;34m)\u001b[0m\u001b[0;34m:\u001b[0m\u001b[0;34m]\u001b[0m\u001b[0;34m)\u001b[0m\u001b[0;34m\u001b[0m\u001b[0;34m\u001b[0m\u001b[0m\n\u001b[1;32m   3294\u001b[0m     output_structure = nest.pack_sequence_as(\n",
      "\u001b[0;32m/usr/local/lib/python3.7/site-packages/tensorflow/python/client/session.py\u001b[0m in \u001b[0;36m__call__\u001b[0;34m(self, *args, **kwargs)\u001b[0m\n\u001b[1;32m   1456\u001b[0m         ret = tf_session.TF_SessionRunCallable(self._session._session,\n\u001b[1;32m   1457\u001b[0m                                                \u001b[0mself\u001b[0m\u001b[0;34m.\u001b[0m\u001b[0m_handle\u001b[0m\u001b[0;34m,\u001b[0m \u001b[0margs\u001b[0m\u001b[0;34m,\u001b[0m\u001b[0;34m\u001b[0m\u001b[0;34m\u001b[0m\u001b[0m\n\u001b[0;32m-> 1458\u001b[0;31m                                                run_metadata_ptr)\n\u001b[0m\u001b[1;32m   1459\u001b[0m         \u001b[0;32mif\u001b[0m \u001b[0mrun_metadata\u001b[0m\u001b[0;34m:\u001b[0m\u001b[0;34m\u001b[0m\u001b[0;34m\u001b[0m\u001b[0m\n\u001b[1;32m   1460\u001b[0m           \u001b[0mproto_data\u001b[0m \u001b[0;34m=\u001b[0m \u001b[0mtf_session\u001b[0m\u001b[0;34m.\u001b[0m\u001b[0mTF_GetBuffer\u001b[0m\u001b[0;34m(\u001b[0m\u001b[0mrun_metadata_ptr\u001b[0m\u001b[0;34m)\u001b[0m\u001b[0;34m\u001b[0m\u001b[0;34m\u001b[0m\u001b[0m\n",
      "\u001b[0;31mInvalidArgumentError\u001b[0m: Received a label value of 9 which is outside the valid range of [0, 5).  Label values: 0 9 2 6 2 0 6 4 3 6 8 2 3 2 8 0 0 4 1 3 6 0 9 5 4 1 1 9 7 2 1 0\n\t [[{{node loss_5/output_1_loss/SparseSoftmaxCrossEntropyWithLogits/SparseSoftmaxCrossEntropyWithLogits}}]]"
     ]
    }
   ],
   "source": [
    "import tensorflow as tf\n",
    "print(tf.__version__)\n",
    "\n",
    "mnist = tf.keras.datasets.mnist\n",
    "\n",
    "(training_images, training_labels) ,  (test_images, test_labels) = mnist.load_data()\n",
    "\n",
    "training_images = training_images/255.0\n",
    "test_images = test_images/255.0\n",
    "\n",
    "model = tf.keras.models.Sequential([tf.keras.layers.Flatten(),\n",
    "                                    tf.keras.layers.Dense(64, activation=tf.nn.relu),\n",
    "                                    tf.keras.layers.Dense(5, activation=tf.nn.softmax)])\n",
    "\n",
    "model.compile(optimizer = 'adam',\n",
    "              loss = 'sparse_categorical_crossentropy')\n",
    "\n",
    "t0 = time()\n",
    "model.fit(training_images, training_labels, epochs=5)\n",
    "Δt = time() - t0\n",
    "print(f\"\\nmodel fit Δt: {int(Δt//60)}m, {Δt % 60.0:4.1f}s.\")\n",
    "\n",
    "model.evaluate(test_images, test_labels)\n",
    "\n",
    "classifications = model.predict(test_images)\n",
    "\n",
    "print(classifications[0])\n",
    "print(test_labels[0])"
   ]
  },
  {
   "cell_type": "markdown",
   "metadata": {
    "colab_type": "text",
    "id": "-0lF5MuvSuZF"
   },
   "source": [
    "### Exercise 5: \n",
    "\n",
    "#### Question 1. Consider the effects of additional layers in the network. What will happen if you add another layer between the one with 512 and the final layer with 10. \n",
    "\n",
    "#### Answer\n",
    "\n",
    "There isn't a significant impact -- because this is relatively simple data. For far more complex data (including color images to be classified as flowers that you'll see in the next lesson), extra layers are often necessary. "
   ]
  },
  {
   "cell_type": "code",
   "execution_count": 17,
   "metadata": {
    "colab": {},
    "colab_type": "code",
    "id": "b1YPa6UhS8Es",
    "scrolled": false
   },
   "outputs": [
    {
     "name": "stdout",
     "output_type": "stream",
     "text": [
      "1.14.0\n",
      "Epoch 1/100\n",
      "60000/60000 [==============================] - 6s 103us/sample - loss: 0.1989\n",
      "Epoch 2/100\n",
      "60000/60000 [==============================] - 6s 99us/sample - loss: 0.0829\n",
      "Epoch 3/100\n",
      "60000/60000 [==============================] - 6s 104us/sample - loss: 0.0578\n",
      "Epoch 4/100\n",
      "60000/60000 [==============================] - 6s 104us/sample - loss: 0.0427\n",
      "Epoch 5/100\n",
      "60000/60000 [==============================] - 6s 100us/sample - loss: 0.0345\n",
      "Epoch 6/100\n",
      "60000/60000 [==============================] - 6s 101us/sample - loss: 0.0280\n",
      "Epoch 7/100\n",
      "60000/60000 [==============================] - 6s 102us/sample - loss: 0.0249\n",
      "Epoch 8/100\n",
      "60000/60000 [==============================] - 6s 98us/sample - loss: 0.0211\n",
      "Epoch 9/100\n",
      "60000/60000 [==============================] - 6s 96us/sample - loss: 0.0190\n",
      "Epoch 10/100\n",
      "60000/60000 [==============================] - 6s 99us/sample - loss: 0.0178\n",
      "Epoch 11/100\n",
      "60000/60000 [==============================] - 6s 97us/sample - loss: 0.0140\n",
      "Epoch 12/100\n",
      "60000/60000 [==============================] - 6s 98us/sample - loss: 0.0153\n",
      "Epoch 13/100\n",
      "60000/60000 [==============================] - 6s 97us/sample - loss: 0.0139\n",
      "Epoch 14/100\n",
      "60000/60000 [==============================] - 6s 98us/sample - loss: 0.0145\n",
      "Epoch 15/100\n",
      "60000/60000 [==============================] - 6s 98us/sample - loss: 0.0113\n",
      "Epoch 16/100\n",
      "60000/60000 [==============================] - 6s 98us/sample - loss: 0.0140\n",
      "Epoch 17/100\n",
      "60000/60000 [==============================] - 6s 98us/sample - loss: 0.0098\n",
      "Epoch 18/100\n",
      "60000/60000 [==============================] - 6s 103us/sample - loss: 0.0115\n",
      "Epoch 19/100\n",
      "60000/60000 [==============================] - 6s 96us/sample - loss: 0.0113\n",
      "Epoch 20/100\n",
      "60000/60000 [==============================] - 6s 98us/sample - loss: 0.0089\n",
      "Epoch 21/100\n",
      "60000/60000 [==============================] - 6s 97us/sample - loss: 0.0102\n",
      "Epoch 22/100\n",
      "60000/60000 [==============================] - 6s 97us/sample - loss: 0.0091\n",
      "Epoch 23/100\n",
      "60000/60000 [==============================] - 6s 97us/sample - loss: 0.0069\n",
      "Epoch 24/100\n",
      "60000/60000 [==============================] - 6s 99us/sample - loss: 0.0100\n",
      "Epoch 25/100\n",
      "60000/60000 [==============================] - 6s 97us/sample - loss: 0.0089\n",
      "Epoch 26/100\n",
      "60000/60000 [==============================] - 6s 97us/sample - loss: 0.0093\n",
      "Epoch 27/100\n",
      "60000/60000 [==============================] - 6s 97us/sample - loss: 0.0068\n",
      "Epoch 28/100\n",
      "60000/60000 [==============================] - 6s 97us/sample - loss: 0.0097\n",
      "Epoch 29/100\n",
      "60000/60000 [==============================] - 6s 97us/sample - loss: 0.0092\n",
      "Epoch 30/100\n",
      "60000/60000 [==============================] - 6s 98us/sample - loss: 0.0081\n",
      "Epoch 31/100\n",
      "60000/60000 [==============================] - 6s 97us/sample - loss: 0.0086\n",
      "Epoch 32/100\n",
      "60000/60000 [==============================] - 6s 96us/sample - loss: 0.0082\n",
      "Epoch 33/100\n",
      "60000/60000 [==============================] - 6s 96us/sample - loss: 0.0089\n",
      "Epoch 34/100\n",
      "60000/60000 [==============================] - 6s 97us/sample - loss: 0.0059\n",
      "Epoch 35/100\n",
      "60000/60000 [==============================] - 6s 97us/sample - loss: 0.0119\n",
      "Epoch 36/100\n",
      "60000/60000 [==============================] - 6s 97us/sample - loss: 0.0068\n",
      "Epoch 37/100\n",
      "60000/60000 [==============================] - 6s 96us/sample - loss: 0.0075\n",
      "Epoch 38/100\n",
      "60000/60000 [==============================] - 6s 96us/sample - loss: 0.0071\n",
      "Epoch 39/100\n",
      "60000/60000 [==============================] - 6s 96us/sample - loss: 0.0096\n",
      "Epoch 40/100\n",
      "60000/60000 [==============================] - 6s 97us/sample - loss: 0.0088\n",
      "Epoch 41/100\n",
      "60000/60000 [==============================] - 6s 100us/sample - loss: 0.0070\n",
      "Epoch 42/100\n",
      "60000/60000 [==============================] - 6s 99us/sample - loss: 0.0056\n",
      "Epoch 43/100\n",
      "60000/60000 [==============================] - 6s 97us/sample - loss: 0.0060\n",
      "Epoch 44/100\n",
      "60000/60000 [==============================] - 6s 99us/sample - loss: 0.0103\n",
      "Epoch 45/100\n",
      "60000/60000 [==============================] - 6s 96us/sample - loss: 0.0078\n",
      "Epoch 46/100\n",
      "60000/60000 [==============================] - 6s 97us/sample - loss: 0.0082\n",
      "Epoch 47/100\n",
      "60000/60000 [==============================] - 6s 96us/sample - loss: 0.0056\n",
      "Epoch 48/100\n",
      "60000/60000 [==============================] - 6s 95us/sample - loss: 0.0061\n",
      "Epoch 49/100\n",
      "60000/60000 [==============================] - 6s 96us/sample - loss: 0.0073\n",
      "Epoch 50/100\n",
      "60000/60000 [==============================] - 11s 175us/sample - loss: 0.0088\n",
      "Epoch 51/100\n",
      "60000/60000 [==============================] - 15s 250us/sample - loss: 0.0063\n",
      "Epoch 52/100\n",
      "60000/60000 [==============================] - 8s 134us/sample - loss: 0.0052\n",
      "Epoch 53/100\n",
      "60000/60000 [==============================] - 6s 96us/sample - loss: 0.0043\n",
      "Epoch 54/100\n",
      "60000/60000 [==============================] - 6s 95us/sample - loss: 0.0095\n",
      "Epoch 55/100\n",
      "60000/60000 [==============================] - 6s 97us/sample - loss: 0.0053\n",
      "Epoch 56/100\n",
      "60000/60000 [==============================] - 6s 96us/sample - loss: 0.0039\n",
      "Epoch 57/100\n",
      "60000/60000 [==============================] - 6s 97us/sample - loss: 0.0081\n",
      "Epoch 58/100\n",
      "60000/60000 [==============================] - 6s 97us/sample - loss: 0.0081\n",
      "Epoch 59/100\n",
      "60000/60000 [==============================] - 6s 95us/sample - loss: 0.0038\n",
      "Epoch 60/100\n",
      "60000/60000 [==============================] - 6s 96us/sample - loss: 0.0049\n",
      "Epoch 61/100\n",
      "60000/60000 [==============================] - 6s 96us/sample - loss: 0.0085\n",
      "Epoch 62/100\n",
      "60000/60000 [==============================] - 6s 96us/sample - loss: 0.0068\n",
      "Epoch 63/100\n",
      "60000/60000 [==============================] - 6s 97us/sample - loss: 0.0070\n",
      "Epoch 64/100\n",
      "60000/60000 [==============================] - 6s 96us/sample - loss: 0.0072\n",
      "Epoch 65/100\n",
      "60000/60000 [==============================] - 6s 96us/sample - loss: 0.0053\n",
      "Epoch 66/100\n",
      "60000/60000 [==============================] - 6s 96us/sample - loss: 0.0105\n",
      "Epoch 67/100\n",
      "60000/60000 [==============================] - 6s 96us/sample - loss: 0.0066\n",
      "Epoch 68/100\n",
      "60000/60000 [==============================] - 6s 96us/sample - loss: 0.0049\n",
      "Epoch 69/100\n",
      "60000/60000 [==============================] - 6s 96us/sample - loss: 0.0068\n",
      "Epoch 70/100\n",
      "60000/60000 [==============================] - 6s 96us/sample - loss: 0.0066\n",
      "Epoch 71/100\n",
      "60000/60000 [==============================] - 6s 102us/sample - loss: 0.0046\n",
      "Epoch 72/100\n",
      "60000/60000 [==============================] - 6s 102us/sample - loss: 0.0077\n",
      "Epoch 73/100\n",
      "60000/60000 [==============================] - 6s 100us/sample - loss: 0.0041\n",
      "Epoch 74/100\n",
      "60000/60000 [==============================] - 6s 100us/sample - loss: 0.0055\n",
      "Epoch 75/100\n",
      "60000/60000 [==============================] - 6s 99us/sample - loss: 0.0069\n",
      "Epoch 76/100\n",
      "60000/60000 [==============================] - 6s 100us/sample - loss: 0.0069\n",
      "Epoch 77/100\n",
      "60000/60000 [==============================] - 6s 97us/sample - loss: 0.0059\n",
      "Epoch 78/100\n",
      "60000/60000 [==============================] - 6s 98us/sample - loss: 0.0048\n",
      "Epoch 79/100\n",
      "60000/60000 [==============================] - 6s 99us/sample - loss: 0.0063\n",
      "Epoch 80/100\n",
      "60000/60000 [==============================] - 6s 100us/sample - loss: 0.0072\n",
      "Epoch 81/100\n",
      "60000/60000 [==============================] - 6s 106us/sample - loss: 0.0057\n",
      "Epoch 82/100\n",
      "60000/60000 [==============================] - 6s 103us/sample - loss: 0.0059\n",
      "Epoch 83/100\n",
      "60000/60000 [==============================] - 6s 101us/sample - loss: 0.0021\n",
      "Epoch 84/100\n",
      "60000/60000 [==============================] - 6s 103us/sample - loss: 0.0065\n",
      "Epoch 85/100\n",
      "60000/60000 [==============================] - 6s 97us/sample - loss: 0.0069\n",
      "Epoch 86/100\n",
      "60000/60000 [==============================] - 6s 100us/sample - loss: 0.0067\n",
      "Epoch 87/100\n",
      "60000/60000 [==============================] - 6s 97us/sample - loss: 0.0088\n",
      "Epoch 88/100\n",
      "60000/60000 [==============================] - 6s 98us/sample - loss: 0.0048\n",
      "Epoch 89/100\n",
      "60000/60000 [==============================] - 6s 100us/sample - loss: 0.0063\n",
      "Epoch 90/100\n",
      "60000/60000 [==============================] - 6s 98us/sample - loss: 0.0062\n",
      "Epoch 91/100\n"
     ]
    },
    {
     "name": "stdout",
     "output_type": "stream",
     "text": [
      "60000/60000 [==============================] - 6s 104us/sample - loss: 0.0066\n",
      "Epoch 92/100\n",
      "60000/60000 [==============================] - 6s 102us/sample - loss: 0.0057\n",
      "Epoch 93/100\n",
      "60000/60000 [==============================] - 6s 100us/sample - loss: 0.0074\n",
      "Epoch 94/100\n",
      "60000/60000 [==============================] - 6s 101us/sample - loss: 0.0070\n",
      "Epoch 95/100\n",
      "60000/60000 [==============================] - 6s 100us/sample - loss: 0.0047\n",
      "Epoch 96/100\n",
      "60000/60000 [==============================] - 6s 99us/sample - loss: 0.0064\n",
      "Epoch 97/100\n",
      "60000/60000 [==============================] - 6s 100us/sample - loss: 0.0084\n",
      "Epoch 98/100\n",
      "60000/60000 [==============================] - 6s 100us/sample - loss: 0.0055\n",
      "Epoch 99/100\n",
      "60000/60000 [==============================] - 6s 101us/sample - loss: 0.0059\n",
      "Epoch 100/100\n",
      "60000/60000 [==============================] - 6s 100us/sample - loss: 0.0058\n",
      "\n",
      "model fit Δt: 10m,  6.0s.\n",
      "10000/10000 [==============================] - 1s 54us/sample - loss: 0.3488\n",
      "[0. 0. 0. 0. 0. 0. 0. 1. 0. 0.]\n",
      "7\n"
     ]
    }
   ],
   "source": [
    "import tensorflow as tf\n",
    "print(tf.__version__)\n",
    "\n",
    "mnist = tf.keras.datasets.mnist\n",
    "\n",
    "(training_images, training_labels) ,  (test_images, test_labels) = mnist.load_data()\n",
    "\n",
    "training_images = training_images/255.0\n",
    "test_images = test_images/255.0\n",
    "\n",
    "model = tf.keras.models.Sequential([tf.keras.layers.Flatten(),\n",
    "                                    tf.keras.layers.Dense(256, activation=tf.nn.relu),\n",
    "                                    tf.keras.layers.Dense(256, activation=tf.nn.relu),\n",
    "                                    tf.keras.layers.Dense(10, activation=tf.nn.softmax)])\n",
    "\n",
    "model.compile(optimizer = 'adam',\n",
    "              loss = 'sparse_categorical_crossentropy')\n",
    "\n",
    "t0 = time()\n",
    "model.fit(training_images, training_labels, epochs=100)\n",
    "Δt = time() - t0\n",
    "print(f\"\\nmodel fit Δt: {int(Δt//60)}m, {Δt % 60.0:4.1f}s.\")\n",
    "\n",
    "model.evaluate(test_images, test_labels)\n",
    "\n",
    "classifications = model.predict(test_images)\n",
    "\n",
    "print(classifications[0])\n",
    "print(test_labels[0])"
   ]
  },
  {
   "cell_type": "markdown",
   "metadata": {
    "colab_type": "text",
    "id": "Bql9fyaNUSFy"
   },
   "source": [
    "### Exercise 6: \n",
    "\n",
    "#### Question 1. Consider the impact of training for more or fewer epochs. Why do you think that would be the case? \n",
    "\n",
    "Try 15 epochs -- you'll probably get a model with a much better loss than the one with 5\n",
    "Try 30 epochs -- you might see the loss value stops decreasing, and sometimes increases. This is a side effect of something called 'overfitting' which you can learn about [somewhere] and it's something you need to keep an eye out for when training neural networks. There's no point in wasting your time training if you aren't improving your loss, right! :)"
   ]
  },
  {
   "cell_type": "code",
   "execution_count": null,
   "metadata": {
    "colab": {},
    "colab_type": "code",
    "id": "uE3esj9BURQe"
   },
   "outputs": [],
   "source": [
    "import tensorflow as tf\n",
    "print(tf.__version__)\n",
    "\n",
    "mnist = tf.keras.datasets.mnist\n",
    "\n",
    "(training_images, training_labels) ,  (test_images, test_labels) = mnist.load_data()\n",
    "\n",
    "training_images = training_images/255.0\n",
    "test_images = test_images/255.0\n",
    "\n",
    "model = tf.keras.models.Sequential([tf.keras.layers.Flatten(),\n",
    "                                    tf.keras.layers.Dense(512, activation=tf.nn.relu),\n",
    "                                    tf.keras.layers.Dense(10, activation=tf.nn.softmax)])\n",
    "\n",
    "model.compile(optimizer = 'adam',\n",
    "              loss = 'sparse_categorical_crossentropy')\n",
    "\n",
    "t0 = time()\n",
    "model.fit(training_images, training_labels, epochs=50)\n",
    "Δt = time() - t0\n",
    "print(f\"\\nmodel fit Δt: {int(Δt//60)}m, {Δt % 60.0:4.1f}s.\")\n",
    "\n",
    "model.evaluate(test_images, test_labels)\n",
    "\n",
    "classifications = model.predict(test_images)\n",
    "\n",
    "print(classifications[34])\n",
    "print(test_labels[34])"
   ]
  },
  {
   "cell_type": "markdown",
   "metadata": {
    "colab_type": "text",
    "id": "HS3vVkOgCDGZ"
   },
   "source": [
    "### Exercise 7: \n",
    "\n",
    "#### Question 1. Before you trained, you normalized the data, going from values that were 0-255 to values that were 0-1. What would be the impact of removing that?\n",
    "\n",
    "Here's the complete code to give it a try. Why do you think you get different results? "
   ]
  },
  {
   "cell_type": "code",
   "execution_count": 20,
   "metadata": {
    "colab": {},
    "colab_type": "code",
    "id": "JDqNAqrpCNg0"
   },
   "outputs": [
    {
     "name": "stdout",
     "output_type": "stream",
     "text": [
      "1.14.0\n",
      "Epoch 1/25\n",
      "60000/60000 [==============================] - 7s 116us/sample - loss: 2.4515\n",
      "Epoch 2/25\n",
      "60000/60000 [==============================] - 7s 112us/sample - loss: 0.3308\n",
      "Epoch 3/25\n",
      "60000/60000 [==============================] - 7s 110us/sample - loss: 0.2997\n",
      "Epoch 4/25\n",
      "60000/60000 [==============================] - 7s 111us/sample - loss: 0.2737\n",
      "Epoch 5/25\n",
      "60000/60000 [==============================] - 7s 110us/sample - loss: 0.2438\n",
      "Epoch 6/25\n",
      "60000/60000 [==============================] - 7s 114us/sample - loss: 0.2219\n",
      "Epoch 7/25\n",
      "60000/60000 [==============================] - 7s 110us/sample - loss: 0.2229\n",
      "Epoch 8/25\n",
      "60000/60000 [==============================] - 7s 111us/sample - loss: 0.2022\n",
      "Epoch 9/25\n",
      "60000/60000 [==============================] - 7s 115us/sample - loss: 0.1949\n",
      "Epoch 10/25\n",
      "60000/60000 [==============================] - 15s 252us/sample - loss: 0.1909\n",
      "Epoch 11/25\n",
      "60000/60000 [==============================] - 7s 109us/sample - loss: 0.1965\n",
      "Epoch 12/25\n",
      "60000/60000 [==============================] - 7s 110us/sample - loss: 0.1738\n",
      "Epoch 13/25\n",
      "60000/60000 [==============================] - 6s 105us/sample - loss: 0.1829\n",
      "Epoch 14/25\n",
      "60000/60000 [==============================] - 6s 105us/sample - loss: 0.1723\n",
      "Epoch 15/25\n",
      "60000/60000 [==============================] - 7s 113us/sample - loss: 0.1810\n",
      "Epoch 16/25\n",
      "60000/60000 [==============================] - 7s 112us/sample - loss: 0.1537\n",
      "Epoch 17/25\n",
      "60000/60000 [==============================] - 7s 117us/sample - loss: 0.1583\n",
      "Epoch 18/25\n",
      "60000/60000 [==============================] - 18s 294us/sample - loss: 0.1512\n",
      "Epoch 19/25\n",
      "60000/60000 [==============================] - 15s 246us/sample - loss: 0.1670\n",
      "Epoch 20/25\n",
      "60000/60000 [==============================] - 7s 114us/sample - loss: 0.1527\n",
      "Epoch 21/25\n",
      "60000/60000 [==============================] - 7s 115us/sample - loss: 0.1594\n",
      "Epoch 22/25\n",
      "60000/60000 [==============================] - 7s 112us/sample - loss: 0.1463\n",
      "Epoch 23/25\n",
      "60000/60000 [==============================] - 10s 172us/sample - loss: 0.1513\n",
      "Epoch 24/25\n",
      "60000/60000 [==============================] - 16s 263us/sample - loss: 0.1551\n",
      "Epoch 25/25\n",
      "60000/60000 [==============================] - 10s 162us/sample - loss: 0.1562\n",
      "\n",
      "model fit Δt: 3m, 30.7s.\n",
      "10000/10000 [==============================] - 1s 57us/sample - loss: 0.5983\n",
      "[0.0000000e+00 1.4847594e-29 6.2131231e-38 0.0000000e+00 0.0000000e+00\n",
      " 0.0000000e+00 0.0000000e+00 1.0000000e+00 0.0000000e+00 9.0442673e-34]\n",
      "7\n"
     ]
    }
   ],
   "source": [
    "import tensorflow as tf\n",
    "print(tf.__version__)\n",
    "mnist = tf.keras.datasets.mnist\n",
    "(training_images, training_labels), (test_images, test_labels) = mnist.load_data()\n",
    "training_images=training_images/1.0\t\t# This merely converts to floating point\n",
    "test_images=test_images/1.0\n",
    "\n",
    "model = tf.keras.models.Sequential([tf.keras.layers.Flatten(),\n",
    "                                    tf.keras.layers.Dense(512, activation=tf.nn.relu),\n",
    "                                    tf.keras.layers.Dense(10, activation=tf.nn.softmax)])\n",
    "\n",
    "model.compile(optimizer='adam', loss='sparse_categorical_crossentropy')\n",
    "\n",
    "t0 = time()\n",
    "model.fit(training_images, training_labels, epochs=25)\n",
    "Δt = time() - t0\n",
    "print(f\"\\nmodel fit Δt: {int(Δt//60)}m, {Δt % 60.0:4.1f}s.\")\n",
    "\n",
    "model.evaluate(test_images, test_labels)\n",
    "classifications = model.predict(test_images)\n",
    "print(classifications[0])\n",
    "print(test_labels[0])"
   ]
  },
  {
   "cell_type": "markdown",
   "metadata": {
    "colab_type": "text",
    "id": "E7W2PT66ZBHQ"
   },
   "source": [
    "### Exercise 8: \n",
    "\n",
    "Earlier when you trained for extra epochs you had an issue where your loss might change. It might have taken a bit of time for you to wait for the training to do that, and you might have thought 'wouldn't it be nice if I could stop the training when I reach a desired value?' -- i.e. 95% accuracy might be enough for you, and if you reach that after 3 epochs, why sit around waiting for it to finish a lot more epochs....So how would you fix that? Like any other program...you have callbacks! Let's see them in action..."
   ]
  },
  {
   "cell_type": "code",
   "execution_count": 22,
   "metadata": {
    "colab": {},
    "colab_type": "code",
    "id": "pkaEHHgqZbYv"
   },
   "outputs": [
    {
     "name": "stdout",
     "output_type": "stream",
     "text": [
      "1.14.0\n",
      "Epoch 1/25\n",
      "60000/60000 [==============================] - 7s 118us/sample - loss: 0.4764\n",
      "Epoch 2/25\n",
      "60000/60000 [==============================] - 7s 112us/sample - loss: 0.3592\n",
      "Epoch 3/25\n",
      "60000/60000 [==============================] - 7s 115us/sample - loss: 0.3230\n",
      "Epoch 4/25\n",
      "60000/60000 [==============================] - 7s 113us/sample - loss: 0.2985\n",
      "Epoch 5/25\n",
      "60000/60000 [==============================] - 7s 114us/sample - loss: 0.2807\n",
      "Epoch 6/25\n",
      "60000/60000 [==============================] - 7s 114us/sample - loss: 0.2647\n",
      "Epoch 7/25\n",
      "60000/60000 [==============================] - 7s 116us/sample - loss: 0.2543\n",
      "Epoch 8/25\n",
      "60000/60000 [==============================] - 7s 116us/sample - loss: 0.2405\n",
      "Epoch 9/25\n",
      "60000/60000 [==============================] - 7s 113us/sample - loss: 0.2318\n",
      "Epoch 10/25\n",
      "60000/60000 [==============================] - 7s 114us/sample - loss: 0.2220\n",
      "Epoch 11/25\n",
      "60000/60000 [==============================] - 7s 114us/sample - loss: 0.2132\n",
      "Epoch 12/25\n",
      "60000/60000 [==============================] - 7s 115us/sample - loss: 0.2089\n",
      "Epoch 13/25\n",
      "60000/60000 [==============================] - 7s 118us/sample - loss: 0.1988\n",
      "Epoch 14/25\n",
      "60000/60000 [==============================] - 7s 116us/sample - loss: 0.1929\n",
      "Epoch 15/25\n",
      "60000/60000 [==============================] - 7s 116us/sample - loss: 0.1854\n",
      "Epoch 16/25\n",
      "60000/60000 [==============================] - 7s 118us/sample - loss: 0.1785\n",
      "Epoch 17/25\n",
      "60000/60000 [==============================] - 7s 119us/sample - loss: 0.1751\n",
      "Epoch 18/25\n",
      "60000/60000 [==============================] - 7s 118us/sample - loss: 0.1670\n",
      "Epoch 19/25\n",
      "60000/60000 [==============================] - 7s 116us/sample - loss: 0.1650\n",
      "Epoch 20/25\n",
      "60000/60000 [==============================] - 7s 116us/sample - loss: 0.1578\n",
      "Epoch 21/25\n",
      "60000/60000 [==============================] - 7s 115us/sample - loss: 0.1546\n",
      "Epoch 22/25\n",
      "59648/60000 [============================>.] - ETA: 0s - loss: 0.1495\n",
      "Reached 85% accuracy so cancelling training!\n",
      "60000/60000 [==============================] - 7s 115us/sample - loss: 0.1496\n",
      "\n",
      "model fit Δt: 2m, 32.7s.\n"
     ]
    }
   ],
   "source": [
    "import tensorflow as tf\n",
    "print(tf.__version__)\n",
    "\n",
    "class myCallback(tf.keras.callbacks.Callback):\n",
    "    def on_epoch_end(self, epoch, logs={}):\n",
    "        if(logs.get('loss')<0.15):\n",
    "            print(\"\\nReached 85% accuracy so cancelling training!\")\n",
    "            self.model.stop_training = True\n",
    "\n",
    "callbacks = myCallback()\n",
    "\n",
    "\n",
    "mnist = tf.keras.datasets.fashion_mnist\n",
    "(training_images, training_labels) ,  (test_images, test_labels) = mnist.load_data()\n",
    "\n",
    "training_images = training_images/255.0\n",
    "test_images = test_images/255.0\n",
    "\n",
    "model = tf.keras.models.Sequential([tf.keras.layers.Flatten(),\n",
    "                                    tf.keras.layers.Dense(512, activation=tf.nn.relu),\n",
    "                                    tf.keras.layers.Dense(10, activation=tf.nn.softmax)])\n",
    "\n",
    "model.compile(optimizer = 'adam',\n",
    "              loss = 'sparse_categorical_crossentropy')\n",
    "\n",
    "t0 = time()\n",
    "model.fit(training_images, training_labels, epochs=25, callbacks=[callbacks])\n",
    "Δt = time() - t0\n",
    "print(f\"\\nmodel fit Δt: {int(Δt//60)}m, {Δt % 60.0:4.1f}s.\")"
   ]
  },
  {
   "cell_type": "code",
   "execution_count": null,
   "metadata": {},
   "outputs": [],
   "source": []
  }
 ],
 "metadata": {
  "colab": {
   "collapsed_sections": [],
   "name": "Course 1 - Part 4 - Lesson 2 - Notebook.ipynb",
   "provenance": [
    {
     "file_id": "1yhyaHJIeyutXBuE2HmViuD-tV5EMqzUG",
     "timestamp": 1547798065395
    }
   ],
   "version": "0.3.2"
  },
  "kernelspec": {
   "display_name": "Python 3",
   "language": "python",
   "name": "python3"
  },
  "language_info": {
   "codemirror_mode": {
    "name": "ipython",
    "version": 3
   },
   "file_extension": ".py",
   "mimetype": "text/x-python",
   "name": "python",
   "nbconvert_exporter": "python",
   "pygments_lexer": "ipython3",
   "version": "3.7.3"
  },
  "toc": {
   "base_numbering": 1,
   "nav_menu": {},
   "number_sections": false,
   "sideBar": true,
   "skip_h1_title": true,
   "title_cell": "Table of Contents",
   "title_sidebar": "Contents",
   "toc_cell": false,
   "toc_position": {
    "height": "116px",
    "left": "10px",
    "top": "150px",
    "width": "282.391px"
   },
   "toc_section_display": false,
   "toc_window_display": true
  }
 },
 "nbformat": 4,
 "nbformat_minor": 1
}
