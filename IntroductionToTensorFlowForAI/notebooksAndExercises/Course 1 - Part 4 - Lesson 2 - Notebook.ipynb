{
 "cells": [
  {
   "cell_type": "markdown",
   "metadata": {
    "colab_type": "text",
    "id": "qnyTxjK_GbOD"
   },
   "source": [
    "# Beyond Hello World, A Computer Vision Example\n",
    "In the previous exercise you saw how to create a neural network that figured out the problem you were trying to solve. This gave an explicit example of learned behavior. Of course, in that instance, it was a bit of overkill because it would have been easier to write the function Y=2x-1 directly, instead of bothering with using Machine Learning to learn the relationship between X and Y for a fixed set of values, and extending that for all values.\n",
    "\n",
    "But what about a scenario where writing rules like that is much more difficult -- for example a computer vision problem? Let's take a look at a scenario where we can recognize different items of clothing, trained from a dataset containing 10 different types.\n",
    "\n",
    "***Unlike the original Coursera notebook, this uses `tf.keras.datasets.fashion_mnist` throughout, rather than mixing cases of `tf.keras.datasets.mnist` containing MNIST digits.***"
   ]
  },
  {
   "cell_type": "code",
   "execution_count": 5,
   "metadata": {
    "colab": {
     "base_uri": "https://localhost:8080/",
     "height": 34
    },
    "colab_type": "code",
    "executionInfo": {
     "elapsed": 1577,
     "status": "ok",
     "timestamp": 1550587660097,
     "user": {
      "displayName": "Laurence Moroney",
      "photoUrl": "https://lh3.googleusercontent.com/-RcxktLY-TBk/AAAAAAAAAAI/AAAAAAAAABY/b4V4dTIqmPI/s64/photo.jpg",
      "userId": "06401446828348966425"
     },
     "user_tz": 480
    },
    "id": "q3KzJyjv3rnA",
    "outputId": "7a1ceed7-66f6-4a43-b3f4-26d54bd95817"
   },
   "outputs": [
    {
     "name": "stdout",
     "output_type": "stream",
     "text": [
      "1.14.0\n"
     ]
    }
   ],
   "source": [
    "import tensorflow as tf\n",
    "print(tf.__version__)\n",
    "\n",
    "from time import time\n",
    "from timeit import default_timer"
   ]
  },
  {
   "cell_type": "markdown",
   "metadata": {},
   "source": [
    "#### To ensure reproducibility, set a bunch of random seed values\n",
    "\n",
    "***Note: TensorFlow will not produce reproducible results if using a GPU!***"
   ]
  },
  {
   "cell_type": "code",
   "execution_count": 3,
   "metadata": {},
   "outputs": [],
   "source": [
    "# Seed value\n",
    "# Apparently you may use different seed values at each stage\n",
    "seed_value= 0\n",
    "\n",
    "# 1. Set `PYTHONHASHSEED` environment variable at a fixed value\n",
    "import os\n",
    "os.environ['PYTHONHASHSEED']=str(seed_value)\n",
    "\n",
    "# 2. Set `python` built-in pseudo-random generator at a fixed value\n",
    "import random\n",
    "random.seed(seed_value)\n",
    "\n",
    "# 3. Set `numpy` pseudo-random generator at a fixed value\n",
    "import numpy as np\n",
    "np.random.seed(seed_value)\n",
    "\n",
    "# 4. Set `tensorflow` pseudo-random generator at a fixed value\n",
    "tf.set_random_seed(seed_value)"
   ]
  },
  {
   "cell_type": "markdown",
   "metadata": {
    "colab_type": "text",
    "id": "H41FYgtlHPjW"
   },
   "source": [
    "## Start Coding\n",
    "\n",
    "Let's start with our import of TensorFlow"
   ]
  },
  {
   "cell_type": "markdown",
   "metadata": {
    "colab_type": "text",
    "id": "n_n1U5do3u_F"
   },
   "source": [
    "The Fashion MNIST data is available directly in the tf.keras datasets API. You load it like this:"
   ]
  },
  {
   "cell_type": "code",
   "execution_count": 3,
   "metadata": {
    "colab": {},
    "colab_type": "code",
    "id": "PmxkHFpt31bM"
   },
   "outputs": [],
   "source": [
    "mnist = tf.keras.datasets.fashion_mnist"
   ]
  },
  {
   "cell_type": "markdown",
   "metadata": {
    "colab_type": "text",
    "id": "GuoLQQBT4E-_"
   },
   "source": [
    "Calling load_data on this object will give you two sets of two lists, these will be the training and testing values for the graphics that contain the clothing items and their labels.\n"
   ]
  },
  {
   "cell_type": "code",
   "execution_count": 4,
   "metadata": {
    "colab": {
     "base_uri": "https://localhost:8080/",
     "height": 204
    },
    "colab_type": "code",
    "executionInfo": {
     "elapsed": 1381,
     "status": "ok",
     "timestamp": 1550587667916,
     "user": {
      "displayName": "Laurence Moroney",
      "photoUrl": "https://lh3.googleusercontent.com/-RcxktLY-TBk/AAAAAAAAAAI/AAAAAAAAABY/b4V4dTIqmPI/s64/photo.jpg",
      "userId": "06401446828348966425"
     },
     "user_tz": 480
    },
    "id": "BTdRgExe4TRB",
    "outputId": "104aab14-aa09-4ed2-806c-38807fbac030"
   },
   "outputs": [],
   "source": [
    "(training_images, training_labels), (test_images, test_labels) = mnist.load_data()"
   ]
  },
  {
   "cell_type": "markdown",
   "metadata": {
    "colab_type": "text",
    "id": "rw395ROx4f5Q"
   },
   "source": [
    "What does these values look like? Let's print a training image, and a training label to see...Experiment with different indices in the array. For example, also take a look at index 42...that's a a different boot than the one at index 0\n"
   ]
  },
  {
   "cell_type": "code",
   "execution_count": 5,
   "metadata": {
    "colab": {
     "base_uri": "https://localhost:8080/",
     "height": 1238
    },
    "colab_type": "code",
    "executionInfo": {
     "elapsed": 357,
     "status": "ok",
     "timestamp": 1550587722332,
     "user": {
      "displayName": "Laurence Moroney",
      "photoUrl": "https://lh3.googleusercontent.com/-RcxktLY-TBk/AAAAAAAAAAI/AAAAAAAAABY/b4V4dTIqmPI/s64/photo.jpg",
      "userId": "06401446828348966425"
     },
     "user_tz": 480
    },
    "id": "FPc9d3gJ3jWF",
    "outputId": "5efae963-162d-4418-c001-2e8d6af83f40"
   },
   "outputs": [
    {
     "name": "stdout",
     "output_type": "stream",
     "text": [
      "9\n",
      "[[  0   0   0   0   0   0   0   0   0   0   0   0   0   0   0   0   0   0\n",
      "    0   0   0   0   0   0   0   0   0   0]\n",
      " [  0   0   0   0   0   0   0   0   0   0   0   0   0   0   0   0   0   0\n",
      "    0   0   0   0   0   0   0   0   0   0]\n",
      " [  0   0   0   0   0   0   0   0   0   0   0   0   0   0   0   0   0   0\n",
      "    0   0   0   0   0   0   0   0   0   0]\n",
      " [  0   0   0   0   0   0   0   0   0   0   0   0   1   0   0  13  73   0\n",
      "    0   1   4   0   0   0   0   1   1   0]\n",
      " [  0   0   0   0   0   0   0   0   0   0   0   0   3   0  36 136 127  62\n",
      "   54   0   0   0   1   3   4   0   0   3]\n",
      " [  0   0   0   0   0   0   0   0   0   0   0   0   6   0 102 204 176 134\n",
      "  144 123  23   0   0   0   0  12  10   0]\n",
      " [  0   0   0   0   0   0   0   0   0   0   0   0   0   0 155 236 207 178\n",
      "  107 156 161 109  64  23  77 130  72  15]\n",
      " [  0   0   0   0   0   0   0   0   0   0   0   1   0  69 207 223 218 216\n",
      "  216 163 127 121 122 146 141  88 172  66]\n",
      " [  0   0   0   0   0   0   0   0   0   1   1   1   0 200 232 232 233 229\n",
      "  223 223 215 213 164 127 123 196 229   0]\n",
      " [  0   0   0   0   0   0   0   0   0   0   0   0   0 183 225 216 223 228\n",
      "  235 227 224 222 224 221 223 245 173   0]\n",
      " [  0   0   0   0   0   0   0   0   0   0   0   0   0 193 228 218 213 198\n",
      "  180 212 210 211 213 223 220 243 202   0]\n",
      " [  0   0   0   0   0   0   0   0   0   1   3   0  12 219 220 212 218 192\n",
      "  169 227 208 218 224 212 226 197 209  52]\n",
      " [  0   0   0   0   0   0   0   0   0   0   6   0  99 244 222 220 218 203\n",
      "  198 221 215 213 222 220 245 119 167  56]\n",
      " [  0   0   0   0   0   0   0   0   0   4   0   0  55 236 228 230 228 240\n",
      "  232 213 218 223 234 217 217 209  92   0]\n",
      " [  0   0   1   4   6   7   2   0   0   0   0   0 237 226 217 223 222 219\n",
      "  222 221 216 223 229 215 218 255  77   0]\n",
      " [  0   3   0   0   0   0   0   0   0  62 145 204 228 207 213 221 218 208\n",
      "  211 218 224 223 219 215 224 244 159   0]\n",
      " [  0   0   0   0  18  44  82 107 189 228 220 222 217 226 200 205 211 230\n",
      "  224 234 176 188 250 248 233 238 215   0]\n",
      " [  0  57 187 208 224 221 224 208 204 214 208 209 200 159 245 193 206 223\n",
      "  255 255 221 234 221 211 220 232 246   0]\n",
      " [  3 202 228 224 221 211 211 214 205 205 205 220 240  80 150 255 229 221\n",
      "  188 154 191 210 204 209 222 228 225   0]\n",
      " [ 98 233 198 210 222 229 229 234 249 220 194 215 217 241  65  73 106 117\n",
      "  168 219 221 215 217 223 223 224 229  29]\n",
      " [ 75 204 212 204 193 205 211 225 216 185 197 206 198 213 240 195 227 245\n",
      "  239 223 218 212 209 222 220 221 230  67]\n",
      " [ 48 203 183 194 213 197 185 190 194 192 202 214 219 221 220 236 225 216\n",
      "  199 206 186 181 177 172 181 205 206 115]\n",
      " [  0 122 219 193 179 171 183 196 204 210 213 207 211 210 200 196 194 191\n",
      "  195 191 198 192 176 156 167 177 210  92]\n",
      " [  0   0  74 189 212 191 175 172 175 181 185 188 189 188 193 198 204 209\n",
      "  210 210 211 188 188 194 192 216 170   0]\n",
      " [  2   0   0   0  66 200 222 237 239 242 246 243 244 221 220 193 191 179\n",
      "  182 182 181 176 166 168  99  58   0   0]\n",
      " [  0   0   0   0   0   0   0  40  61  44  72  41  35   0   0   0   0   0\n",
      "    0   0   0   0   0   0   0   0   0   0]\n",
      " [  0   0   0   0   0   0   0   0   0   0   0   0   0   0   0   0   0   0\n",
      "    0   0   0   0   0   0   0   0   0   0]\n",
      " [  0   0   0   0   0   0   0   0   0   0   0   0   0   0   0   0   0   0\n",
      "    0   0   0   0   0   0   0   0   0   0]]\n"
     ]
    }
   ],
   "source": [
    "import matplotlib.pyplot as plt\n",
    "plt.imshow(training_images[0])\n",
    "print(training_labels[0])\n",
    "print(training_images[0])"
   ]
  },
  {
   "cell_type": "markdown",
   "metadata": {
    "colab_type": "text",
    "id": "3cbrdH225_nH"
   },
   "source": [
    "You'll notice that all of the values in the number are between 0 and 255. If we are training a neural network, for various reasons it's easier if we treat all values as between 0 and 1, a process called '**normalizing**'...and fortunately in Python it's easy to normalize a list like this without looping. You do it like this:"
   ]
  },
  {
   "cell_type": "code",
   "execution_count": 6,
   "metadata": {
    "colab": {},
    "colab_type": "code",
    "id": "kRH19pWs6ZDn"
   },
   "outputs": [],
   "source": [
    "training_images  = training_images / 255.0\n",
    "test_images = test_images / 255.0"
   ]
  },
  {
   "cell_type": "markdown",
   "metadata": {
    "colab_type": "text",
    "id": "3DkO0As46lRn"
   },
   "source": [
    "Now you might be wondering why there are 2 sets...training and testing -- remember we spoke about this in the intro? The idea is to have 1 set of data for training, and then another set of data...that the model hasn't yet seen...to see how good it would be at classifying values. After all, when you're done, you're going to want to try it out with data that it hadn't previously seen!"
   ]
  },
  {
   "cell_type": "markdown",
   "metadata": {
    "colab_type": "text",
    "id": "dIn7S9gf62ie"
   },
   "source": [
    "Let's now design the model. There's quite a few new concepts here, but don't worry, you'll get the hang of them. "
   ]
  },
  {
   "cell_type": "code",
   "execution_count": 7,
   "metadata": {
    "colab": {},
    "colab_type": "code",
    "id": "7mAyndG3kVlK"
   },
   "outputs": [
    {
     "name": "stderr",
     "output_type": "stream",
     "text": [
      "WARNING: Logging before flag parsing goes to stderr.\n",
      "W0723 09:53:00.583595 139772214904640 deprecation.py:506] From /usr/local/lib/python3.7/site-packages/tensorflow/python/ops/init_ops.py:1251: calling VarianceScaling.__init__ (from tensorflow.python.ops.init_ops) with dtype is deprecated and will be removed in a future version.\n",
      "Instructions for updating:\n",
      "Call initializer instance with the dtype argument instead of passing it to the constructor\n"
     ]
    }
   ],
   "source": [
    "model = tf.keras.models.Sequential([tf.keras.layers.Flatten(), \n",
    "                                    tf.keras.layers.Dense(128, activation=tf.nn.relu), \n",
    "                                    tf.keras.layers.Dense(10, activation=tf.nn.softmax)])"
   ]
  },
  {
   "cell_type": "markdown",
   "metadata": {
    "colab_type": "text",
    "id": "-lUcWaiX7MFj"
   },
   "source": [
    "**Sequential**: That defines a SEQUENCE of layers in the neural network\n",
    "\n",
    "**Flatten**: Remember earlier where our images were a square, when you printed them out? Flatten just takes that square and turns it into a 1 dimensional set.\n",
    "\n",
    "**Dense**: Adds a layer of neurons\n",
    "\n",
    "Each layer of neurons need an **activation function** to tell them what to do. There's lots of options, but just use these for now. \n",
    "\n",
    "**Relu** effectively means \"If X>0 return X, else return 0\" -- so what it does it it only passes values 0 or greater to the next layer in the network.\n",
    "\n",
    "**Softmax** takes a set of values, and effectively picks the biggest one, so, for example, if the output of the last layer looks like [0.1, 0.1, 0.05, 0.1, 9.5, 0.1, 0.05, 0.05, 0.05], it saves you from fishing through it looking for the biggest value, and turns it into [0,0,0,0,1,0,0,0,0] -- The goal is to save a lot of coding!\n"
   ]
  },
  {
   "cell_type": "markdown",
   "metadata": {
    "colab_type": "text",
    "id": "c8vbMCqb9Mh6"
   },
   "source": [
    "The next thing to do, now the model is defined, is to actually build it. You do this by compiling it with an optimizer and loss function as before -- and then you train it by calling **model.fit ** asking it to fit your training data to your training labels -- i.e. have it figure out the relationship between the training data and its actual labels, so in future if you have data that looks like the training data, then it can make a prediction for what that data would look like. "
   ]
  },
  {
   "cell_type": "code",
   "execution_count": 8,
   "metadata": {
    "colab": {
     "base_uri": "https://localhost:8080/",
     "height": 204
    },
    "colab_type": "code",
    "executionInfo": {
     "elapsed": 29548,
     "status": "ok",
     "timestamp": 1550587849991,
     "user": {
      "displayName": "Laurence Moroney",
      "photoUrl": "https://lh3.googleusercontent.com/-RcxktLY-TBk/AAAAAAAAAAI/AAAAAAAAABY/b4V4dTIqmPI/s64/photo.jpg",
      "userId": "06401446828348966425"
     },
     "user_tz": 480
    },
    "id": "BLMdl9aP8nQ0",
    "outputId": "91a80606-f0a5-41f0-9d03-91d1ecdc8e17"
   },
   "outputs": [
    {
     "name": "stdout",
     "output_type": "stream",
     "text": [
      "Epoch 1/25\n",
      "60000/60000 [==============================] - 4s 70us/sample - loss: 0.5005 - acc: 0.8220\n",
      "Epoch 2/25\n",
      "60000/60000 [==============================] - 4s 70us/sample - loss: 0.3766 - acc: 0.8647\n",
      "Epoch 3/25\n",
      "60000/60000 [==============================] - 4s 68us/sample - loss: 0.3353 - acc: 0.8776\n",
      "Epoch 4/25\n",
      "60000/60000 [==============================] - 4s 64us/sample - loss: 0.3127 - acc: 0.8848\n",
      "Epoch 5/25\n",
      "60000/60000 [==============================] - 4s 60us/sample - loss: 0.2927 - acc: 0.8917\n",
      "Epoch 6/25\n",
      "60000/60000 [==============================] - 4s 59us/sample - loss: 0.2788 - acc: 0.8970\n",
      "Epoch 7/25\n",
      "60000/60000 [==============================] - 4s 64us/sample - loss: 0.2654 - acc: 0.9015\n",
      "Epoch 8/25\n",
      "60000/60000 [==============================] - 4s 68us/sample - loss: 0.2564 - acc: 0.9039\n",
      "Epoch 9/25\n",
      "60000/60000 [==============================] - 4s 69us/sample - loss: 0.2454 - acc: 0.9074\n",
      "Epoch 10/25\n",
      "60000/60000 [==============================] - 4s 68us/sample - loss: 0.2396 - acc: 0.9110\n",
      "Epoch 11/25\n",
      "60000/60000 [==============================] - 4s 67us/sample - loss: 0.2301 - acc: 0.9131\n",
      "Epoch 12/25\n",
      "60000/60000 [==============================] - 4s 69us/sample - loss: 0.2237 - acc: 0.9148\n",
      "Epoch 13/25\n",
      "60000/60000 [==============================] - 4s 68us/sample - loss: 0.2154 - acc: 0.9195\n",
      "Epoch 14/25\n",
      "60000/60000 [==============================] - 4s 67us/sample - loss: 0.2096 - acc: 0.9213\n",
      "Epoch 15/25\n",
      "60000/60000 [==============================] - 4s 67us/sample - loss: 0.2039 - acc: 0.9233\n",
      "Epoch 16/25\n",
      "60000/60000 [==============================] - 4s 66us/sample - loss: 0.1971 - acc: 0.9251\n",
      "Epoch 17/25\n",
      "60000/60000 [==============================] - 4s 65us/sample - loss: 0.1929 - acc: 0.9278\n",
      "Epoch 18/25\n",
      "60000/60000 [==============================] - 4s 67us/sample - loss: 0.1880 - acc: 0.9285\n",
      "Epoch 19/25\n",
      "60000/60000 [==============================] - 4s 66us/sample - loss: 0.1833 - acc: 0.9298\n",
      "Epoch 20/25\n",
      "60000/60000 [==============================] - 4s 68us/sample - loss: 0.1791 - acc: 0.9314\n",
      "Epoch 21/25\n",
      "60000/60000 [==============================] - 4s 64us/sample - loss: 0.1738 - acc: 0.9348\n",
      "Epoch 22/25\n",
      "60000/60000 [==============================] - 4s 61us/sample - loss: 0.1700 - acc: 0.9361\n",
      "Epoch 23/25\n",
      "60000/60000 [==============================] - 4s 62us/sample - loss: 0.1678 - acc: 0.9371\n",
      "Epoch 24/25\n",
      "60000/60000 [==============================] - 4s 66us/sample - loss: 0.1621 - acc: 0.9390\n",
      "Epoch 25/25\n",
      "60000/60000 [==============================] - 4s 64us/sample - loss: 0.1608 - acc: 0.9396\n",
      "\n",
      "model fit Δt: 1m, 39.3s.\n"
     ]
    }
   ],
   "source": [
    "model.compile(optimizer = tf.train.AdamOptimizer(),\n",
    "              loss = 'sparse_categorical_crossentropy',\n",
    "              metrics=['accuracy'])\n",
    "\n",
    "t0 = time()\n",
    "model.fit(training_images, training_labels, epochs=25)\n",
    "Δt = time() - t0\n",
    "print(f\"\\nmodel fit Δt: {int(Δt//60)}m, {Δt % 60.0:4.1f}s.\")"
   ]
  },
  {
   "cell_type": "markdown",
   "metadata": {
    "colab_type": "text",
    "id": "-JJMsvSB-1UY"
   },
   "source": [
    "Once it's done training -- you should see an accuracy value at the end of the final epoch. It might look something like 0.9098. This tells you that your neural network is about 91% accurate in classifying the training data. I.E., it figured out a pattern match between the image and the labels that worked 91% of the time. Not great, but not bad considering it was only trained for 5 epochs and done quite quickly.\n",
    "\n",
    "But how would it work with unseen data? That's why we have the test images. We can call model.evaluate, and pass in the two sets, and it will report back the loss for each. Let's give it a try:"
   ]
  },
  {
   "cell_type": "code",
   "execution_count": 9,
   "metadata": {
    "colab": {
     "base_uri": "https://localhost:8080/",
     "height": 51
    },
    "colab_type": "code",
    "executionInfo": {
     "elapsed": 832,
     "status": "ok",
     "timestamp": 1550587895553,
     "user": {
      "displayName": "Laurence Moroney",
      "photoUrl": "https://lh3.googleusercontent.com/-RcxktLY-TBk/AAAAAAAAAAI/AAAAAAAAABY/b4V4dTIqmPI/s64/photo.jpg",
      "userId": "06401446828348966425"
     },
     "user_tz": 480
    },
    "id": "WzlqsEzX9s5P",
    "outputId": "4dd8018a-f3ba-4e5b-e163-3d4f5dd12f19"
   },
   "outputs": [
    {
     "name": "stdout",
     "output_type": "stream",
     "text": [
      "10000/10000 [==============================] - 0s 36us/sample - loss: 0.3956 - acc: 0.8832\n"
     ]
    },
    {
     "data": {
      "text/plain": [
       "[0.3956207452893257, 0.8832]"
      ]
     },
     "execution_count": 9,
     "metadata": {},
     "output_type": "execute_result"
    }
   ],
   "source": [
    "model.evaluate(test_images, test_labels)"
   ]
  },
  {
   "cell_type": "markdown",
   "metadata": {
    "colab_type": "text",
    "id": "6tki-Aro_Uax"
   },
   "source": [
    "For me, that returned a accuracy of about .8838, which means it was about 88% accurate. As expected it probably would not do as well with *unseen* data as it did with data it was trained on!  As you go through this course, you'll look at ways to improve this. \n",
    "\n",
    "To explore further, try the below exercises:\n"
   ]
  },
  {
   "cell_type": "markdown",
   "metadata": {
    "colab_type": "text",
    "id": "htldZNWcIPSN"
   },
   "source": [
    "# Exploration Exercises"
   ]
  },
  {
   "cell_type": "markdown",
   "metadata": {
    "colab_type": "text",
    "id": "rquQqIx4AaGR"
   },
   "source": [
    "### Exercise 1:\n",
    "For this first exercise run the below code: It creates a set of classifications for each of the test images, and then prints the first entry in the classifications. The output, after you run it is a list of numbers. Why do you think this is, and what do those numbers represent? "
   ]
  },
  {
   "cell_type": "code",
   "execution_count": 10,
   "metadata": {
    "colab": {},
    "colab_type": "code",
    "id": "RyEIki0z_hAD"
   },
   "outputs": [
    {
     "name": "stdout",
     "output_type": "stream",
     "text": [
      "[1.5770331e-11 4.1191679e-11 3.8599857e-12 1.6767428e-15 1.0556020e-15\n",
      " 2.2329674e-07 2.2510032e-12 8.7730652e-05 3.8850845e-12 9.9991202e-01]\n"
     ]
    }
   ],
   "source": [
    "classifications = model.predict(test_images)\n",
    "\n",
    "print(classifications[0])"
   ]
  },
  {
   "cell_type": "markdown",
   "metadata": {
    "colab_type": "text",
    "id": "MdzqbQhRArzm"
   },
   "source": [
    "Hint: try running print(test_labels[0]) -- and you'll get a 9. Does that help you understand why this list looks the way it does? "
   ]
  },
  {
   "cell_type": "code",
   "execution_count": 11,
   "metadata": {
    "colab": {},
    "colab_type": "code",
    "id": "WnBGOrMiA1n5"
   },
   "outputs": [
    {
     "name": "stdout",
     "output_type": "stream",
     "text": [
      "9\n"
     ]
    }
   ],
   "source": [
    "print(test_labels[0])"
   ]
  },
  {
   "cell_type": "markdown",
   "metadata": {
    "colab_type": "text",
    "id": "uUs7eqr7uSvs"
   },
   "source": [
    "#### Question 1. What does this list represent?\n",
    "\n",
    "\n",
    "1.   It's 10 random meaningless values\n",
    "2.   It's the first 10 classifications that the computer made\n",
    "3.   It's the probability that this item is each of the 10 classes\n",
    "\n"
   ]
  },
  {
   "cell_type": "markdown",
   "metadata": {
    "colab_type": "text",
    "id": "wAbr92RTA67u"
   },
   "source": [
    "#### Answer: \n",
    "The correct answer is (3)\n",
    "\n",
    "The output of the model is a list of 10 numbers. These numbers are a probability that the value being classified is the corresponding value, i.e. the first value in the list is the probability that the clothing item is of class '0', the next is a '1' etc. Notice that they are all VERY LOW probabilities.\n",
    "\n",
    "For the 9, the probability was .996, i.e. the neural network is telling us that it's almost certainly belongs to class 9."
   ]
  },
  {
   "cell_type": "markdown",
   "metadata": {
    "colab_type": "text",
    "id": "CD4kC6TBu-69"
   },
   "source": [
    "#### Question 2. How do you know that this list tells you that the item is an ankle boot?\n",
    "\n",
    "\n",
    "1.   There's not enough information to answer that question\n",
    "2.   The 10th element on the list is the biggest, and the ankle boot is labelled 9\n",
    "2.   The ankle boot is label 9, and there are 0->9 elements in the list\n",
    "\n",
    "\n"
   ]
  },
  {
   "cell_type": "markdown",
   "metadata": {
    "colab_type": "text",
    "id": "I-haLncrva5L"
   },
   "source": [
    "#### Answer\n",
    "The correct answer is (2). Both the list and the labels are 0 based, so the ankle boot having label 9 means that it is the 10th of the 10 classes. The list having the 10th element being the highest value means that the Neural Network has predicted that the item it is classifying is most likely an ankle boot.\n",
    "\n",
    "### Run the following neural net classifier for Fashion MNIST, using a hidden layer with 512 activation units.\n",
    "\n",
    "**25 epochs, GPU:  / CPU: ~2m, 35s**"
   ]
  },
  {
   "cell_type": "code",
   "execution_count": 12,
   "metadata": {
    "colab": {},
    "colab_type": "code",
    "id": "GSZSwV5UObQP"
   },
   "outputs": [
    {
     "name": "stdout",
     "output_type": "stream",
     "text": [
      "Epoch 1/25\n",
      "60000/60000 [==============================] - 6s 107us/sample - loss: 0.4725\n",
      "Epoch 2/25\n",
      "60000/60000 [==============================] - 6s 106us/sample - loss: 0.3569\n",
      "Epoch 3/25\n",
      "60000/60000 [==============================] - 6s 105us/sample - loss: 0.3207\n",
      "Epoch 4/25\n",
      "60000/60000 [==============================] - 6s 106us/sample - loss: 0.2969\n",
      "Epoch 5/25\n",
      "60000/60000 [==============================] - 6s 105us/sample - loss: 0.2780\n",
      "Epoch 6/25\n",
      "60000/60000 [==============================] - 6s 105us/sample - loss: 0.2653\n",
      "Epoch 7/25\n",
      "60000/60000 [==============================] - 6s 104us/sample - loss: 0.2532\n",
      "Epoch 8/25\n",
      "60000/60000 [==============================] - 6s 106us/sample - loss: 0.2411\n",
      "Epoch 9/25\n",
      "60000/60000 [==============================] - 6s 105us/sample - loss: 0.2303\n",
      "Epoch 10/25\n",
      "60000/60000 [==============================] - 6s 104us/sample - loss: 0.2230\n",
      "Epoch 11/25\n",
      "60000/60000 [==============================] - 6s 105us/sample - loss: 0.2124\n",
      "Epoch 12/25\n",
      "60000/60000 [==============================] - 6s 104us/sample - loss: 0.2048\n",
      "Epoch 13/25\n",
      "60000/60000 [==============================] - 6s 104us/sample - loss: 0.1978\n",
      "Epoch 14/25\n",
      "60000/60000 [==============================] - 6s 107us/sample - loss: 0.1931\n",
      "Epoch 15/25\n",
      "60000/60000 [==============================] - 6s 104us/sample - loss: 0.1845\n",
      "Epoch 16/25\n",
      "60000/60000 [==============================] - 6s 103us/sample - loss: 0.1771\n",
      "Epoch 17/25\n",
      "60000/60000 [==============================] - 6s 103us/sample - loss: 0.1736\n",
      "Epoch 18/25\n",
      "60000/60000 [==============================] - 6s 104us/sample - loss: 0.1691\n",
      "Epoch 19/25\n",
      "60000/60000 [==============================] - 6s 104us/sample - loss: 0.1624\n",
      "Epoch 20/25\n",
      "60000/60000 [==============================] - 6s 104us/sample - loss: 0.1578\n",
      "Epoch 21/25\n",
      "60000/60000 [==============================] - 6s 104us/sample - loss: 0.1533\n",
      "Epoch 22/25\n",
      "60000/60000 [==============================] - 6s 105us/sample - loss: 0.1476\n",
      "Epoch 23/25\n",
      "60000/60000 [==============================] - 6s 104us/sample - loss: 0.1450\n",
      "Epoch 24/25\n",
      "60000/60000 [==============================] - 6s 104us/sample - loss: 0.1420\n",
      "Epoch 25/25\n",
      "60000/60000 [==============================] - 6s 108us/sample - loss: 0.1360\n",
      "\n",
      "model fit Δt: 2m, 37.3s.\n",
      "\n",
      "10000/10000 [==============================] - 1s 55us/sample - loss: 0.3991\n",
      "\n",
      "\n",
      " [1.8626867e-13 9.3411151e-17 2.6283591e-16 1.8817326e-22 1.9218954e-13\n",
      " 7.5917725e-08 4.6711880e-13 4.7544523e-05 4.4580587e-14 9.9995244e-01]\n",
      "9\n"
     ]
    }
   ],
   "source": [
    "# import tensorflow as tf\n",
    "# print(tf.__version__)\n",
    "tf.set_random_seed(seed_value)\n",
    "\n",
    "mnist = tf.keras.datasets.fashion_mnist\n",
    "\n",
    "(training_images, training_labels) ,  (test_images, test_labels) = mnist.load_data()\n",
    "\n",
    "training_images = training_images/255.0\n",
    "test_images = test_images/255.0\n",
    "\n",
    "model = tf.keras.models.Sequential([tf.keras.layers.Flatten(),\n",
    "                                    tf.keras.layers.Dense(512, activation=tf.nn.relu),\n",
    "                                    tf.keras.layers.Dense(10, activation=tf.nn.softmax)])\n",
    "\n",
    "model.compile(optimizer = 'adam',\n",
    "              loss = 'sparse_categorical_crossentropy')\n",
    "\n",
    "t0 = time()\n",
    "model.fit(training_images, training_labels, epochs=25)\n",
    "Δt = time() - t0\n",
    "print(f\"\\nmodel fit Δt: {int(Δt//60)}m, {Δt % 60.0:4.1f}s.\\n\")\n",
    "model.evaluate(test_images, test_labels)\n",
    "print(\"\")\n",
    "\n",
    "classifications = model.predict(test_images)\n",
    "\n",
    "print(\"\\n\", classifications[0])\n",
    "print(test_labels[0])"
   ]
  },
  {
   "cell_type": "markdown",
   "metadata": {
    "colab_type": "text",
    "id": "OgQSIfDSOWv6"
   },
   "source": [
    "### Exercise 2: \n",
    "Let's now look at the layers in your model. Experiment with different values for the dense layer with 512 neurons. What different results do you get for loss, training time etc? Why do you think that's the case?\n",
    "\n",
    "#### 128 neurons in hidden layer\n",
    "\n",
    "**25 epochs, GPU: / CPU: ~1m, 40s**"
   ]
  },
  {
   "cell_type": "code",
   "execution_count": 13,
   "metadata": {
    "colab": {},
    "colab_type": "code",
    "id": "GSZSwV5UObQP",
    "scrolled": true
   },
   "outputs": [
    {
     "name": "stdout",
     "output_type": "stream",
     "text": [
      "Epoch 1/25\n",
      "60000/60000 [==============================] - 4s 70us/sample - loss: 0.4943\n",
      "Epoch 2/25\n",
      "60000/60000 [==============================] - 4s 68us/sample - loss: 0.3724\n",
      "Epoch 3/25\n",
      "60000/60000 [==============================] - 4s 71us/sample - loss: 0.3348\n",
      "Epoch 4/25\n",
      "60000/60000 [==============================] - 4s 70us/sample - loss: 0.3106\n",
      "Epoch 5/25\n",
      "60000/60000 [==============================] - 4s 69us/sample - loss: 0.2926\n",
      "Epoch 6/25\n",
      "60000/60000 [==============================] - 4s 69us/sample - loss: 0.2771\n",
      "Epoch 7/25\n",
      "60000/60000 [==============================] - 4s 70us/sample - loss: 0.2656\n",
      "Epoch 8/25\n",
      "60000/60000 [==============================] - 4s 69us/sample - loss: 0.2549\n",
      "Epoch 9/25\n",
      "60000/60000 [==============================] - 4s 70us/sample - loss: 0.2445\n",
      "Epoch 10/25\n",
      "60000/60000 [==============================] - 4s 69us/sample - loss: 0.2360\n",
      "Epoch 11/25\n",
      "60000/60000 [==============================] - 4s 69us/sample - loss: 0.2282\n",
      "Epoch 12/25\n",
      "60000/60000 [==============================] - 4s 67us/sample - loss: 0.2207\n",
      "Epoch 13/25\n",
      "60000/60000 [==============================] - 4s 67us/sample - loss: 0.2123\n",
      "Epoch 14/25\n",
      "60000/60000 [==============================] - 4s 69us/sample - loss: 0.2089\n",
      "Epoch 15/25\n",
      "60000/60000 [==============================] - 4s 69us/sample - loss: 0.2013\n",
      "Epoch 16/25\n",
      "60000/60000 [==============================] - 4s 68us/sample - loss: 0.1981\n",
      "Epoch 17/25\n",
      "60000/60000 [==============================] - 4s 67us/sample - loss: 0.1910\n",
      "Epoch 18/25\n",
      "60000/60000 [==============================] - 4s 67us/sample - loss: 0.1842\n",
      "Epoch 19/25\n",
      "60000/60000 [==============================] - 4s 66us/sample - loss: 0.1824\n",
      "Epoch 20/25\n",
      "60000/60000 [==============================] - 4s 66us/sample - loss: 0.1765\n",
      "Epoch 21/25\n",
      "60000/60000 [==============================] - 4s 67us/sample - loss: 0.1723\n",
      "Epoch 22/25\n",
      "60000/60000 [==============================] - 4s 66us/sample - loss: 0.1664\n",
      "Epoch 23/25\n",
      "60000/60000 [==============================] - 4s 67us/sample - loss: 0.1625\n",
      "Epoch 24/25\n",
      "60000/60000 [==============================] - 4s 66us/sample - loss: 0.1608\n",
      "Epoch 25/25\n",
      "60000/60000 [==============================] - 4s 67us/sample - loss: 0.1581\n",
      "\n",
      "model fit Δt: 1m, 42.4s.\n",
      "\n",
      "10000/10000 [==============================] - 0s 34us/sample - loss: 0.3672\n",
      "\n",
      "\n",
      " [4.00698181e-12 6.59834737e-20 4.42526658e-13 5.70492574e-21\n",
      " 5.52180643e-13 9.62022023e-06 1.13418755e-13 2.68724310e-04\n",
      " 2.96344789e-11 9.99721587e-01]\n",
      "9\n"
     ]
    }
   ],
   "source": [
    "# import tensorflow as tf\n",
    "# print(tf.__version__)\n",
    "tf.set_random_seed(seed_value)\n",
    "\n",
    "mnist = tf.keras.datasets.fashion_mnist\n",
    "\n",
    "(training_images, training_labels) ,  (test_images, test_labels) = mnist.load_data()\n",
    "\n",
    "training_images = training_images/255.0\n",
    "test_images = test_images/255.0\n",
    "\n",
    "model = tf.keras.models.Sequential([tf.keras.layers.Flatten(),\n",
    "                                    tf.keras.layers.Dense(128, activation=tf.nn.relu),\n",
    "                                    tf.keras.layers.Dense(10, activation=tf.nn.softmax)])\n",
    "\n",
    "model.compile(optimizer = 'adam',\n",
    "              loss = 'sparse_categorical_crossentropy')\n",
    "\n",
    "t0 = time()\n",
    "model.fit(training_images, training_labels, epochs=25)\n",
    "Δt = time() - t0\n",
    "print(f\"\\nmodel fit Δt: {int(Δt//60)}m, {Δt % 60.0:4.1f}s.\\n\")\n",
    "model.evaluate(test_images, test_labels)\n",
    "print(\"\")\n",
    "\n",
    "classifications = model.predict(test_images)\n",
    "\n",
    "print(\"\\n\", classifications[0])\n",
    "print(test_labels[0])"
   ]
  },
  {
   "cell_type": "markdown",
   "metadata": {},
   "source": [
    "#### 1024 neurons in hidden layer\n",
    "\n",
    "50 epochs instead of 25, since more neurons to train.\n",
    "\n",
    "**50 epochs, GPU: / CPU: ~8m, 40s**"
   ]
  },
  {
   "cell_type": "code",
   "execution_count": 14,
   "metadata": {
    "colab": {},
    "colab_type": "code",
    "id": "GSZSwV5UObQP"
   },
   "outputs": [
    {
     "name": "stdout",
     "output_type": "stream",
     "text": [
      "Epoch 1/50\n",
      "60000/60000 [==============================] - 10s 175us/sample - loss: 0.4704\n",
      "Epoch 2/50\n",
      "60000/60000 [==============================] - 10s 173us/sample - loss: 0.3563\n",
      "Epoch 3/50\n",
      "60000/60000 [==============================] - 10s 173us/sample - loss: 0.3196\n",
      "Epoch 4/50\n",
      "60000/60000 [==============================] - 10s 172us/sample - loss: 0.2969\n",
      "Epoch 5/50\n",
      "60000/60000 [==============================] - 10s 174us/sample - loss: 0.2773\n",
      "Epoch 6/50\n",
      "60000/60000 [==============================] - 10s 173us/sample - loss: 0.2620\n",
      "Epoch 7/50\n",
      "60000/60000 [==============================] - 10s 174us/sample - loss: 0.2490\n",
      "Epoch 8/50\n",
      "60000/60000 [==============================] - 10s 174us/sample - loss: 0.2368\n",
      "Epoch 9/50\n",
      "60000/60000 [==============================] - 10s 174us/sample - loss: 0.2290\n",
      "Epoch 10/50\n",
      "60000/60000 [==============================] - 10s 173us/sample - loss: 0.2189\n",
      "Epoch 11/50\n",
      "60000/60000 [==============================] - 10s 172us/sample - loss: 0.2120\n",
      "Epoch 12/50\n",
      "60000/60000 [==============================] - 11s 178us/sample - loss: 0.2015\n",
      "Epoch 13/50\n",
      "60000/60000 [==============================] - 11s 180us/sample - loss: 0.1961\n",
      "Epoch 14/50\n",
      "60000/60000 [==============================] - 11s 176us/sample - loss: 0.1885\n",
      "Epoch 15/50\n",
      "60000/60000 [==============================] - 11s 180us/sample - loss: 0.1806\n",
      "Epoch 16/50\n",
      "60000/60000 [==============================] - 11s 177us/sample - loss: 0.1777\n",
      "Epoch 17/50\n",
      "60000/60000 [==============================] - 10s 173us/sample - loss: 0.1689\n",
      "Epoch 18/50\n",
      "60000/60000 [==============================] - 10s 173us/sample - loss: 0.1670\n",
      "Epoch 19/50\n",
      "60000/60000 [==============================] - 10s 173us/sample - loss: 0.1602\n",
      "Epoch 20/50\n",
      "60000/60000 [==============================] - 10s 172us/sample - loss: 0.1543\n",
      "Epoch 21/50\n",
      "60000/60000 [==============================] - 10s 174us/sample - loss: 0.1524\n",
      "Epoch 22/50\n",
      "60000/60000 [==============================] - 10s 173us/sample - loss: 0.1446\n",
      "Epoch 23/50\n",
      "60000/60000 [==============================] - 11s 175us/sample - loss: 0.1447\n",
      "Epoch 24/50\n",
      "60000/60000 [==============================] - 11s 179us/sample - loss: 0.1382\n",
      "Epoch 25/50\n",
      "60000/60000 [==============================] - 11s 177us/sample - loss: 0.1352\n",
      "Epoch 26/50\n",
      "60000/60000 [==============================] - 10s 173us/sample - loss: 0.1329\n",
      "Epoch 27/50\n",
      "60000/60000 [==============================] - 10s 173us/sample - loss: 0.1299\n",
      "Epoch 28/50\n",
      "60000/60000 [==============================] - 10s 173us/sample - loss: 0.1249\n",
      "Epoch 29/50\n",
      "60000/60000 [==============================] - 10s 173us/sample - loss: 0.1219\n",
      "Epoch 30/50\n",
      "60000/60000 [==============================] - 10s 173us/sample - loss: 0.1209\n",
      "Epoch 31/50\n",
      "60000/60000 [==============================] - 10s 172us/sample - loss: 0.1137\n",
      "Epoch 32/50\n",
      "60000/60000 [==============================] - 10s 173us/sample - loss: 0.1122\n",
      "Epoch 33/50\n",
      "60000/60000 [==============================] - 10s 172us/sample - loss: 0.1128\n",
      "Epoch 34/50\n",
      "60000/60000 [==============================] - 10s 173us/sample - loss: 0.1068\n",
      "Epoch 35/50\n",
      "60000/60000 [==============================] - 10s 173us/sample - loss: 0.1097\n",
      "Epoch 36/50\n",
      "60000/60000 [==============================] - 10s 173us/sample - loss: 0.1037\n",
      "Epoch 37/50\n",
      "60000/60000 [==============================] - 10s 173us/sample - loss: 0.1018\n",
      "Epoch 38/50\n",
      "60000/60000 [==============================] - 10s 173us/sample - loss: 0.1023\n",
      "Epoch 39/50\n",
      "60000/60000 [==============================] - 10s 173us/sample - loss: 0.0963\n",
      "Epoch 40/50\n",
      "60000/60000 [==============================] - 10s 173us/sample - loss: 0.0939\n",
      "Epoch 41/50\n",
      "60000/60000 [==============================] - 10s 173us/sample - loss: 0.0935\n",
      "Epoch 42/50\n",
      "60000/60000 [==============================] - 10s 172us/sample - loss: 0.0914\n",
      "Epoch 43/50\n",
      "60000/60000 [==============================] - 10s 172us/sample - loss: 0.0898\n",
      "Epoch 44/50\n",
      "60000/60000 [==============================] - 10s 172us/sample - loss: 0.0838\n",
      "Epoch 45/50\n",
      "60000/60000 [==============================] - 10s 172us/sample - loss: 0.0886\n",
      "Epoch 46/50\n",
      "60000/60000 [==============================] - 10s 173us/sample - loss: 0.0877\n",
      "Epoch 47/50\n",
      "60000/60000 [==============================] - 10s 172us/sample - loss: 0.0821\n",
      "Epoch 48/50\n",
      "60000/60000 [==============================] - 10s 172us/sample - loss: 0.0817\n",
      "Epoch 49/50\n",
      "60000/60000 [==============================] - 10s 175us/sample - loss: 0.0856\n",
      "Epoch 50/50\n",
      "60000/60000 [==============================] - 11s 176us/sample - loss: 0.0784\n",
      "\n",
      "model fit Δt: 8m, 41.6s.\n",
      "\n",
      "10000/10000 [==============================] - 1s 74us/sample - loss: 0.5889\n",
      "\n",
      "\n",
      " [2.49241727e-24 2.65261926e-23 8.00470555e-28 1.03659397e-26\n",
      " 5.44670923e-29 1.11057309e-10 4.46130897e-21 3.63680819e-09\n",
      " 1.14250614e-23 1.00000000e+00]\n",
      "9\n"
     ]
    }
   ],
   "source": [
    "# import tensorflow as tf\n",
    "# print(tf.__version__)\n",
    "tf.set_random_seed(seed_value)\n",
    "\n",
    "mnist = tf.keras.datasets.fashion_mnist\n",
    "\n",
    "(training_images, training_labels) ,  (test_images, test_labels) = mnist.load_data()\n",
    "\n",
    "training_images = training_images/255.0\n",
    "test_images = test_images/255.0\n",
    "\n",
    "model = tf.keras.models.Sequential([tf.keras.layers.Flatten(),\n",
    "                                    tf.keras.layers.Dense(1024, activation=tf.nn.relu),\n",
    "                                    tf.keras.layers.Dense(10, activation=tf.nn.softmax)])\n",
    "\n",
    "model.compile(optimizer = 'adam',\n",
    "              loss = 'sparse_categorical_crossentropy')\n",
    "\n",
    "t0 = time()\n",
    "model.fit(training_images, training_labels, epochs=50)\n",
    "Δt = time() - t0\n",
    "print(f\"\\nmodel fit Δt: {int(Δt//60)}m, {Δt % 60.0:4.1f}s.\\n\")\n",
    "model.evaluate(test_images, test_labels)\n",
    "print(\"\")\n",
    "\n",
    "classifications = model.predict(test_images)\n",
    "\n",
    "print(\"\\n\", classifications[0])\n",
    "print(test_labels[0])"
   ]
  },
  {
   "cell_type": "markdown",
   "metadata": {
    "colab_type": "text",
    "id": "bOOEnHZFv5cS"
   },
   "source": [
    "#### Question 1. Increase to 1024 Neurons -- What's the impact?\n",
    "\n",
    "1. Training takes longer, but is more accurate\n",
    "2. Training takes longer, but no impact on accuracy\n",
    "3. Training takes the same time, but is more accurate\n"
   ]
  },
  {
   "cell_type": "markdown",
   "metadata": {
    "colab_type": "text",
    "id": "U73MUP2lwrI2"
   },
   "source": [
    "#### Answer\n",
    "The correct answer is (1) by adding more Neurons we have to do more calculations, slowing down the process, but in this case they have a good impact -- we do get more accurate. That doesn't mean it's always a case of 'more is better', you can hit the law of diminishing returns very quickly!"
   ]
  },
  {
   "cell_type": "markdown",
   "metadata": {
    "colab_type": "text",
    "id": "WtWxK16hQxLN"
   },
   "source": [
    "### Exercise 3: \n",
    "\n",
    "#### Question 1. What would happen if you remove the Flatten() layer. Why do you think that's the case? \n",
    "\n",
    "\n",
    "#### Answer\n",
    "\n",
    "You get an error about the shape of the data. It may seem vague right now, but it reinforces the rule of thumb that the first layer in your network should be the same shape as your data. Right now our data is 28x28 images, and 28 layers of 28 neurons would be infeasible, so it makes more sense to 'flatten' that 28,28 into a 784x1. Instead of wriitng all the code to handle that ourselves, we add the Flatten() layer at the begining, and when the arrays are loaded into the model later, they'll automatically be flattened for us."
   ]
  },
  {
   "cell_type": "code",
   "execution_count": 15,
   "metadata": {
    "colab": {},
    "colab_type": "code",
    "id": "ExNxCwhcQ18S"
   },
   "outputs": [
    {
     "name": "stdout",
     "output_type": "stream",
     "text": [
      "Epoch 1/5\n"
     ]
    },
    {
     "ename": "InvalidArgumentError",
     "evalue": "logits and labels must have the same first dimension, got logits shape [896,10] and labels shape [32]\n\t [[{{node loss_4/output_1_loss/SparseSoftmaxCrossEntropyWithLogits/SparseSoftmaxCrossEntropyWithLogits}}]]",
     "output_type": "error",
     "traceback": [
      "\u001b[0;31m---------------------------------------------------------------------------\u001b[0m",
      "\u001b[0;31mInvalidArgumentError\u001b[0m                      Traceback (most recent call last)",
      "\u001b[0;32m<ipython-input-15-27bdb5e301d8>\u001b[0m in \u001b[0;36m<module>\u001b[0;34m\u001b[0m\n\u001b[1;32m     18\u001b[0m \u001b[0;34m\u001b[0m\u001b[0m\n\u001b[1;32m     19\u001b[0m \u001b[0mt0\u001b[0m \u001b[0;34m=\u001b[0m \u001b[0mtime\u001b[0m\u001b[0;34m(\u001b[0m\u001b[0;34m)\u001b[0m\u001b[0;34m\u001b[0m\u001b[0;34m\u001b[0m\u001b[0m\n\u001b[0;32m---> 20\u001b[0;31m \u001b[0mmodel\u001b[0m\u001b[0;34m.\u001b[0m\u001b[0mfit\u001b[0m\u001b[0;34m(\u001b[0m\u001b[0mtraining_images\u001b[0m\u001b[0;34m,\u001b[0m \u001b[0mtraining_labels\u001b[0m\u001b[0;34m,\u001b[0m \u001b[0mepochs\u001b[0m\u001b[0;34m=\u001b[0m\u001b[0;36m5\u001b[0m\u001b[0;34m)\u001b[0m\u001b[0;34m\u001b[0m\u001b[0;34m\u001b[0m\u001b[0m\n\u001b[0m\u001b[1;32m     21\u001b[0m \u001b[0mΔt\u001b[0m \u001b[0;34m=\u001b[0m \u001b[0mtime\u001b[0m\u001b[0;34m(\u001b[0m\u001b[0;34m)\u001b[0m \u001b[0;34m-\u001b[0m \u001b[0mt0\u001b[0m\u001b[0;34m\u001b[0m\u001b[0;34m\u001b[0m\u001b[0m\n\u001b[1;32m     22\u001b[0m \u001b[0mprint\u001b[0m\u001b[0;34m(\u001b[0m\u001b[0;34mf\"\\nmodel fit Δt: {int(Δt//60)}m, {Δt % 60.0:4.1f}s.\\n\"\u001b[0m\u001b[0;34m)\u001b[0m\u001b[0;34m\u001b[0m\u001b[0;34m\u001b[0m\u001b[0m\n",
      "\u001b[0;32m/usr/local/lib/python3.7/site-packages/tensorflow/python/keras/engine/training.py\u001b[0m in \u001b[0;36mfit\u001b[0;34m(self, x, y, batch_size, epochs, verbose, callbacks, validation_split, validation_data, shuffle, class_weight, sample_weight, initial_epoch, steps_per_epoch, validation_steps, validation_freq, max_queue_size, workers, use_multiprocessing, **kwargs)\u001b[0m\n\u001b[1;32m    778\u001b[0m           \u001b[0mvalidation_steps\u001b[0m\u001b[0;34m=\u001b[0m\u001b[0mvalidation_steps\u001b[0m\u001b[0;34m,\u001b[0m\u001b[0;34m\u001b[0m\u001b[0;34m\u001b[0m\u001b[0m\n\u001b[1;32m    779\u001b[0m           \u001b[0mvalidation_freq\u001b[0m\u001b[0;34m=\u001b[0m\u001b[0mvalidation_freq\u001b[0m\u001b[0;34m,\u001b[0m\u001b[0;34m\u001b[0m\u001b[0;34m\u001b[0m\u001b[0m\n\u001b[0;32m--> 780\u001b[0;31m           steps_name='steps_per_epoch')\n\u001b[0m\u001b[1;32m    781\u001b[0m \u001b[0;34m\u001b[0m\u001b[0m\n\u001b[1;32m    782\u001b[0m   def evaluate(self,\n",
      "\u001b[0;32m/usr/local/lib/python3.7/site-packages/tensorflow/python/keras/engine/training_arrays.py\u001b[0m in \u001b[0;36mmodel_iteration\u001b[0;34m(model, inputs, targets, sample_weights, batch_size, epochs, verbose, callbacks, val_inputs, val_targets, val_sample_weights, shuffle, initial_epoch, steps_per_epoch, validation_steps, validation_freq, mode, validation_in_fit, prepared_feed_values_from_dataset, steps_name, **kwargs)\u001b[0m\n\u001b[1;32m    361\u001b[0m \u001b[0;34m\u001b[0m\u001b[0m\n\u001b[1;32m    362\u001b[0m         \u001b[0;31m# Get outputs.\u001b[0m\u001b[0;34m\u001b[0m\u001b[0;34m\u001b[0m\u001b[0;34m\u001b[0m\u001b[0m\n\u001b[0;32m--> 363\u001b[0;31m         \u001b[0mbatch_outs\u001b[0m \u001b[0;34m=\u001b[0m \u001b[0mf\u001b[0m\u001b[0;34m(\u001b[0m\u001b[0mins_batch\u001b[0m\u001b[0;34m)\u001b[0m\u001b[0;34m\u001b[0m\u001b[0;34m\u001b[0m\u001b[0m\n\u001b[0m\u001b[1;32m    364\u001b[0m         \u001b[0;32mif\u001b[0m \u001b[0;32mnot\u001b[0m \u001b[0misinstance\u001b[0m\u001b[0;34m(\u001b[0m\u001b[0mbatch_outs\u001b[0m\u001b[0;34m,\u001b[0m \u001b[0mlist\u001b[0m\u001b[0;34m)\u001b[0m\u001b[0;34m:\u001b[0m\u001b[0;34m\u001b[0m\u001b[0;34m\u001b[0m\u001b[0m\n\u001b[1;32m    365\u001b[0m           \u001b[0mbatch_outs\u001b[0m \u001b[0;34m=\u001b[0m \u001b[0;34m[\u001b[0m\u001b[0mbatch_outs\u001b[0m\u001b[0;34m]\u001b[0m\u001b[0;34m\u001b[0m\u001b[0;34m\u001b[0m\u001b[0m\n",
      "\u001b[0;32m/usr/local/lib/python3.7/site-packages/tensorflow/python/keras/backend.py\u001b[0m in \u001b[0;36m__call__\u001b[0;34m(self, inputs)\u001b[0m\n\u001b[1;32m   3290\u001b[0m \u001b[0;34m\u001b[0m\u001b[0m\n\u001b[1;32m   3291\u001b[0m     fetched = self._callable_fn(*array_vals,\n\u001b[0;32m-> 3292\u001b[0;31m                                 run_metadata=self.run_metadata)\n\u001b[0m\u001b[1;32m   3293\u001b[0m     \u001b[0mself\u001b[0m\u001b[0;34m.\u001b[0m\u001b[0m_call_fetch_callbacks\u001b[0m\u001b[0;34m(\u001b[0m\u001b[0mfetched\u001b[0m\u001b[0;34m[\u001b[0m\u001b[0;34m-\u001b[0m\u001b[0mlen\u001b[0m\u001b[0;34m(\u001b[0m\u001b[0mself\u001b[0m\u001b[0;34m.\u001b[0m\u001b[0m_fetches\u001b[0m\u001b[0;34m)\u001b[0m\u001b[0;34m:\u001b[0m\u001b[0;34m]\u001b[0m\u001b[0;34m)\u001b[0m\u001b[0;34m\u001b[0m\u001b[0;34m\u001b[0m\u001b[0m\n\u001b[1;32m   3294\u001b[0m     output_structure = nest.pack_sequence_as(\n",
      "\u001b[0;32m/usr/local/lib/python3.7/site-packages/tensorflow/python/client/session.py\u001b[0m in \u001b[0;36m__call__\u001b[0;34m(self, *args, **kwargs)\u001b[0m\n\u001b[1;32m   1456\u001b[0m         ret = tf_session.TF_SessionRunCallable(self._session._session,\n\u001b[1;32m   1457\u001b[0m                                                \u001b[0mself\u001b[0m\u001b[0;34m.\u001b[0m\u001b[0m_handle\u001b[0m\u001b[0;34m,\u001b[0m \u001b[0margs\u001b[0m\u001b[0;34m,\u001b[0m\u001b[0;34m\u001b[0m\u001b[0;34m\u001b[0m\u001b[0m\n\u001b[0;32m-> 1458\u001b[0;31m                                                run_metadata_ptr)\n\u001b[0m\u001b[1;32m   1459\u001b[0m         \u001b[0;32mif\u001b[0m \u001b[0mrun_metadata\u001b[0m\u001b[0;34m:\u001b[0m\u001b[0;34m\u001b[0m\u001b[0;34m\u001b[0m\u001b[0m\n\u001b[1;32m   1460\u001b[0m           \u001b[0mproto_data\u001b[0m \u001b[0;34m=\u001b[0m \u001b[0mtf_session\u001b[0m\u001b[0;34m.\u001b[0m\u001b[0mTF_GetBuffer\u001b[0m\u001b[0;34m(\u001b[0m\u001b[0mrun_metadata_ptr\u001b[0m\u001b[0;34m)\u001b[0m\u001b[0;34m\u001b[0m\u001b[0;34m\u001b[0m\u001b[0m\n",
      "\u001b[0;31mInvalidArgumentError\u001b[0m: logits and labels must have the same first dimension, got logits shape [896,10] and labels shape [32]\n\t [[{{node loss_4/output_1_loss/SparseSoftmaxCrossEntropyWithLogits/SparseSoftmaxCrossEntropyWithLogits}}]]"
     ]
    }
   ],
   "source": [
    "# import tensorflow as tf\n",
    "# print(tf.__version__)\n",
    "tf.set_random_seed(seed_value)\n",
    "\n",
    "mnist = tf.keras.datasets.fashion_mnist\n",
    "\n",
    "(training_images, training_labels) ,  (test_images, test_labels) = mnist.load_data()\n",
    "\n",
    "training_images = training_images/255.0\n",
    "test_images = test_images/255.0\n",
    "\n",
    "model = tf.keras.models.Sequential([#tf.keras.layers.Flatten(),\n",
    "                                    tf.keras.layers.Dense(64, activation=tf.nn.relu),\n",
    "                                    tf.keras.layers.Dense(10, activation=tf.nn.softmax)])\n",
    "\n",
    "model.compile(optimizer = 'adam',\n",
    "              loss = 'sparse_categorical_crossentropy')\n",
    "\n",
    "t0 = time()\n",
    "model.fit(training_images, training_labels, epochs=5)\n",
    "Δt = time() - t0\n",
    "print(f\"\\nmodel fit Δt: {int(Δt//60)}m, {Δt % 60.0:4.1f}s.\\n\")\n",
    "model.evaluate(test_images, test_labels)\n",
    "print(\"\")\n",
    "\n",
    "classifications = model.predict(test_images)\n",
    "\n",
    "print(\"\\n\", classifications[0])\n",
    "print(test_labels[0])"
   ]
  },
  {
   "cell_type": "markdown",
   "metadata": {
    "colab_type": "text",
    "id": "VqoCR-ieSGDg"
   },
   "source": [
    "### Exercise 4: \n",
    "\n",
    "#### Questions. Consider the final (output) layers. Why are there 10 of them? What would happen if you had a different amount than 10? For example, try training the network with 5\n",
    "\n",
    "#### Answer\n",
    "\n",
    "You get an error as soon as it finds an unexpected value. Another rule of thumb -- the number of neurons in the last layer should match the number of classes you are classifying for. In this case it's the digits 0-9, so there are 10 of them, hence you should have 10 neurons in your final layer."
   ]
  },
  {
   "cell_type": "code",
   "execution_count": 16,
   "metadata": {
    "colab": {},
    "colab_type": "code",
    "id": "MMckVntcSPvo"
   },
   "outputs": [
    {
     "name": "stdout",
     "output_type": "stream",
     "text": [
      "Epoch 1/5\n"
     ]
    },
    {
     "ename": "InvalidArgumentError",
     "evalue": "Received a label value of 9 which is outside the valid range of [0, 5).  Label values: 9 8 5 5 8 9 0 4 8 9 6 0 3 4 4 3 3 6 6 3 6 4 1 5 1 3 3 1 3 8 0 4\n\t [[{{node loss_5/output_1_loss/SparseSoftmaxCrossEntropyWithLogits/SparseSoftmaxCrossEntropyWithLogits}}]]",
     "output_type": "error",
     "traceback": [
      "\u001b[0;31m---------------------------------------------------------------------------\u001b[0m",
      "\u001b[0;31mInvalidArgumentError\u001b[0m                      Traceback (most recent call last)",
      "\u001b[0;32m<ipython-input-16-9fb3ce5fb633>\u001b[0m in \u001b[0;36m<module>\u001b[0;34m\u001b[0m\n\u001b[1;32m     18\u001b[0m \u001b[0;34m\u001b[0m\u001b[0m\n\u001b[1;32m     19\u001b[0m \u001b[0mt0\u001b[0m \u001b[0;34m=\u001b[0m \u001b[0mtime\u001b[0m\u001b[0;34m(\u001b[0m\u001b[0;34m)\u001b[0m\u001b[0;34m\u001b[0m\u001b[0;34m\u001b[0m\u001b[0m\n\u001b[0;32m---> 20\u001b[0;31m \u001b[0mmodel\u001b[0m\u001b[0;34m.\u001b[0m\u001b[0mfit\u001b[0m\u001b[0;34m(\u001b[0m\u001b[0mtraining_images\u001b[0m\u001b[0;34m,\u001b[0m \u001b[0mtraining_labels\u001b[0m\u001b[0;34m,\u001b[0m \u001b[0mepochs\u001b[0m\u001b[0;34m=\u001b[0m\u001b[0;36m5\u001b[0m\u001b[0;34m)\u001b[0m\u001b[0;34m\u001b[0m\u001b[0;34m\u001b[0m\u001b[0m\n\u001b[0m\u001b[1;32m     21\u001b[0m \u001b[0mΔt\u001b[0m \u001b[0;34m=\u001b[0m \u001b[0mtime\u001b[0m\u001b[0;34m(\u001b[0m\u001b[0;34m)\u001b[0m \u001b[0;34m-\u001b[0m \u001b[0mt0\u001b[0m\u001b[0;34m\u001b[0m\u001b[0;34m\u001b[0m\u001b[0m\n\u001b[1;32m     22\u001b[0m \u001b[0mprint\u001b[0m\u001b[0;34m(\u001b[0m\u001b[0;34mf\"\\nmodel fit Δt: {int(Δt//60)}m, {Δt % 60.0:4.1f}s.\\n\"\u001b[0m\u001b[0;34m)\u001b[0m\u001b[0;34m\u001b[0m\u001b[0;34m\u001b[0m\u001b[0m\n",
      "\u001b[0;32m/usr/local/lib/python3.7/site-packages/tensorflow/python/keras/engine/training.py\u001b[0m in \u001b[0;36mfit\u001b[0;34m(self, x, y, batch_size, epochs, verbose, callbacks, validation_split, validation_data, shuffle, class_weight, sample_weight, initial_epoch, steps_per_epoch, validation_steps, validation_freq, max_queue_size, workers, use_multiprocessing, **kwargs)\u001b[0m\n\u001b[1;32m    778\u001b[0m           \u001b[0mvalidation_steps\u001b[0m\u001b[0;34m=\u001b[0m\u001b[0mvalidation_steps\u001b[0m\u001b[0;34m,\u001b[0m\u001b[0;34m\u001b[0m\u001b[0;34m\u001b[0m\u001b[0m\n\u001b[1;32m    779\u001b[0m           \u001b[0mvalidation_freq\u001b[0m\u001b[0;34m=\u001b[0m\u001b[0mvalidation_freq\u001b[0m\u001b[0;34m,\u001b[0m\u001b[0;34m\u001b[0m\u001b[0;34m\u001b[0m\u001b[0m\n\u001b[0;32m--> 780\u001b[0;31m           steps_name='steps_per_epoch')\n\u001b[0m\u001b[1;32m    781\u001b[0m \u001b[0;34m\u001b[0m\u001b[0m\n\u001b[1;32m    782\u001b[0m   def evaluate(self,\n",
      "\u001b[0;32m/usr/local/lib/python3.7/site-packages/tensorflow/python/keras/engine/training_arrays.py\u001b[0m in \u001b[0;36mmodel_iteration\u001b[0;34m(model, inputs, targets, sample_weights, batch_size, epochs, verbose, callbacks, val_inputs, val_targets, val_sample_weights, shuffle, initial_epoch, steps_per_epoch, validation_steps, validation_freq, mode, validation_in_fit, prepared_feed_values_from_dataset, steps_name, **kwargs)\u001b[0m\n\u001b[1;32m    361\u001b[0m \u001b[0;34m\u001b[0m\u001b[0m\n\u001b[1;32m    362\u001b[0m         \u001b[0;31m# Get outputs.\u001b[0m\u001b[0;34m\u001b[0m\u001b[0;34m\u001b[0m\u001b[0;34m\u001b[0m\u001b[0m\n\u001b[0;32m--> 363\u001b[0;31m         \u001b[0mbatch_outs\u001b[0m \u001b[0;34m=\u001b[0m \u001b[0mf\u001b[0m\u001b[0;34m(\u001b[0m\u001b[0mins_batch\u001b[0m\u001b[0;34m)\u001b[0m\u001b[0;34m\u001b[0m\u001b[0;34m\u001b[0m\u001b[0m\n\u001b[0m\u001b[1;32m    364\u001b[0m         \u001b[0;32mif\u001b[0m \u001b[0;32mnot\u001b[0m \u001b[0misinstance\u001b[0m\u001b[0;34m(\u001b[0m\u001b[0mbatch_outs\u001b[0m\u001b[0;34m,\u001b[0m \u001b[0mlist\u001b[0m\u001b[0;34m)\u001b[0m\u001b[0;34m:\u001b[0m\u001b[0;34m\u001b[0m\u001b[0;34m\u001b[0m\u001b[0m\n\u001b[1;32m    365\u001b[0m           \u001b[0mbatch_outs\u001b[0m \u001b[0;34m=\u001b[0m \u001b[0;34m[\u001b[0m\u001b[0mbatch_outs\u001b[0m\u001b[0;34m]\u001b[0m\u001b[0;34m\u001b[0m\u001b[0;34m\u001b[0m\u001b[0m\n",
      "\u001b[0;32m/usr/local/lib/python3.7/site-packages/tensorflow/python/keras/backend.py\u001b[0m in \u001b[0;36m__call__\u001b[0;34m(self, inputs)\u001b[0m\n\u001b[1;32m   3290\u001b[0m \u001b[0;34m\u001b[0m\u001b[0m\n\u001b[1;32m   3291\u001b[0m     fetched = self._callable_fn(*array_vals,\n\u001b[0;32m-> 3292\u001b[0;31m                                 run_metadata=self.run_metadata)\n\u001b[0m\u001b[1;32m   3293\u001b[0m     \u001b[0mself\u001b[0m\u001b[0;34m.\u001b[0m\u001b[0m_call_fetch_callbacks\u001b[0m\u001b[0;34m(\u001b[0m\u001b[0mfetched\u001b[0m\u001b[0;34m[\u001b[0m\u001b[0;34m-\u001b[0m\u001b[0mlen\u001b[0m\u001b[0;34m(\u001b[0m\u001b[0mself\u001b[0m\u001b[0;34m.\u001b[0m\u001b[0m_fetches\u001b[0m\u001b[0;34m)\u001b[0m\u001b[0;34m:\u001b[0m\u001b[0;34m]\u001b[0m\u001b[0;34m)\u001b[0m\u001b[0;34m\u001b[0m\u001b[0;34m\u001b[0m\u001b[0m\n\u001b[1;32m   3294\u001b[0m     output_structure = nest.pack_sequence_as(\n",
      "\u001b[0;32m/usr/local/lib/python3.7/site-packages/tensorflow/python/client/session.py\u001b[0m in \u001b[0;36m__call__\u001b[0;34m(self, *args, **kwargs)\u001b[0m\n\u001b[1;32m   1456\u001b[0m         ret = tf_session.TF_SessionRunCallable(self._session._session,\n\u001b[1;32m   1457\u001b[0m                                                \u001b[0mself\u001b[0m\u001b[0;34m.\u001b[0m\u001b[0m_handle\u001b[0m\u001b[0;34m,\u001b[0m \u001b[0margs\u001b[0m\u001b[0;34m,\u001b[0m\u001b[0;34m\u001b[0m\u001b[0;34m\u001b[0m\u001b[0m\n\u001b[0;32m-> 1458\u001b[0;31m                                                run_metadata_ptr)\n\u001b[0m\u001b[1;32m   1459\u001b[0m         \u001b[0;32mif\u001b[0m \u001b[0mrun_metadata\u001b[0m\u001b[0;34m:\u001b[0m\u001b[0;34m\u001b[0m\u001b[0;34m\u001b[0m\u001b[0m\n\u001b[1;32m   1460\u001b[0m           \u001b[0mproto_data\u001b[0m \u001b[0;34m=\u001b[0m \u001b[0mtf_session\u001b[0m\u001b[0;34m.\u001b[0m\u001b[0mTF_GetBuffer\u001b[0m\u001b[0;34m(\u001b[0m\u001b[0mrun_metadata_ptr\u001b[0m\u001b[0;34m)\u001b[0m\u001b[0;34m\u001b[0m\u001b[0;34m\u001b[0m\u001b[0m\n",
      "\u001b[0;31mInvalidArgumentError\u001b[0m: Received a label value of 9 which is outside the valid range of [0, 5).  Label values: 9 8 5 5 8 9 0 4 8 9 6 0 3 4 4 3 3 6 6 3 6 4 1 5 1 3 3 1 3 8 0 4\n\t [[{{node loss_5/output_1_loss/SparseSoftmaxCrossEntropyWithLogits/SparseSoftmaxCrossEntropyWithLogits}}]]"
     ]
    }
   ],
   "source": [
    "# import tensorflow as tf\n",
    "# print(tf.__version__)\n",
    "tf.set_random_seed(seed_value)\n",
    "\n",
    "mnist = tf.keras.datasets.fashion_mnist\n",
    "\n",
    "(training_images, training_labels) ,  (test_images, test_labels) = mnist.load_data()\n",
    "\n",
    "training_images = training_images/255.0\n",
    "test_images = test_images/255.0\n",
    "\n",
    "model = tf.keras.models.Sequential([tf.keras.layers.Flatten(),\n",
    "                                    tf.keras.layers.Dense(64, activation=tf.nn.relu),\n",
    "                                    tf.keras.layers.Dense(5, activation=tf.nn.softmax)])\n",
    "\n",
    "model.compile(optimizer = 'adam',\n",
    "              loss = 'sparse_categorical_crossentropy')\n",
    "\n",
    "t0 = time()\n",
    "model.fit(training_images, training_labels, epochs=5)\n",
    "Δt = time() - t0\n",
    "print(f\"\\nmodel fit Δt: {int(Δt//60)}m, {Δt % 60.0:4.1f}s.\\n\")\n",
    "model.evaluate(test_images, test_labels)\n",
    "print(\"\")\n",
    "\n",
    "classifications = model.predict(test_images)\n",
    "\n",
    "print(\"\\n\", classifications[0])\n",
    "print(test_labels[0])"
   ]
  },
  {
   "cell_type": "markdown",
   "metadata": {
    "colab_type": "text",
    "id": "-0lF5MuvSuZF"
   },
   "source": [
    "### Exercise 5: two hidden layers, each with 128 neurons\n",
    "\n",
    "#### Question 1. Consider the effects of additional layers in the network. What will happen if you add another layer between the one with 512 and the final layer with 10. \n",
    "\n",
    "#### Answer\n",
    "\n",
    "There isn't a significant impact -- because this is relatively simple data. For far more complex data (including color images to be classified as flowers that you'll see in the next lesson), extra layers are often necessary.\n",
    "\n",
    "**100 epochs, GPU: / CPU: ~7m, 40s**"
   ]
  },
  {
   "cell_type": "code",
   "execution_count": 18,
   "metadata": {
    "colab": {},
    "colab_type": "code",
    "id": "b1YPa6UhS8Es",
    "scrolled": true
   },
   "outputs": [
    {
     "name": "stdout",
     "output_type": "stream",
     "text": [
      "Epoch 1/100\n",
      "60000/60000 [==============================] - 5s 86us/sample - loss: 0.48450s\n",
      "Epoch 2/100\n",
      "60000/60000 [==============================] - 5s 79us/sample - loss: 0.3647\n",
      "Epoch 3/100\n",
      "60000/60000 [==============================] - 5s 81us/sample - loss: 0.3287\n",
      "Epoch 4/100\n",
      "60000/60000 [==============================] - 5s 81us/sample - loss: 0.3061\n",
      "Epoch 5/100\n",
      "60000/60000 [==============================] - 5s 78us/sample - loss: 0.2897\n",
      "Epoch 6/100\n",
      "60000/60000 [==============================] - 5s 79us/sample - loss: 0.2744\n",
      "Epoch 7/100\n",
      "60000/60000 [==============================] - 5s 79us/sample - loss: 0.2647\n",
      "Epoch 8/100\n",
      "60000/60000 [==============================] - 5s 80us/sample - loss: 0.2534\n",
      "Epoch 9/100\n",
      "60000/60000 [==============================] - 5s 80us/sample - loss: 0.2416\n",
      "Epoch 10/100\n",
      "60000/60000 [==============================] - 5s 78us/sample - loss: 0.2344\n",
      "Epoch 11/100\n",
      "60000/60000 [==============================] - 5s 80us/sample - loss: 0.2232\n",
      "Epoch 12/100\n",
      "60000/60000 [==============================] - 5s 78us/sample - loss: 0.2173\n",
      "Epoch 13/100\n",
      "60000/60000 [==============================] - 5s 80us/sample - loss: 0.2085\n",
      "Epoch 14/100\n",
      "60000/60000 [==============================] - 5s 81us/sample - loss: 0.2044\n",
      "Epoch 15/100\n",
      "60000/60000 [==============================] - 5s 80us/sample - loss: 0.1959\n",
      "Epoch 16/100\n",
      "60000/60000 [==============================] - 5s 78us/sample - loss: 0.1911\n",
      "Epoch 17/100\n",
      "60000/60000 [==============================] - 5s 79us/sample - loss: 0.18360s - loss: 0.182 - ETA: 0s -\n",
      "Epoch 18/100\n",
      "60000/60000 [==============================] - 5s 79us/sample - loss: 0.1787\n",
      "Epoch 19/100\n",
      "60000/60000 [==============================] - 5s 79us/sample - loss: 0.1758\n",
      "Epoch 20/100\n",
      "60000/60000 [==============================] - 5s 79us/sample - loss: 0.1700\n",
      "Epoch 21/100\n",
      "60000/60000 [==============================] - 5s 80us/sample - loss: 0.1656\n",
      "Epoch 22/100\n",
      "60000/60000 [==============================] - 5s 78us/sample - loss: 0.1590\n",
      "Epoch 23/100\n",
      "60000/60000 [==============================] - 5s 78us/sample - loss: 0.1584\n",
      "Epoch 24/100\n",
      "60000/60000 [==============================] - 5s 77us/sample - loss: 0.1529\n",
      "Epoch 25/100\n",
      "60000/60000 [==============================] - 5s 78us/sample - loss: 0.1488\n",
      "Epoch 26/100\n",
      "60000/60000 [==============================] - 5s 79us/sample - loss: 0.1459\n",
      "Epoch 27/100\n",
      "60000/60000 [==============================] - 5s 79us/sample - loss: 0.1421\n",
      "Epoch 28/100\n",
      "60000/60000 [==============================] - 5s 77us/sample - loss: 0.1396\n",
      "Epoch 29/100\n",
      "60000/60000 [==============================] - 5s 77us/sample - loss: 0.1381\n",
      "Epoch 30/100\n",
      "60000/60000 [==============================] - 5s 77us/sample - loss: 0.1338\n",
      "Epoch 31/100\n",
      "60000/60000 [==============================] - 5s 78us/sample - loss: 0.1278\n",
      "Epoch 32/100\n",
      "60000/60000 [==============================] - 5s 78us/sample - loss: 0.1240\n",
      "Epoch 33/100\n",
      "60000/60000 [==============================] - 5s 77us/sample - loss: 0.1229\n",
      "Epoch 34/100\n",
      "60000/60000 [==============================] - 5s 78us/sample - loss: 0.1204\n",
      "Epoch 35/100\n",
      "60000/60000 [==============================] - 5s 77us/sample - loss: 0.1173\n",
      "Epoch 36/100\n",
      "60000/60000 [==============================] - 5s 76us/sample - loss: 0.1142\n",
      "Epoch 37/100\n",
      "60000/60000 [==============================] - 5s 76us/sample - loss: 0.1137\n",
      "Epoch 38/100\n",
      "60000/60000 [==============================] - 5s 77us/sample - loss: 0.1121\n",
      "Epoch 39/100\n",
      "60000/60000 [==============================] - 5s 76us/sample - loss: 0.1087\n",
      "Epoch 40/100\n",
      "60000/60000 [==============================] - 5s 76us/sample - loss: 0.1060\n",
      "Epoch 41/100\n",
      "60000/60000 [==============================] - 5s 76us/sample - loss: 0.1063\n",
      "Epoch 42/100\n",
      "60000/60000 [==============================] - 5s 76us/sample - loss: 0.1052\n",
      "Epoch 43/100\n",
      "60000/60000 [==============================] - 5s 75us/sample - loss: 0.1012\n",
      "Epoch 44/100\n",
      "60000/60000 [==============================] - 5s 76us/sample - loss: 0.0994\n",
      "Epoch 45/100\n",
      "60000/60000 [==============================] - 4s 74us/sample - loss: 0.0976\n",
      "Epoch 46/100\n",
      "60000/60000 [==============================] - 5s 76us/sample - loss: 0.0961\n",
      "Epoch 47/100\n",
      "60000/60000 [==============================] - 5s 75us/sample - loss: 0.0957\n",
      "Epoch 48/100\n",
      "60000/60000 [==============================] - 5s 75us/sample - loss: 0.0953\n",
      "Epoch 49/100\n",
      "60000/60000 [==============================] - 4s 75us/sample - loss: 0.0924\n",
      "Epoch 50/100\n",
      "60000/60000 [==============================] - 5s 75us/sample - loss: 0.0892\n",
      "Epoch 51/100\n",
      "60000/60000 [==============================] - 4s 75us/sample - loss: 0.0919\n",
      "Epoch 52/100\n",
      "60000/60000 [==============================] - 4s 75us/sample - loss: 0.0903\n",
      "Epoch 53/100\n",
      "60000/60000 [==============================] - 4s 74us/sample - loss: 0.0855\n",
      "Epoch 54/100\n",
      "60000/60000 [==============================] - 4s 74us/sample - loss: 0.0856\n",
      "Epoch 55/100\n",
      "60000/60000 [==============================] - 5s 75us/sample - loss: 0.0846\n",
      "Epoch 56/100\n",
      "60000/60000 [==============================] - 5s 75us/sample - loss: 0.0829\n",
      "Epoch 57/100\n",
      "60000/60000 [==============================] - 4s 74us/sample - loss: 0.0824\n",
      "Epoch 58/100\n",
      "60000/60000 [==============================] - 5s 77us/sample - loss: 0.0776\n",
      "Epoch 59/100\n",
      "60000/60000 [==============================] - 4s 75us/sample - loss: 0.0792\n",
      "Epoch 60/100\n",
      "60000/60000 [==============================] - 5s 75us/sample - loss: 0.0780\n",
      "Epoch 61/100\n",
      "60000/60000 [==============================] - 5s 76us/sample - loss: 0.0765\n",
      "Epoch 62/100\n",
      "60000/60000 [==============================] - 5s 75us/sample - loss: 0.0758\n",
      "Epoch 63/100\n",
      "60000/60000 [==============================] - 4s 74us/sample - loss: 0.0759\n",
      "Epoch 64/100\n",
      "60000/60000 [==============================] - 5s 75us/sample - loss: 0.0739\n",
      "Epoch 65/100\n",
      "60000/60000 [==============================] - 4s 73us/sample - loss: 0.0738\n",
      "Epoch 66/100\n",
      "60000/60000 [==============================] - 4s 73us/sample - loss: 0.0758\n",
      "Epoch 67/100\n",
      "60000/60000 [==============================] - 4s 73us/sample - loss: 0.0705\n",
      "Epoch 68/100\n",
      "60000/60000 [==============================] - 4s 72us/sample - loss: 0.0728\n",
      "Epoch 69/100\n",
      "60000/60000 [==============================] - 4s 72us/sample - loss: 0.0672\n",
      "Epoch 70/100\n",
      "60000/60000 [==============================] - 4s 74us/sample - loss: 0.0665\n",
      "Epoch 71/100\n",
      "60000/60000 [==============================] - 4s 73us/sample - loss: 0.0682\n",
      "Epoch 72/100\n",
      "60000/60000 [==============================] - 4s 73us/sample - loss: 0.0723\n",
      "Epoch 73/100\n",
      "60000/60000 [==============================] - 4s 73us/sample - loss: 0.0667\n",
      "Epoch 74/100\n",
      "60000/60000 [==============================] - 4s 73us/sample - loss: 0.0622\n",
      "Epoch 75/100\n",
      "60000/60000 [==============================] - 4s 72us/sample - loss: 0.0680\n",
      "Epoch 76/100\n",
      "60000/60000 [==============================] - 4s 71us/sample - loss: 0.0664\n",
      "Epoch 77/100\n",
      "60000/60000 [==============================] - 4s 72us/sample - loss: 0.0642\n",
      "Epoch 78/100\n",
      "60000/60000 [==============================] - 4s 71us/sample - loss: 0.0601\n",
      "Epoch 79/100\n",
      "60000/60000 [==============================] - 4s 72us/sample - loss: 0.0615\n",
      "Epoch 80/100\n",
      "60000/60000 [==============================] - 4s 72us/sample - loss: 0.0616\n",
      "Epoch 81/100\n",
      "60000/60000 [==============================] - 4s 73us/sample - loss: 0.0604\n",
      "Epoch 82/100\n",
      "60000/60000 [==============================] - 4s 72us/sample - loss: 0.0613\n",
      "Epoch 83/100\n",
      "60000/60000 [==============================] - 4s 72us/sample - loss: 0.0601\n",
      "Epoch 84/100\n",
      "60000/60000 [==============================] - 4s 70us/sample - loss: 0.0579\n",
      "Epoch 85/100\n",
      "60000/60000 [==============================] - 4s 70us/sample - loss: 0.0577\n",
      "Epoch 86/100\n",
      "60000/60000 [==============================] - 5s 77us/sample - loss: 0.0605\n",
      "Epoch 87/100\n",
      "60000/60000 [==============================] - 4s 75us/sample - loss: 0.0610\n",
      "Epoch 88/100\n",
      "60000/60000 [==============================] - 4s 75us/sample - loss: 0.0509\n",
      "Epoch 89/100\n",
      "60000/60000 [==============================] - 4s 74us/sample - loss: 0.0603\n",
      "Epoch 90/100\n",
      "60000/60000 [==============================] - 4s 72us/sample - loss: 0.0565\n",
      "Epoch 91/100\n",
      "60000/60000 [==============================] - 5s 81us/sample - loss: 0.0552\n",
      "Epoch 92/100\n",
      "60000/60000 [==============================] - 5s 82us/sample - loss: 0.0545\n",
      "Epoch 93/100\n",
      "60000/60000 [==============================] - 5s 81us/sample - loss: 0.0532\n",
      "Epoch 94/100\n",
      "60000/60000 [==============================] - 5s 80us/sample - loss: 0.0580\n",
      "Epoch 95/100\n",
      "60000/60000 [==============================] - 5s 80us/sample - loss: 0.0488\n",
      "Epoch 96/100\n",
      "60000/60000 [==============================] - 5s 81us/sample - loss: 0.0510\n",
      "Epoch 97/100\n",
      "60000/60000 [==============================] - 5s 81us/sample - loss: 0.0574\n",
      "Epoch 98/100\n",
      "60000/60000 [==============================] - 5s 81us/sample - loss: 0.0517\n",
      "Epoch 99/100\n",
      "60000/60000 [==============================] - 5s 77us/sample - loss: 0.0521\n",
      "Epoch 100/100\n",
      "60000/60000 [==============================] - 4s 70us/sample - loss: 0.0524\n",
      "\n",
      "model fit Δt: 7m, 38.1s.\n",
      "\n",
      "10000/10000 [==============================] - 0s 46us/sample - loss: 1.0361\n",
      "\n",
      "\n",
      " [3.5235197e-30 5.3614298e-28 0.0000000e+00 0.0000000e+00 1.5412089e-31\n",
      " 7.7195778e-20 4.6257668e-24 1.0397008e-11 3.9624158e-30 1.0000000e+00]\n",
      "9\n"
     ]
    }
   ],
   "source": [
    "# import tensorflow as tf\n",
    "# print(tf.__version__)\n",
    "tf.set_random_seed(seed_value)\n",
    "\n",
    "mnist = tf.keras.datasets.fashion_mnist\n",
    "\n",
    "(training_images, training_labels) ,  (test_images, test_labels) = mnist.load_data()\n",
    "\n",
    "training_images = training_images/255.0\n",
    "test_images = test_images/255.0\n",
    "\n",
    "model = tf.keras.models.Sequential([tf.keras.layers.Flatten(),\n",
    "                                    tf.keras.layers.Dense(128, activation=tf.nn.relu),\n",
    "                                    tf.keras.layers.Dense(128, activation=tf.nn.relu),\n",
    "                                    tf.keras.layers.Dense(10, activation=tf.nn.softmax)])\n",
    "\n",
    "model.compile(optimizer = 'adam',\n",
    "              loss = 'sparse_categorical_crossentropy')\n",
    "\n",
    "t0 = time()\n",
    "model.fit(training_images, training_labels, epochs=100)\n",
    "Δt = time() - t0\n",
    "print(f\"\\nmodel fit Δt: {int(Δt//60)}m, {Δt % 60.0:4.1f}s.\\n\")\n",
    "model.evaluate(test_images, test_labels)\n",
    "print(\"\")\n",
    "\n",
    "classifications = model.predict(test_images)\n",
    "\n",
    "print(\"\\n\", classifications[0])\n",
    "print(test_labels[0])"
   ]
  },
  {
   "cell_type": "markdown",
   "metadata": {
    "colab_type": "text",
    "id": "Bql9fyaNUSFy"
   },
   "source": [
    "### Exercise 6: hidden layer 512 neurons, 50 epochs\n",
    "\n",
    "#### Question 1. Consider the impact of training for more or fewer epochs. Why do you think that would be the case? \n",
    "\n",
    "Try 15 epochs -- you'll probably get a model with a much better loss than the one with 5\n",
    "Try 30 epochs -- you might see the loss value stops decreasing, and sometimes increases. This is a side effect of something called 'overfitting' which you can learn about [somewhere] and it's something you need to keep an eye out for when training neural networks. There's no point in wasting your time training if you aren't improving your loss, right! :)\n",
    "\n",
    "**50 epochs, GPU: / CPU: ~5m, 40s**"
   ]
  },
  {
   "cell_type": "code",
   "execution_count": 19,
   "metadata": {
    "colab": {},
    "colab_type": "code",
    "id": "uE3esj9BURQe"
   },
   "outputs": [
    {
     "name": "stdout",
     "output_type": "stream",
     "text": [
      "Epoch 1/50\n",
      "60000/60000 [==============================] - 7s 120us/sample - loss: 0.4727\n",
      "Epoch 2/50\n",
      "60000/60000 [==============================] - 7s 114us/sample - loss: 0.3607\n",
      "Epoch 3/50\n",
      "60000/60000 [==============================] - 7s 113us/sample - loss: 0.3226\n",
      "Epoch 4/50\n",
      "60000/60000 [==============================] - 7s 114us/sample - loss: 0.2986\n",
      "Epoch 5/50\n",
      "60000/60000 [==============================] - 7s 112us/sample - loss: 0.2808\n",
      "Epoch 6/50\n",
      "60000/60000 [==============================] - 7s 113us/sample - loss: 0.2625\n",
      "Epoch 7/50\n",
      "60000/60000 [==============================] - 7s 115us/sample - loss: 0.2510\n",
      "Epoch 8/50\n",
      "60000/60000 [==============================] - 7s 113us/sample - loss: 0.2408\n",
      "Epoch 9/50\n",
      "60000/60000 [==============================] - 7s 114us/sample - loss: 0.2293\n",
      "Epoch 10/50\n",
      "60000/60000 [==============================] - 7s 113us/sample - loss: 0.2218\n",
      "Epoch 11/50\n",
      "60000/60000 [==============================] - 7s 115us/sample - loss: 0.2144\n",
      "Epoch 12/50\n",
      "60000/60000 [==============================] - 7s 114us/sample - loss: 0.2052\n",
      "Epoch 13/50\n",
      "60000/60000 [==============================] - 7s 113us/sample - loss: 0.1960\n",
      "Epoch 14/50\n",
      "60000/60000 [==============================] - 7s 112us/sample - loss: 0.1908\n",
      "Epoch 15/50\n",
      "60000/60000 [==============================] - 7s 112us/sample - loss: 0.1835\n",
      "Epoch 16/50\n",
      "60000/60000 [==============================] - 7s 112us/sample - loss: 0.1811\n",
      "Epoch 17/50\n",
      "60000/60000 [==============================] - 7s 112us/sample - loss: 0.1730\n",
      "Epoch 18/50\n",
      "60000/60000 [==============================] - 7s 112us/sample - loss: 0.1686\n",
      "Epoch 19/50\n",
      "60000/60000 [==============================] - 7s 112us/sample - loss: 0.1620\n",
      "Epoch 20/50\n",
      "60000/60000 [==============================] - 7s 111us/sample - loss: 0.1591\n",
      "Epoch 21/50\n",
      "60000/60000 [==============================] - 7s 112us/sample - loss: 0.1539\n",
      "Epoch 22/50\n",
      "60000/60000 [==============================] - 7s 112us/sample - loss: 0.1510\n",
      "Epoch 23/50\n",
      "60000/60000 [==============================] - 7s 112us/sample - loss: 0.1458\n",
      "Epoch 24/50\n",
      "60000/60000 [==============================] - 7s 111us/sample - loss: 0.1406\n",
      "Epoch 25/50\n",
      "60000/60000 [==============================] - 7s 112us/sample - loss: 0.1375\n",
      "Epoch 26/50\n",
      "60000/60000 [==============================] - 7s 113us/sample - loss: 0.1351\n",
      "Epoch 27/50\n",
      "60000/60000 [==============================] - 7s 112us/sample - loss: 0.1283\n",
      "Epoch 28/50\n",
      "60000/60000 [==============================] - 7s 118us/sample - loss: 0.1260\n",
      "Epoch 29/50\n",
      "60000/60000 [==============================] - 7s 114us/sample - loss: 0.1242\n",
      "Epoch 30/50\n",
      "60000/60000 [==============================] - 7s 112us/sample - loss: 0.1206\n",
      "Epoch 31/50\n",
      "60000/60000 [==============================] - 7s 112us/sample - loss: 0.1179\n",
      "Epoch 32/50\n",
      "60000/60000 [==============================] - 7s 111us/sample - loss: 0.1144\n",
      "Epoch 33/50\n",
      "60000/60000 [==============================] - 7s 111us/sample - loss: 0.1117\n",
      "Epoch 34/50\n",
      "60000/60000 [==============================] - 7s 111us/sample - loss: 0.1096\n",
      "Epoch 35/50\n",
      "60000/60000 [==============================] - 7s 112us/sample - loss: 0.1062\n",
      "Epoch 36/50\n",
      "60000/60000 [==============================] - 7s 112us/sample - loss: 0.1058\n",
      "Epoch 37/50\n",
      "60000/60000 [==============================] - 7s 113us/sample - loss: 0.1028\n",
      "Epoch 38/50\n",
      "60000/60000 [==============================] - 7s 115us/sample - loss: 0.1008\n",
      "Epoch 39/50\n",
      "60000/60000 [==============================] - 7s 112us/sample - loss: 0.0983\n",
      "Epoch 40/50\n",
      "60000/60000 [==============================] - 7s 113us/sample - loss: 0.0998\n",
      "Epoch 41/50\n",
      "60000/60000 [==============================] - 7s 112us/sample - loss: 0.0951\n",
      "Epoch 42/50\n",
      "60000/60000 [==============================] - 7s 113us/sample - loss: 0.0903\n",
      "Epoch 43/50\n",
      "60000/60000 [==============================] - 7s 111us/sample - loss: 0.0913\n",
      "Epoch 44/50\n",
      "60000/60000 [==============================] - 7s 111us/sample - loss: 0.0912\n",
      "Epoch 45/50\n",
      "60000/60000 [==============================] - 7s 111us/sample - loss: 0.0873\n",
      "Epoch 46/50\n",
      "60000/60000 [==============================] - 7s 111us/sample - loss: 0.0876\n",
      "Epoch 47/50\n",
      "60000/60000 [==============================] - 7s 112us/sample - loss: 0.0825\n",
      "Epoch 48/50\n",
      "60000/60000 [==============================] - 7s 113us/sample - loss: 0.0859\n",
      "Epoch 49/50\n",
      "60000/60000 [==============================] - 7s 115us/sample - loss: 0.0816\n",
      "Epoch 50/50\n",
      "60000/60000 [==============================] - 7s 111us/sample - loss: 0.0800\n",
      "\n",
      "model fit Δt: 5m, 38.4s.\n",
      "\n",
      "10000/10000 [==============================] - 1s 58us/sample - loss: 0.6030\n",
      "\n",
      "\n",
      " [1.9045789e-29 8.0406305e-29 1.4603901e-31 0.0000000e+00 3.8137137e-31\n",
      " 1.9946210e-12 1.3396883e-33 5.6032667e-09 2.2578751e-27 1.0000000e+00]\n",
      "9\n"
     ]
    }
   ],
   "source": [
    "# import tensorflow as tf\n",
    "# print(tf.__version__)\n",
    "tf.set_random_seed(seed_value)\n",
    "\n",
    "mnist = tf.keras.datasets.fashion_mnist\n",
    "\n",
    "(training_images, training_labels) ,  (test_images, test_labels) = mnist.load_data()\n",
    "\n",
    "training_images = training_images/255.0\n",
    "test_images = test_images/255.0\n",
    "\n",
    "model = tf.keras.models.Sequential([tf.keras.layers.Flatten(),\n",
    "                                    tf.keras.layers.Dense(512, activation=tf.nn.relu),\n",
    "                                    tf.keras.layers.Dense(10, activation=tf.nn.softmax)])\n",
    "\n",
    "model.compile(optimizer = 'adam',\n",
    "              loss = 'sparse_categorical_crossentropy')\n",
    "\n",
    "t0 = time()\n",
    "model.fit(training_images, training_labels, epochs=50)\n",
    "Δt = time() - t0\n",
    "print(f\"\\nmodel fit Δt: {int(Δt//60)}m, {Δt % 60.0:4.1f}s.\\n\")\n",
    "model.evaluate(test_images, test_labels)\n",
    "print(\"\")\n",
    "\n",
    "classifications = model.predict(test_images)\n",
    "\n",
    "print(\"\\n\", classifications[0])\n",
    "print(test_labels[0])"
   ]
  },
  {
   "cell_type": "markdown",
   "metadata": {
    "colab_type": "text",
    "id": "HS3vVkOgCDGZ"
   },
   "source": [
    "### Exercise 7: 512 hidden neurons, un-normalized inputs\n",
    "\n",
    "#### Question 1. Before you trained, you normalized the data, going from values that were 0-255 to values that were 0-1. What would be the impact of removing that?\n",
    "\n",
    "Here's the complete code to give it a try. Why do you think you get different results?\n",
    "\n",
    "<font color=\"darkgreen\">**The poor results (non-normalized pixel intensities) result from very shallow gradients in softmax when input values &Gt; 1. (The linear relu mapping to the hidden layer does not affect results except where negative bias terms &rarr; 0 values.)**</font>\n",
    "\n",
    "\n",
    "\n",
    "**25 epochs, GPU: / CPU: ~2m, 45s**"
   ]
  },
  {
   "cell_type": "code",
   "execution_count": 6,
   "metadata": {
    "colab": {},
    "colab_type": "code",
    "id": "JDqNAqrpCNg0"
   },
   "outputs": [
    {
     "name": "stdout",
     "output_type": "stream",
     "text": [
      "Epoch 1/25\n",
      "60000/60000 [==============================] - 8s 131us/sample - loss: 4.7375\n",
      "Epoch 2/25\n",
      "60000/60000 [==============================] - 6s 107us/sample - loss: 0.5536\n",
      "Epoch 3/25\n",
      "60000/60000 [==============================] - 6s 107us/sample - loss: 0.5076\n",
      "Epoch 4/25\n",
      "60000/60000 [==============================] - 6s 108us/sample - loss: 0.5019\n",
      "Epoch 5/25\n",
      "60000/60000 [==============================] - 6s 108us/sample - loss: 0.4923\n",
      "Epoch 6/25\n",
      "60000/60000 [==============================] - 6s 107us/sample - loss: 0.4654\n",
      "Epoch 7/25\n",
      "60000/60000 [==============================] - 6s 108us/sample - loss: 0.4667\n",
      "Epoch 8/25\n",
      "60000/60000 [==============================] - 6s 107us/sample - loss: 0.4597\n",
      "Epoch 9/25\n",
      "60000/60000 [==============================] - 7s 109us/sample - loss: 0.4524\n",
      "Epoch 10/25\n",
      "60000/60000 [==============================] - 6s 108us/sample - loss: 0.4469\n",
      "Epoch 11/25\n",
      "60000/60000 [==============================] - 7s 109us/sample - loss: 0.4481\n",
      "Epoch 12/25\n",
      "60000/60000 [==============================] - 6s 108us/sample - loss: 0.4411\n",
      "Epoch 13/25\n",
      "60000/60000 [==============================] - 7s 109us/sample - loss: 0.4352\n",
      "Epoch 14/25\n",
      "60000/60000 [==============================] - 6s 108us/sample - loss: 0.4382\n",
      "Epoch 15/25\n",
      "60000/60000 [==============================] - 7s 108us/sample - loss: 0.4485\n",
      "Epoch 16/25\n",
      "60000/60000 [==============================] - 7s 109us/sample - loss: 0.4327\n",
      "Epoch 17/25\n",
      "60000/60000 [==============================] - 7s 110us/sample - loss: 0.4232\n",
      "Epoch 18/25\n",
      "60000/60000 [==============================] - 7s 109us/sample - loss: 0.4257\n",
      "Epoch 19/25\n",
      "60000/60000 [==============================] - 7s 109us/sample - loss: 0.4276\n",
      "Epoch 20/25\n",
      "60000/60000 [==============================] - 6s 108us/sample - loss: 0.4249\n",
      "Epoch 21/25\n",
      "60000/60000 [==============================] - 7s 108us/sample - loss: 0.4427\n",
      "Epoch 22/25\n",
      "60000/60000 [==============================] - 6s 108us/sample - loss: 0.4322\n",
      "Epoch 23/25\n",
      "60000/60000 [==============================] - 6s 108us/sample - loss: 0.4227\n",
      "Epoch 24/25\n",
      "60000/60000 [==============================] - 7s 109us/sample - loss: 0.4394\n",
      "Epoch 25/25\n",
      "60000/60000 [==============================] - 7s 109us/sample - loss: 0.4278\n",
      "\n",
      "model fit Δt: 2m, 44.3s.\n",
      "\n",
      "10000/10000 [==============================] - 0s 48us/sample - loss: 0.5513\n",
      "\n",
      "\n",
      " [0.0000000e+00 2.2304909e-34 0.0000000e+00 0.0000000e+00 0.0000000e+00\n",
      " 2.5079723e-03 0.0000000e+00 1.4297239e-04 0.0000000e+00 9.9734902e-01]\n",
      "9\n"
     ]
    }
   ],
   "source": [
    "# import tensorflow as tf\n",
    "# print(tf.__version__)\n",
    "tf.set_random_seed(seed_value)\n",
    "\n",
    "mnist = tf.keras.datasets.fashion_mnist\n",
    "\n",
    "(training_images, training_labels), (test_images, test_labels) = mnist.load_data()\n",
    "\n",
    "training_images=training_images/1.0\t\t# This merely converts to floating point\n",
    "test_images=test_images/1.0\n",
    "\n",
    "model = tf.keras.models.Sequential([tf.keras.layers.Flatten(),\n",
    "                                    tf.keras.layers.Dense(512, activation=tf.nn.relu),\n",
    "                                    tf.keras.layers.Dense(10, activation=tf.nn.softmax)])\n",
    "\n",
    "model.compile(optimizer='adam',\n",
    "              loss='sparse_categorical_crossentropy')\n",
    "\n",
    "t0 = time()\n",
    "model.fit(training_images, training_labels, epochs=25)\n",
    "Δt = time() - t0\n",
    "print(f\"\\nmodel fit Δt: {int(Δt//60)}m, {Δt % 60.0:4.1f}s.\\n\")\n",
    "model.evaluate(test_images, test_labels)\n",
    "print(\"\")\n",
    "\n",
    "classifications = model.predict(test_images)\n",
    "\n",
    "print(\"\\n\", classifications[0])\n",
    "print(test_labels[0])"
   ]
  },
  {
   "cell_type": "markdown",
   "metadata": {
    "colab_type": "text",
    "id": "E7W2PT66ZBHQ"
   },
   "source": [
    "### Exercise 8: \"standard\" model, interrupted when loss < 0.15\n",
    "\n",
    "Earlier when you trained for extra epochs you had an issue where your loss might change. It might have taken a bit of time for you to wait for the training to do that, and you might have thought 'wouldn't it be nice if I could stop the training when I reach a desired value?' -- i.e. 95% accuracy might be enough for you, and if you reach that after 3 epochs, why sit around waiting for it to finish a lot more epochs....So how would you fix that? Like any other program...you have callbacks! Let's see them in action...\n",
    "\n",
    "**2x epochs, GPU: / CPU: ~1m, s**"
   ]
  },
  {
   "cell_type": "code",
   "execution_count": 7,
   "metadata": {
    "colab": {},
    "colab_type": "code",
    "id": "pkaEHHgqZbYv"
   },
   "outputs": [
    {
     "name": "stdout",
     "output_type": "stream",
     "text": [
      "Epoch 1/25\n",
      "60000/60000 [==============================] - 7s 112us/sample - loss: 0.4729\n",
      "Epoch 2/25\n",
      "60000/60000 [==============================] - 7s 111us/sample - loss: 0.3588\n",
      "Epoch 3/25\n",
      "60000/60000 [==============================] - 7s 111us/sample - loss: 0.3209\n",
      "Epoch 4/25\n",
      "60000/60000 [==============================] - 7s 110us/sample - loss: 0.2966\n",
      "Epoch 5/25\n",
      "60000/60000 [==============================] - 7s 111us/sample - loss: 0.2799\n",
      "Epoch 6/25\n",
      "60000/60000 [==============================] - 7s 110us/sample - loss: 0.2652\n",
      "Epoch 7/25\n",
      "60000/60000 [==============================] - 7s 109us/sample - loss: 0.2518\n",
      "Epoch 8/25\n",
      "60000/60000 [==============================] - 7s 112us/sample - loss: 0.2426\n",
      "Epoch 9/25\n",
      "60000/60000 [==============================] - 7s 113us/sample - loss: 0.2313\n",
      "Epoch 10/25\n",
      "60000/60000 [==============================] - 7s 111us/sample - loss: 0.2234\n",
      "Epoch 11/25\n",
      "60000/60000 [==============================] - 7s 111us/sample - loss: 0.2128\n",
      "Epoch 12/25\n",
      "60000/60000 [==============================] - 7s 110us/sample - loss: 0.2052\n",
      "Epoch 13/25\n",
      "60000/60000 [==============================] - 7s 110us/sample - loss: 0.1974\n",
      "Epoch 14/25\n",
      "60000/60000 [==============================] - 7s 110us/sample - loss: 0.1915\n",
      "Epoch 15/25\n",
      "60000/60000 [==============================] - 7s 111us/sample - loss: 0.1836\n",
      "Epoch 16/25\n",
      "60000/60000 [==============================] - 7s 110us/sample - loss: 0.1777\n",
      "Epoch 17/25\n",
      "60000/60000 [==============================] - 7s 110us/sample - loss: 0.1720\n",
      "Epoch 18/25\n",
      "60000/60000 [==============================] - 7s 111us/sample - loss: 0.1687\n",
      "Epoch 19/25\n",
      "60000/60000 [==============================] - 7s 109us/sample - loss: 0.1624\n",
      "Epoch 20/25\n",
      "60000/60000 [==============================] - 7s 110us/sample - loss: 0.1594\n",
      "Epoch 21/25\n",
      "60000/60000 [==============================] - 7s 112us/sample - loss: 0.1537\n",
      "Epoch 22/25\n",
      "59648/60000 [============================>.] - ETA: 0s - loss: 0.1464\n",
      "Reached 85% accuracy so cancelling training!\n",
      "60000/60000 [==============================] - 7s 111us/sample - loss: 0.1462\n",
      "\n",
      "model fit Δt: 2m, 26.4s.\n",
      "\n",
      "10000/10000 [==============================] - 1s 51us/sample - loss: 0.3759\n",
      "\n",
      "\n",
      " [2.0639333e-17 4.4007718e-20 9.8756241e-18 9.8625670e-24 1.8242249e-16\n",
      " 2.0454716e-07 2.8667591e-15 1.3607236e-05 6.7534735e-18 9.9998617e-01]\n",
      "9\n"
     ]
    }
   ],
   "source": [
    "# import tensorflow as tf\n",
    "# print(tf.__version__)\n",
    "tf.set_random_seed(seed_value)\n",
    "\n",
    "class myCallback(tf.keras.callbacks.Callback):\n",
    "    def on_epoch_end(self, epoch, logs={}):\n",
    "        if(logs.get('loss')<0.15):\n",
    "            print(\"\\nReached 85% accuracy so cancelling training!\")\n",
    "            self.model.stop_training = True\n",
    "\n",
    "callbacks = myCallback()\n",
    "\n",
    "\n",
    "mnist = tf.keras.datasets.fashion_mnist\n",
    "(training_images, training_labels) ,  (test_images, test_labels) = mnist.load_data()\n",
    "\n",
    "training_images = training_images/255.0\n",
    "test_images = test_images/255.0\n",
    "\n",
    "model = tf.keras.models.Sequential([tf.keras.layers.Flatten(),\n",
    "                                    tf.keras.layers.Dense(512, activation=tf.nn.relu),\n",
    "                                    tf.keras.layers.Dense(10, activation=tf.nn.softmax)])\n",
    "\n",
    "model.compile(optimizer = 'adam',\n",
    "              loss = 'sparse_categorical_crossentropy')\n",
    "\n",
    "t0 = time()\n",
    "model.fit(training_images, training_labels, epochs=25, callbacks=[callbacks])\n",
    "Δt = time() - t0\n",
    "print(f\"\\nmodel fit Δt: {int(Δt//60)}m, {Δt % 60.0:4.1f}s.\\n\")\n",
    "model.evaluate(test_images, test_labels)\n",
    "print(\"\")\n",
    "\n",
    "classifications = model.predict(test_images)\n",
    "\n",
    "print(\"\\n\", classifications[0])\n",
    "print(test_labels[0])"
   ]
  },
  {
   "cell_type": "markdown",
   "metadata": {},
   "source": [
    "## Summary of results\n",
    "\n",
    "|Exercise|Description|Train Error @10|Train Steps|Final Train Error|Test Error|\n",
    "|:------:|-----------|:-------------:|:---------:|:---------------:|:--------:|\n",
    "|Baseline|512 hidden|0.2230|25|0.1360|0.3991|\n",
    "|&nbsp;|128 hidden|0.2360|25|0.1581|0.3672|\n",
    "|2|1024 hidden|0.2189|50|0.0784|0.5889|\n",
    "|5|128 & 128 hidden|0.2344|100|0.0524|1.0361|\n",
    "|6|512 hidden|0.2218|50|0.0800|0.6030|\n",
    "|7|512 hidden, not normed|0.4469|25|0.4278|0.5513|\n",
    "|8|512 hidden, callback|0.2234|22|0.1462|0.3759|"
   ]
  }
 ],
 "metadata": {
  "colab": {
   "collapsed_sections": [],
   "name": "Course 1 - Part 4 - Lesson 2 - Notebook.ipynb",
   "provenance": [
    {
     "file_id": "1yhyaHJIeyutXBuE2HmViuD-tV5EMqzUG",
     "timestamp": 1547798065395
    }
   ],
   "version": "0.3.2"
  },
  "kernelspec": {
   "display_name": "Python 3",
   "language": "python",
   "name": "python3"
  },
  "language_info": {
   "codemirror_mode": {
    "name": "ipython",
    "version": 3
   },
   "file_extension": ".py",
   "mimetype": "text/x-python",
   "name": "python",
   "nbconvert_exporter": "python",
   "pygments_lexer": "ipython3",
   "version": "3.7.3"
  },
  "toc": {
   "base_numbering": 1,
   "nav_menu": {},
   "number_sections": false,
   "sideBar": true,
   "skip_h1_title": true,
   "title_cell": "Table of Contents",
   "title_sidebar": "Contents",
   "toc_cell": false,
   "toc_position": {
    "height": "116px",
    "left": "10px",
    "top": "150px",
    "width": "282.391px"
   },
   "toc_section_display": false,
   "toc_window_display": true
  }
 },
 "nbformat": 4,
 "nbformat_minor": 1
}
